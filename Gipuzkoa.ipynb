{
 "cells": [
  {
   "cell_type": "code",
   "execution_count": 1,
   "metadata": {},
   "outputs": [],
   "source": [
    "import pandas as pd"
   ]
  },
  {
   "cell_type": "code",
   "execution_count": 2,
   "metadata": {},
   "outputs": [],
   "source": [
    "gipuzkoa = '../TFM/gipuzkoa2019.csv'"
   ]
  },
  {
   "cell_type": "code",
   "execution_count": 59,
   "metadata": {},
   "outputs": [
    {
     "data": {
      "text/html": [
       "<div>\n",
       "<style scoped>\n",
       "    .dataframe tbody tr th:only-of-type {\n",
       "        vertical-align: middle;\n",
       "    }\n",
       "\n",
       "    .dataframe tbody tr th {\n",
       "        vertical-align: top;\n",
       "    }\n",
       "\n",
       "    .dataframe thead th {\n",
       "        text-align: right;\n",
       "    }\n",
       "</style>\n",
       "<table border=\"1\" class=\"dataframe\">\n",
       "  <thead>\n",
       "    <tr style=\"text-align: right;\">\n",
       "      <th></th>\n",
       "      <th>ORDUA-HORA</th>\n",
       "      <th>ZENB-ESCRUT.</th>\n",
       "      <th>ESPARRUARREN KOD.-COD.AMBITO</th>\n",
       "      <th>ESPARRUAREN IZENA-NOMBRE AMBITO</th>\n",
       "      <th>ZENTSUA-CENSO</th>\n",
       "      <th>HAUTETSIAK-ELECTOS</th>\n",
       "      <th>PARTE HARTZE %-% PARTICIPACION</th>\n",
       "      <th>HAUTESLEAK-VOTANTES</th>\n",
       "      <th>BALIOGABEAK-NULOS</th>\n",
       "      <th>BALIOZKOAK-VALIDOS</th>\n",
       "      <th>...</th>\n",
       "      <th>15 HAUTAGAIA-CANDIDATURA 15</th>\n",
       "      <th>BALIOZKO BOTOEKIKO %-% SOBRE VOTOS VALIDOS.14</th>\n",
       "      <th>BOTOAK-VOTOS.14</th>\n",
       "      <th>HAUTETSIAK-ELECTOS.15</th>\n",
       "      <th>ANTEULT.ESCAÑO</th>\n",
       "      <th>ULTIMO ESCAÑO</th>\n",
       "      <th>PARTIDO 1 OPTA ULT.ESCAÑO</th>\n",
       "      <th>VOTOS PARTIDO 1</th>\n",
       "      <th>PARTIDO 2 OPTA ULT.ESCAÑO</th>\n",
       "      <th>VOTOS PARTIDO 2</th>\n",
       "    </tr>\n",
       "  </thead>\n",
       "  <tbody>\n",
       "    <tr>\n",
       "      <th>0</th>\n",
       "      <td>09:57</td>\n",
       "      <td>100.0</td>\n",
       "      <td>999</td>\n",
       "      <td>G I P U Z K O A</td>\n",
       "      <td>558145</td>\n",
       "      <td>986</td>\n",
       "      <td>66.62</td>\n",
       "      <td>371889</td>\n",
       "      <td>3246.0</td>\n",
       "      <td>368643.0</td>\n",
       "      <td>...</td>\n",
       "      <td>BESTEAK-OTROS</td>\n",
       "      <td>2.24</td>\n",
       "      <td>7915</td>\n",
       "      <td>126</td>\n",
       "      <td></td>\n",
       "      <td></td>\n",
       "      <td></td>\n",
       "      <td>0.0</td>\n",
       "      <td></td>\n",
       "      <td>0.0</td>\n",
       "    </tr>\n",
       "    <tr>\n",
       "      <th>1</th>\n",
       "      <td>09:57</td>\n",
       "      <td>100.0</td>\n",
       "      <td>1</td>\n",
       "      <td>ABALTZISKETA</td>\n",
       "      <td>253</td>\n",
       "      <td>7</td>\n",
       "      <td>69.96</td>\n",
       "      <td>177</td>\n",
       "      <td>5.0</td>\n",
       "      <td>172.0</td>\n",
       "      <td>...</td>\n",
       "      <td></td>\n",
       "      <td></td>\n",
       "      <td></td>\n",
       "      <td></td>\n",
       "      <td>HERRIGINTZA</td>\n",
       "      <td>HERRIGINTZA</td>\n",
       "      <td></td>\n",
       "      <td>0.0</td>\n",
       "      <td></td>\n",
       "      <td>0.0</td>\n",
       "    </tr>\n",
       "    <tr>\n",
       "      <th>2</th>\n",
       "      <td>09:57</td>\n",
       "      <td>100.0</td>\n",
       "      <td>2</td>\n",
       "      <td>ADUNA</td>\n",
       "      <td>356</td>\n",
       "      <td>7</td>\n",
       "      <td>73.03</td>\n",
       "      <td>260</td>\n",
       "      <td>13.0</td>\n",
       "      <td>247.0</td>\n",
       "      <td>...</td>\n",
       "      <td></td>\n",
       "      <td></td>\n",
       "      <td></td>\n",
       "      <td></td>\n",
       "      <td>EH BILDU - EUSKAL HERRIA BILDU</td>\n",
       "      <td>EH BILDU - EUSKAL HERRIA BILDU</td>\n",
       "      <td></td>\n",
       "      <td>0.0</td>\n",
       "      <td></td>\n",
       "      <td>0.0</td>\n",
       "    </tr>\n",
       "    <tr>\n",
       "      <th>3</th>\n",
       "      <td>09:57</td>\n",
       "      <td>100.0</td>\n",
       "      <td>3</td>\n",
       "      <td>AIZARNAZABAL</td>\n",
       "      <td>553</td>\n",
       "      <td>7</td>\n",
       "      <td>75.40</td>\n",
       "      <td>417</td>\n",
       "      <td>7.0</td>\n",
       "      <td>410.0</td>\n",
       "      <td>...</td>\n",
       "      <td></td>\n",
       "      <td></td>\n",
       "      <td></td>\n",
       "      <td></td>\n",
       "      <td>EH BILDU - EUSKAL HERRIA BILDU</td>\n",
       "      <td>EH BILDU - EUSKAL HERRIA BILDU</td>\n",
       "      <td>EUZKO ALDERDI JELTZALEA - PNV</td>\n",
       "      <td>38.0</td>\n",
       "      <td>P.SOCIALISTA EUSKADI-EE(PSOE)</td>\n",
       "      <td>49.0</td>\n",
       "    </tr>\n",
       "    <tr>\n",
       "      <th>4</th>\n",
       "      <td>09:57</td>\n",
       "      <td>100.0</td>\n",
       "      <td>4</td>\n",
       "      <td>ALBIZTUR</td>\n",
       "      <td>229</td>\n",
       "      <td>7</td>\n",
       "      <td>65.50</td>\n",
       "      <td>150</td>\n",
       "      <td>1.0</td>\n",
       "      <td>149.0</td>\n",
       "      <td>...</td>\n",
       "      <td></td>\n",
       "      <td></td>\n",
       "      <td></td>\n",
       "      <td></td>\n",
       "      <td>ALBIZTUR BIZITUZ</td>\n",
       "      <td>ALBIZTUR BIZITUZ</td>\n",
       "      <td>P.SOCIALISTA EUSKADI-EE(PSOE)</td>\n",
       "      <td>19.0</td>\n",
       "      <td></td>\n",
       "      <td>0.0</td>\n",
       "    </tr>\n",
       "  </tbody>\n",
       "</table>\n",
       "<p>5 rows × 78 columns</p>\n",
       "</div>"
      ],
      "text/plain": [
       "  ORDUA-HORA  ZENB-ESCRUT.  ESPARRUARREN KOD.-COD.AMBITO  \\\n",
       "0      09:57         100.0                           999   \n",
       "1      09:57         100.0                             1   \n",
       "2      09:57         100.0                             2   \n",
       "3      09:57         100.0                             3   \n",
       "4      09:57         100.0                             4   \n",
       "\n",
       "  ESPARRUAREN IZENA-NOMBRE AMBITO  ZENTSUA-CENSO  HAUTETSIAK-ELECTOS  \\\n",
       "0                 G I P U Z K O A         558145                 986   \n",
       "1                    ABALTZISKETA            253                   7   \n",
       "2                           ADUNA            356                   7   \n",
       "3                    AIZARNAZABAL            553                   7   \n",
       "4                        ALBIZTUR            229                   7   \n",
       "\n",
       "   PARTE HARTZE %-% PARTICIPACION  HAUTESLEAK-VOTANTES  BALIOGABEAK-NULOS  \\\n",
       "0                           66.62               371889             3246.0   \n",
       "1                           69.96                  177                5.0   \n",
       "2                           73.03                  260               13.0   \n",
       "3                           75.40                  417                7.0   \n",
       "4                           65.50                  150                1.0   \n",
       "\n",
       "   BALIOZKOAK-VALIDOS       ...        15 HAUTAGAIA-CANDIDATURA 15  \\\n",
       "0            368643.0       ...                      BESTEAK-OTROS   \n",
       "1               172.0       ...                                      \n",
       "2               247.0       ...                                      \n",
       "3               410.0       ...                                      \n",
       "4               149.0       ...                                      \n",
       "\n",
       "   BALIOZKO BOTOEKIKO %-% SOBRE VOTOS VALIDOS.14 BOTOAK-VOTOS.14  \\\n",
       "0                                           2.24            7915   \n",
       "1                                                                  \n",
       "2                                                                  \n",
       "3                                                                  \n",
       "4                                                                  \n",
       "\n",
       "   HAUTETSIAK-ELECTOS.15                  ANTEULT.ESCAÑO  \\\n",
       "0                    126                                   \n",
       "1                                            HERRIGINTZA   \n",
       "2                         EH BILDU - EUSKAL HERRIA BILDU   \n",
       "3                         EH BILDU - EUSKAL HERRIA BILDU   \n",
       "4                                       ALBIZTUR BIZITUZ   \n",
       "\n",
       "                    ULTIMO ESCAÑO      PARTIDO 1 OPTA ULT.ESCAÑO  \\\n",
       "0                                                                  \n",
       "1                     HERRIGINTZA                                  \n",
       "2  EH BILDU - EUSKAL HERRIA BILDU                                  \n",
       "3  EH BILDU - EUSKAL HERRIA BILDU  EUZKO ALDERDI JELTZALEA - PNV   \n",
       "4                ALBIZTUR BIZITUZ  P.SOCIALISTA EUSKADI-EE(PSOE)   \n",
       "\n",
       "  VOTOS PARTIDO 1      PARTIDO 2 OPTA ULT.ESCAÑO VOTOS PARTIDO 2  \n",
       "0             0.0                                            0.0  \n",
       "1             0.0                                            0.0  \n",
       "2             0.0                                            0.0  \n",
       "3            38.0  P.SOCIALISTA EUSKADI-EE(PSOE)            49.0  \n",
       "4            19.0                                            0.0  \n",
       "\n",
       "[5 rows x 78 columns]"
      ]
     },
     "execution_count": 59,
     "metadata": {},
     "output_type": "execute_result"
    }
   ],
   "source": [
    "df = pd.read_csv(gipuzkoa, sep=';', encoding='latin-1')\n",
    "df.head()"
   ]
  },
  {
   "cell_type": "code",
   "execution_count": 60,
   "metadata": {},
   "outputs": [
    {
     "name": "stderr",
     "output_type": "stream",
     "text": [
      "/home/vant/anaconda3/lib/python3.6/site-packages/ipykernel_launcher.py:4: SettingWithCopyWarning: \n",
      "A value is trying to be set on a copy of a slice from a DataFrame.\n",
      "Try using .loc[row_indexer,col_indexer] = value instead\n",
      "\n",
      "See the caveats in the documentation: http://pandas.pydata.org/pandas-docs/stable/indexing.html#indexing-view-versus-copy\n",
      "  after removing the cwd from sys.path.\n"
     ]
    },
    {
     "data": {
      "text/html": [
       "<div>\n",
       "<style scoped>\n",
       "    .dataframe tbody tr th:only-of-type {\n",
       "        vertical-align: middle;\n",
       "    }\n",
       "\n",
       "    .dataframe tbody tr th {\n",
       "        vertical-align: top;\n",
       "    }\n",
       "\n",
       "    .dataframe thead th {\n",
       "        text-align: right;\n",
       "    }\n",
       "</style>\n",
       "<table border=\"1\" class=\"dataframe\">\n",
       "  <thead>\n",
       "    <tr style=\"text-align: right;\">\n",
       "      <th></th>\n",
       "      <th>Municipio</th>\n",
       "      <th>Censo</th>\n",
       "      <th>Participacion</th>\n",
       "      <th>Votos</th>\n",
       "    </tr>\n",
       "  </thead>\n",
       "  <tbody>\n",
       "    <tr>\n",
       "      <th>12</th>\n",
       "      <td>Arama</td>\n",
       "      <td>150</td>\n",
       "      <td>69.33</td>\n",
       "      <td>104</td>\n",
       "    </tr>\n",
       "    <tr>\n",
       "      <th>13</th>\n",
       "      <td>Aretxabaleta</td>\n",
       "      <td>5441</td>\n",
       "      <td>70.74</td>\n",
       "      <td>3849</td>\n",
       "    </tr>\n",
       "    <tr>\n",
       "      <th>14</th>\n",
       "      <td>Asteasu</td>\n",
       "      <td>1158</td>\n",
       "      <td>61.22</td>\n",
       "      <td>709</td>\n",
       "    </tr>\n",
       "    <tr>\n",
       "      <th>15</th>\n",
       "      <td>Ataun</td>\n",
       "      <td>1238</td>\n",
       "      <td>80.69</td>\n",
       "      <td>999</td>\n",
       "    </tr>\n",
       "    <tr>\n",
       "      <th>16</th>\n",
       "      <td>Aia</td>\n",
       "      <td>1536</td>\n",
       "      <td>65.88</td>\n",
       "      <td>1012</td>\n",
       "    </tr>\n",
       "    <tr>\n",
       "      <th>17</th>\n",
       "      <td>Azkoitia</td>\n",
       "      <td>8507</td>\n",
       "      <td>70.07</td>\n",
       "      <td>5961</td>\n",
       "    </tr>\n",
       "    <tr>\n",
       "      <th>18</th>\n",
       "      <td>Azpeitia</td>\n",
       "      <td>11237</td>\n",
       "      <td>70.64</td>\n",
       "      <td>7938</td>\n",
       "    </tr>\n",
       "    <tr>\n",
       "      <th>19</th>\n",
       "      <td>Beasain</td>\n",
       "      <td>9955</td>\n",
       "      <td>65.14</td>\n",
       "      <td>6485</td>\n",
       "    </tr>\n",
       "  </tbody>\n",
       "</table>\n",
       "</div>"
      ],
      "text/plain": [
       "       Municipio  Censo  Participacion  Votos\n",
       "12         Arama    150          69.33    104\n",
       "13  Aretxabaleta   5441          70.74   3849\n",
       "14       Asteasu   1158          61.22    709\n",
       "15         Ataun   1238          80.69    999\n",
       "16           Aia   1536          65.88   1012\n",
       "17      Azkoitia   8507          70.07   5961\n",
       "18      Azpeitia  11237          70.64   7938\n",
       "19       Beasain   9955          65.14   6485"
      ]
     },
     "execution_count": 60,
     "metadata": {},
     "output_type": "execute_result"
    }
   ],
   "source": [
    "df_gipu = df[['ESPARRUAREN IZENA-NOMBRE AMBITO', 'ZENTSUA-CENSO', 'PARTE HARTZE %-% PARTICIPACION', \n",
    "             'HAUTESLEAK-VOTANTES']]\n",
    "df_gipu.columns = ['Municipio', 'Censo', 'Participacion', 'Votos']\n",
    "df_gipu['Municipio'] = df_gipu['Municipio'].str.title()\n",
    "df_gipu[12:20]"
   ]
  },
  {
   "cell_type": "code",
   "execution_count": 61,
   "metadata": {},
   "outputs": [],
   "source": [
    "df_1 = '../TFM/1_Data/Votos_2019.csv'"
   ]
  },
  {
   "cell_type": "code",
   "execution_count": 62,
   "metadata": {},
   "outputs": [],
   "source": [
    "df_2019 = pd.read_csv(df_1)\n",
    "df_gipu_2019 = df_2019[['Municipio', 'part_pred_2019', 'Prediccion','Censo']]"
   ]
  },
  {
   "cell_type": "code",
   "execution_count": 63,
   "metadata": {},
   "outputs": [
    {
     "data": {
      "text/html": [
       "<div>\n",
       "<style scoped>\n",
       "    .dataframe tbody tr th:only-of-type {\n",
       "        vertical-align: middle;\n",
       "    }\n",
       "\n",
       "    .dataframe tbody tr th {\n",
       "        vertical-align: top;\n",
       "    }\n",
       "\n",
       "    .dataframe thead th {\n",
       "        text-align: right;\n",
       "    }\n",
       "</style>\n",
       "<table border=\"1\" class=\"dataframe\">\n",
       "  <thead>\n",
       "    <tr style=\"text-align: right;\">\n",
       "      <th></th>\n",
       "      <th>Municipio</th>\n",
       "      <th>Censo_x</th>\n",
       "      <th>Participacion</th>\n",
       "      <th>Votos</th>\n",
       "      <th>part_pred_2019</th>\n",
       "      <th>Prediccion</th>\n",
       "      <th>Censo_y</th>\n",
       "    </tr>\n",
       "  </thead>\n",
       "  <tbody>\n",
       "    <tr>\n",
       "      <th>0</th>\n",
       "      <td>G I P U Z K O A</td>\n",
       "      <td>558145</td>\n",
       "      <td>66.62</td>\n",
       "      <td>371889</td>\n",
       "      <td>NaN</td>\n",
       "      <td>NaN</td>\n",
       "      <td>NaN</td>\n",
       "    </tr>\n",
       "    <tr>\n",
       "      <th>17</th>\n",
       "      <td>Azkoitia</td>\n",
       "      <td>8507</td>\n",
       "      <td>70.07</td>\n",
       "      <td>5961</td>\n",
       "      <td>NaN</td>\n",
       "      <td>NaN</td>\n",
       "      <td>NaN</td>\n",
       "    </tr>\n",
       "    <tr>\n",
       "      <th>35</th>\n",
       "      <td>Ezkio-Itsaso</td>\n",
       "      <td>485</td>\n",
       "      <td>57.31</td>\n",
       "      <td>278</td>\n",
       "      <td>NaN</td>\n",
       "      <td>NaN</td>\n",
       "      <td>NaN</td>\n",
       "    </tr>\n",
       "    <tr>\n",
       "      <th>55</th>\n",
       "      <td>Arrasate-Mondragon</td>\n",
       "      <td>17381</td>\n",
       "      <td>66.34</td>\n",
       "      <td>11532</td>\n",
       "      <td>NaN</td>\n",
       "      <td>NaN</td>\n",
       "      <td>NaN</td>\n",
       "    </tr>\n",
       "    <tr>\n",
       "      <th>64</th>\n",
       "      <td>Pasaia</td>\n",
       "      <td>12467</td>\n",
       "      <td>60.29</td>\n",
       "      <td>7517</td>\n",
       "      <td>NaN</td>\n",
       "      <td>NaN</td>\n",
       "      <td>NaN</td>\n",
       "    </tr>\n",
       "    <tr>\n",
       "      <th>65</th>\n",
       "      <td>Soraluze-Placencia</td>\n",
       "      <td>2948</td>\n",
       "      <td>70.62</td>\n",
       "      <td>2082</td>\n",
       "      <td>NaN</td>\n",
       "      <td>NaN</td>\n",
       "      <td>NaN</td>\n",
       "    </tr>\n",
       "    <tr>\n",
       "      <th>68</th>\n",
       "      <td>Donostia-San Sebastian</td>\n",
       "      <td>148152</td>\n",
       "      <td>65.16</td>\n",
       "      <td>96537</td>\n",
       "      <td>NaN</td>\n",
       "      <td>NaN</td>\n",
       "      <td>NaN</td>\n",
       "    </tr>\n",
       "  </tbody>\n",
       "</table>\n",
       "</div>"
      ],
      "text/plain": [
       "                 Municipio  Censo_x  Participacion   Votos  part_pred_2019  \\\n",
       "0          G I P U Z K O A   558145          66.62  371889             NaN   \n",
       "17                Azkoitia     8507          70.07    5961             NaN   \n",
       "35            Ezkio-Itsaso      485          57.31     278             NaN   \n",
       "55      Arrasate-Mondragon    17381          66.34   11532             NaN   \n",
       "64                  Pasaia    12467          60.29    7517             NaN   \n",
       "65      Soraluze-Placencia     2948          70.62    2082             NaN   \n",
       "68  Donostia-San Sebastian   148152          65.16   96537             NaN   \n",
       "\n",
       "    Prediccion  Censo_y  \n",
       "0          NaN      NaN  \n",
       "17         NaN      NaN  \n",
       "35         NaN      NaN  \n",
       "55         NaN      NaN  \n",
       "64         NaN      NaN  \n",
       "65         NaN      NaN  \n",
       "68         NaN      NaN  "
      ]
     },
     "execution_count": 63,
     "metadata": {},
     "output_type": "execute_result"
    }
   ],
   "source": [
    "df_merge = pd.merge(df_gipu, df_gipu_2019, on='Municipio', how='left')\n",
    "df_merge_1 = df_merge[df_merge.Prediccion.isnull()]\n",
    "df_merge_1"
   ]
  },
  {
   "cell_type": "code",
   "execution_count": 64,
   "metadata": {},
   "outputs": [],
   "source": [
    "df_merge.loc[55] = ['Arrasate', 17381, 66.34, 11532, 66, 2, 17446.0]\n",
    "df_merge.loc[65] = ['Soraluze', 2948, 70.62, 2082, 67, 2, 3007.0]\n",
    "df_merge.loc[68] = ['Donostia', 148152, 65.16, 96537, 62, 2, 147061.0]"
   ]
  },
  {
   "cell_type": "code",
   "execution_count": 66,
   "metadata": {},
   "outputs": [
    {
     "data": {
      "text/plain": [
       "Municipio         Arrasate\n",
       "Censo_x              17381\n",
       "Participacion        66.34\n",
       "Votos                11532\n",
       "part_pred_2019          66\n",
       "Prediccion               2\n",
       "Censo_y              17446\n",
       "Name: 55, dtype: object"
      ]
     },
     "execution_count": 66,
     "metadata": {},
     "output_type": "execute_result"
    }
   ],
   "source": [
    "df_merge.loc[55]"
   ]
  },
  {
   "cell_type": "code",
   "execution_count": 67,
   "metadata": {},
   "outputs": [
    {
     "data": {
      "text/html": [
       "<div>\n",
       "<style scoped>\n",
       "    .dataframe tbody tr th:only-of-type {\n",
       "        vertical-align: middle;\n",
       "    }\n",
       "\n",
       "    .dataframe tbody tr th {\n",
       "        vertical-align: top;\n",
       "    }\n",
       "\n",
       "    .dataframe thead th {\n",
       "        text-align: right;\n",
       "    }\n",
       "</style>\n",
       "<table border=\"1\" class=\"dataframe\">\n",
       "  <thead>\n",
       "    <tr style=\"text-align: right;\">\n",
       "      <th></th>\n",
       "      <th>Municipio</th>\n",
       "      <th>part_pred_2019</th>\n",
       "      <th>Prediccion</th>\n",
       "      <th>Censo</th>\n",
       "    </tr>\n",
       "  </thead>\n",
       "  <tbody>\n",
       "    <tr>\n",
       "      <th>75</th>\n",
       "      <td>Donostia / San Sebastián</td>\n",
       "      <td>62</td>\n",
       "      <td>2</td>\n",
       "      <td>147061.0</td>\n",
       "    </tr>\n",
       "  </tbody>\n",
       "</table>\n",
       "</div>"
      ],
      "text/plain": [
       "                   Municipio  part_pred_2019  Prediccion     Censo\n",
       "75  Donostia / San Sebastián              62           2  147061.0"
      ]
     },
     "execution_count": 67,
     "metadata": {},
     "output_type": "execute_result"
    }
   ],
   "source": [
    "df_gipu_2019[df_gipu_2019['Municipio'].str.contains('Donos', case=False)]"
   ]
  },
  {
   "cell_type": "code",
   "execution_count": 68,
   "metadata": {},
   "outputs": [
    {
     "data": {
      "text/plain": [
       "2"
      ]
     },
     "execution_count": 68,
     "metadata": {},
     "output_type": "execute_result"
    }
   ],
   "source": [
    "def participacion(resultado):\n",
    "    if resultado > 72:\n",
    "        return 1\n",
    "    else:\n",
    "        return 2\n",
    "    \n",
    "participacion(69.96)"
   ]
  },
  {
   "cell_type": "code",
   "execution_count": 69,
   "metadata": {},
   "outputs": [],
   "source": [
    "df_merge['participacion'] = df_merge['Participacion'].apply(participacion)"
   ]
  },
  {
   "cell_type": "code",
   "execution_count": 81,
   "metadata": {},
   "outputs": [],
   "source": [
    "df_final_gip = df_merge.dropna()"
   ]
  },
  {
   "cell_type": "code",
   "execution_count": 87,
   "metadata": {},
   "outputs": [
    {
     "data": {
      "text/html": [
       "<div>\n",
       "<style scoped>\n",
       "    .dataframe tbody tr th:only-of-type {\n",
       "        vertical-align: middle;\n",
       "    }\n",
       "\n",
       "    .dataframe tbody tr th {\n",
       "        vertical-align: top;\n",
       "    }\n",
       "\n",
       "    .dataframe thead th {\n",
       "        text-align: right;\n",
       "    }\n",
       "</style>\n",
       "<table border=\"1\" class=\"dataframe\">\n",
       "  <thead>\n",
       "    <tr style=\"text-align: right;\">\n",
       "      <th></th>\n",
       "      <th>Municipio</th>\n",
       "      <th>Censo_x</th>\n",
       "      <th>Participacion</th>\n",
       "      <th>Votos</th>\n",
       "      <th>part_pred_2019</th>\n",
       "      <th>Prediccion</th>\n",
       "      <th>Censo_y</th>\n",
       "      <th>participacion</th>\n",
       "      <th>part_pred</th>\n",
       "    </tr>\n",
       "  </thead>\n",
       "  <tbody>\n",
       "    <tr>\n",
       "      <th>1</th>\n",
       "      <td>Abaltzisketa</td>\n",
       "      <td>253</td>\n",
       "      <td>69.96</td>\n",
       "      <td>177</td>\n",
       "      <td>78.0</td>\n",
       "      <td>1.0</td>\n",
       "      <td>252.0</td>\n",
       "      <td>2</td>\n",
       "      <td>1</td>\n",
       "    </tr>\n",
       "    <tr>\n",
       "      <th>2</th>\n",
       "      <td>Aduna</td>\n",
       "      <td>356</td>\n",
       "      <td>73.03</td>\n",
       "      <td>260</td>\n",
       "      <td>74.0</td>\n",
       "      <td>1.0</td>\n",
       "      <td>343.0</td>\n",
       "      <td>1</td>\n",
       "      <td>1</td>\n",
       "    </tr>\n",
       "    <tr>\n",
       "      <th>3</th>\n",
       "      <td>Aizarnazabal</td>\n",
       "      <td>553</td>\n",
       "      <td>75.40</td>\n",
       "      <td>417</td>\n",
       "      <td>81.0</td>\n",
       "      <td>1.0</td>\n",
       "      <td>542.0</td>\n",
       "      <td>1</td>\n",
       "      <td>1</td>\n",
       "    </tr>\n",
       "    <tr>\n",
       "      <th>4</th>\n",
       "      <td>Albiztur</td>\n",
       "      <td>229</td>\n",
       "      <td>65.50</td>\n",
       "      <td>150</td>\n",
       "      <td>71.0</td>\n",
       "      <td>1.0</td>\n",
       "      <td>248.0</td>\n",
       "      <td>2</td>\n",
       "      <td>2</td>\n",
       "    </tr>\n",
       "    <tr>\n",
       "      <th>5</th>\n",
       "      <td>Alegia</td>\n",
       "      <td>1270</td>\n",
       "      <td>73.54</td>\n",
       "      <td>934</td>\n",
       "      <td>72.0</td>\n",
       "      <td>2.0</td>\n",
       "      <td>1258.0</td>\n",
       "      <td>1</td>\n",
       "      <td>2</td>\n",
       "    </tr>\n",
       "  </tbody>\n",
       "</table>\n",
       "</div>"
      ],
      "text/plain": [
       "      Municipio  Censo_x  Participacion  Votos  part_pred_2019  Prediccion  \\\n",
       "1  Abaltzisketa      253          69.96    177            78.0         1.0   \n",
       "2         Aduna      356          73.03    260            74.0         1.0   \n",
       "3  Aizarnazabal      553          75.40    417            81.0         1.0   \n",
       "4      Albiztur      229          65.50    150            71.0         1.0   \n",
       "5        Alegia     1270          73.54    934            72.0         2.0   \n",
       "\n",
       "   Censo_y  participacion  part_pred  \n",
       "1    252.0              2          1  \n",
       "2    343.0              1          1  \n",
       "3    542.0              1          1  \n",
       "4    248.0              2          2  \n",
       "5   1258.0              1          2  "
      ]
     },
     "execution_count": 87,
     "metadata": {},
     "output_type": "execute_result"
    }
   ],
   "source": [
    "df_final_gip.head()"
   ]
  },
  {
   "cell_type": "code",
   "execution_count": 85,
   "metadata": {},
   "outputs": [
    {
     "data": {
      "text/plain": [
       "48"
      ]
     },
     "execution_count": 85,
     "metadata": {},
     "output_type": "execute_result"
    }
   ],
   "source": [
    "sum(df_final_gip['Prediccion'] == df_final_gip['participacion'])"
   ]
  },
  {
   "cell_type": "code",
   "execution_count": 86,
   "metadata": {},
   "outputs": [
    {
     "name": "stderr",
     "output_type": "stream",
     "text": [
      "/home/vant/anaconda3/lib/python3.6/site-packages/ipykernel_launcher.py:1: SettingWithCopyWarning: \n",
      "A value is trying to be set on a copy of a slice from a DataFrame.\n",
      "Try using .loc[row_indexer,col_indexer] = value instead\n",
      "\n",
      "See the caveats in the documentation: http://pandas.pydata.org/pandas-docs/stable/indexing.html#indexing-view-versus-copy\n",
      "  \"\"\"Entry point for launching an IPython kernel.\n"
     ]
    }
   ],
   "source": [
    "df_final_gip['part_pred'] = df_final_gip['part_pred_2019'].apply(participacion)"
   ]
  },
  {
   "cell_type": "code",
   "execution_count": 89,
   "metadata": {},
   "outputs": [
    {
     "data": {
      "text/plain": [
       "55"
      ]
     },
     "execution_count": 89,
     "metadata": {},
     "output_type": "execute_result"
    }
   ],
   "source": [
    "sum(df_final_gip['part_pred'] == df_final_gip['participacion'])"
   ]
  },
  {
   "cell_type": "code",
   "execution_count": 90,
   "metadata": {},
   "outputs": [
    {
     "data": {
      "text/plain": [
       "76"
      ]
     },
     "execution_count": 90,
     "metadata": {},
     "output_type": "execute_result"
    }
   ],
   "source": [
    "def integer(number):\n",
    "    return int(number)\n",
    "integer(76.8)"
   ]
  },
  {
   "cell_type": "code",
   "execution_count": 92,
   "metadata": {},
   "outputs": [
    {
     "data": {
      "text/plain": [
       "10"
      ]
     },
     "execution_count": 92,
     "metadata": {},
     "output_type": "execute_result"
    }
   ],
   "source": [
    "sum(df_final_gip['part_pred_2019'] == df_final_gip['Participacion'].apply(integer))"
   ]
  },
  {
   "cell_type": "code",
   "execution_count": 93,
   "metadata": {},
   "outputs": [],
   "source": [
    "import seaborn as sns\n",
    "from sklearn.metrics import accuracy_score, confusion_matrix, mean_squared_error\n",
    "import matplotlib.pyplot as plt"
   ]
  },
  {
   "cell_type": "code",
   "execution_count": 94,
   "metadata": {},
   "outputs": [],
   "source": [
    "df_2019_real = df_final_gip['participacion']\n",
    "df_2019_pred = df_final_gip['Prediccion']"
   ]
  },
  {
   "cell_type": "code",
   "execution_count": 95,
   "metadata": {},
   "outputs": [
    {
     "name": "stdout",
     "output_type": "stream",
     "text": [
      "test accuracy for Linear SVM classifier: 64.0 %\n"
     ]
    },
    {
     "data": {
      "image/png": "[encoded data removed]",
      "text/plain": [
       "<Figure size 432x288 with 2 Axes>"
      ]
     },
     "metadata": {},
     "output_type": "display_data"
    }
   ],
   "source": [
    "print('test accuracy for Linear SVM classifier:'\\\n",
    "      , round(accuracy_score(df_2019_real, df_2019_pred)*100, 2), '%')\n",
    "plt.title('Confusion matrix for Linear SVM classifier')\n",
    "sns.heatmap(confusion_matrix(df_2019_real, df_2019_pred), annot=True, cmap=\"YlGn\")\n",
    "plt.xlabel('Predicted classes')\n",
    "plt.ylabel('True Classes')\n",
    "plt.show()"
   ]
  },
  {
   "cell_type": "code",
   "execution_count": 97,
   "metadata": {},
   "outputs": [
    {
     "data": {
      "text/plain": [
       "39.586666666666666"
      ]
     },
     "execution_count": 97,
     "metadata": {},
     "output_type": "execute_result"
    }
   ],
   "source": [
    "mean_squared_error(df_final_gip['Participacion'].apply(integer),df_final_gip['part_pred_2019'])"
   ]
  },
  {
   "cell_type": "code",
   "execution_count": 83,
   "metadata": {},
   "outputs": [
    {
     "data": {
      "text/plain": [
       "71.31253333333335"
      ]
     },
     "execution_count": 83,
     "metadata": {},
     "output_type": "execute_result"
    }
   ],
   "source": [
    "df_final_gip['Participacion'].sum()/75"
   ]
  },
  {
   "cell_type": "code",
   "execution_count": 84,
   "metadata": {},
   "outputs": [
    {
     "data": {
      "text/plain": [
       "71.34666666666666"
      ]
     },
     "execution_count": 84,
     "metadata": {},
     "output_type": "execute_result"
    }
   ],
   "source": [
    "df_merge['part_pred_2019'].sum()/75"
   ]
  },
  {
   "cell_type": "code",
   "execution_count": 115,
   "metadata": {},
   "outputs": [
    {
     "data": {
      "text/plain": [
       "70.85333333333334"
      ]
     },
     "execution_count": 115,
     "metadata": {},
     "output_type": "execute_result"
    }
   ],
   "source": [
    "df_final_gip['Participacion_integer'].sum()/75"
   ]
  },
  {
   "cell_type": "code",
   "execution_count": 112,
   "metadata": {},
   "outputs": [
    {
     "name": "stderr",
     "output_type": "stream",
     "text": [
      "/home/vant/anaconda3/lib/python3.6/site-packages/ipykernel_launcher.py:1: SettingWithCopyWarning: \n",
      "A value is trying to be set on a copy of a slice from a DataFrame.\n",
      "Try using .loc[row_indexer,col_indexer] = value instead\n",
      "\n",
      "See the caveats in the documentation: http://pandas.pydata.org/pandas-docs/stable/indexing.html#indexing-view-versus-copy\n",
      "  \"\"\"Entry point for launching an IPython kernel.\n"
     ]
    }
   ],
   "source": [
    "df_final_gip['Participacion_integer'] = df_final_gip['Participacion'].apply(integer)"
   ]
  },
  {
   "cell_type": "code",
   "execution_count": 113,
   "metadata": {},
   "outputs": [
    {
     "data": {
      "text/html": [
       "<div>\n",
       "<style scoped>\n",
       "    .dataframe tbody tr th:only-of-type {\n",
       "        vertical-align: middle;\n",
       "    }\n",
       "\n",
       "    .dataframe tbody tr th {\n",
       "        vertical-align: top;\n",
       "    }\n",
       "\n",
       "    .dataframe thead th {\n",
       "        text-align: right;\n",
       "    }\n",
       "</style>\n",
       "<table border=\"1\" class=\"dataframe\">\n",
       "  <thead>\n",
       "    <tr style=\"text-align: right;\">\n",
       "      <th></th>\n",
       "      <th>Municipio</th>\n",
       "      <th>Censo_x</th>\n",
       "      <th>Participacion</th>\n",
       "      <th>Votos</th>\n",
       "      <th>part_pred_2019</th>\n",
       "      <th>Prediccion</th>\n",
       "      <th>Censo_y</th>\n",
       "      <th>participacion</th>\n",
       "      <th>part_pred</th>\n",
       "      <th>Participacion_integer</th>\n",
       "    </tr>\n",
       "  </thead>\n",
       "  <tbody>\n",
       "    <tr>\n",
       "      <th>1</th>\n",
       "      <td>Abaltzisketa</td>\n",
       "      <td>253</td>\n",
       "      <td>69.96</td>\n",
       "      <td>177</td>\n",
       "      <td>78.0</td>\n",
       "      <td>1.0</td>\n",
       "      <td>252.0</td>\n",
       "      <td>2</td>\n",
       "      <td>1</td>\n",
       "      <td>69</td>\n",
       "    </tr>\n",
       "    <tr>\n",
       "      <th>2</th>\n",
       "      <td>Aduna</td>\n",
       "      <td>356</td>\n",
       "      <td>73.03</td>\n",
       "      <td>260</td>\n",
       "      <td>74.0</td>\n",
       "      <td>1.0</td>\n",
       "      <td>343.0</td>\n",
       "      <td>1</td>\n",
       "      <td>1</td>\n",
       "      <td>73</td>\n",
       "    </tr>\n",
       "    <tr>\n",
       "      <th>3</th>\n",
       "      <td>Aizarnazabal</td>\n",
       "      <td>553</td>\n",
       "      <td>75.40</td>\n",
       "      <td>417</td>\n",
       "      <td>81.0</td>\n",
       "      <td>1.0</td>\n",
       "      <td>542.0</td>\n",
       "      <td>1</td>\n",
       "      <td>1</td>\n",
       "      <td>75</td>\n",
       "    </tr>\n",
       "    <tr>\n",
       "      <th>4</th>\n",
       "      <td>Albiztur</td>\n",
       "      <td>229</td>\n",
       "      <td>65.50</td>\n",
       "      <td>150</td>\n",
       "      <td>71.0</td>\n",
       "      <td>1.0</td>\n",
       "      <td>248.0</td>\n",
       "      <td>2</td>\n",
       "      <td>2</td>\n",
       "      <td>65</td>\n",
       "    </tr>\n",
       "    <tr>\n",
       "      <th>5</th>\n",
       "      <td>Alegia</td>\n",
       "      <td>1270</td>\n",
       "      <td>73.54</td>\n",
       "      <td>934</td>\n",
       "      <td>72.0</td>\n",
       "      <td>2.0</td>\n",
       "      <td>1258.0</td>\n",
       "      <td>1</td>\n",
       "      <td>2</td>\n",
       "      <td>73</td>\n",
       "    </tr>\n",
       "  </tbody>\n",
       "</table>\n",
       "</div>"
      ],
      "text/plain": [
       "      Municipio  Censo_x  Participacion  Votos  part_pred_2019  Prediccion  \\\n",
       "1  Abaltzisketa      253          69.96    177            78.0         1.0   \n",
       "2         Aduna      356          73.03    260            74.0         1.0   \n",
       "3  Aizarnazabal      553          75.40    417            81.0         1.0   \n",
       "4      Albiztur      229          65.50    150            71.0         1.0   \n",
       "5        Alegia     1270          73.54    934            72.0         2.0   \n",
       "\n",
       "   Censo_y  participacion  part_pred  Participacion_integer  \n",
       "1    252.0              2          1                     69  \n",
       "2    343.0              1          1                     73  \n",
       "3    542.0              1          1                     75  \n",
       "4    248.0              2          2                     65  \n",
       "5   1258.0              1          2                     73  "
      ]
     },
     "execution_count": 113,
     "metadata": {},
     "output_type": "execute_result"
    }
   ],
   "source": [
    "df_final_gip.head()"
   ]
  },
  {
   "cell_type": "code",
   "execution_count": 119,
   "metadata": {},
   "outputs": [
    {
     "data": {
      "image/png": "[encoded data removed]",
      "text/plain": [
       "<Figure size 864x576 with 2 Axes>"
      ]
     },
     "metadata": {},
     "output_type": "display_data"
    }
   ],
   "source": [
    "df_final_gip.hist(column=['Participacion_integer', 'part_pred_2019'],figsize=(12,8), bins=30);"
   ]
  }
 ],
 "metadata": {
  "kernelspec": {
   "display_name": "Python 3",
   "language": "python",
   "name": "python3"
  },
  "language_info": {
   "codemirror_mode": {
    "name": "ipython",
    "version": 3
   },
   "file_extension": ".py",
   "mimetype": "text/x-python",
   "name": "python",
   "nbconvert_exporter": "python",
   "pygments_lexer": "ipython3",
   "version": "3.6.5"
  }
 },
 "nbformat": 4,
 "nbformat_minor": 2
}
