{
 "cells": [
  {
   "cell_type": "markdown",
   "metadata": {},
   "source": [
    "## ¿Por que estan dificil saber quien va a ir a Votar?\n",
    "##Hay dos motivos muy humanos para explicarlo: que las personas somos optimistas en exceso y que nos gusta quedar bien"
   ]
  },
  {
   "cell_type": "markdown",
   "metadata": {},
   "source": [
    "## https://elpais.com/politica/2019/04/07/actualidad/1554639446_309283.html"
   ]
  },
  {
   "cell_type": "markdown",
   "metadata": {},
   "source": [
    "## Importamos las librerias necesarias "
   ]
  },
  {
   "cell_type": "code",
   "execution_count": 1,
   "metadata": {},
   "outputs": [],
   "source": [
    "import pandas as pd\n",
    "import numpy as np\n",
    "import matplotlib.pyplot as plt\n",
    "import plotly as py\n",
    "%matplotlib inline"
   ]
  },
  {
   "cell_type": "code",
   "execution_count": 2,
   "metadata": {},
   "outputs": [
    {
     "name": "stderr",
     "output_type": "stream",
     "text": [
      "/home/vant/anaconda3/lib/python3.6/site-packages/sklearn/ensemble/weight_boosting.py:29: DeprecationWarning:\n",
      "\n",
      "numpy.core.umath_tests is an internal NumPy module and should not be imported. It will be removed in a future NumPy release.\n",
      "\n"
     ]
    }
   ],
   "source": [
    "from sklearn.linear_model import LinearRegression, LogisticRegression\n",
    "from sklearn.tree import DecisionTreeRegressor as dtr\n",
    "from sklearn.metrics import mean_squared_error, r2_score\n",
    "from sklearn.ensemble import RandomForestRegressor\n",
    "from sklearn.model_selection import KFold, train_test_split, cross_val_score\n",
    "from sklearn.pipeline import make_pipeline\n",
    "from sklearn.preprocessing import PolynomialFeatures, StandardScaler, RobustScaler\n",
    "from sklearn.svm import SVC\n",
    "from sklearn.neighbors import KNeighborsRegressor as knnr\n",
    "import seaborn as sns\n",
    "sns.set_style(\"whitegrid\")\n",
    "import os\n",
    "import pickle"
   ]
  },
  {
   "cell_type": "code",
   "execution_count": 3,
   "metadata": {},
   "outputs": [
    {
     "data": {
      "text/html": [
       "<div>\n",
       "<style scoped>\n",
       "    .dataframe tbody tr th:only-of-type {\n",
       "        vertical-align: middle;\n",
       "    }\n",
       "\n",
       "    .dataframe tbody tr th {\n",
       "        vertical-align: top;\n",
       "    }\n",
       "\n",
       "    .dataframe thead th {\n",
       "        text-align: right;\n",
       "    }\n",
       "</style>\n",
       "<table border=\"1\" class=\"dataframe\">\n",
       "  <thead>\n",
       "    <tr style=\"text-align: right;\">\n",
       "      <th></th>\n",
       "      <th>Unnamed: 0</th>\n",
       "      <th>Código municipio</th>\n",
       "      <th>Municipio</th>\n",
       "      <th>2009_1</th>\n",
       "      <th>2009_2</th>\n",
       "      <th>2009_3</th>\n",
       "      <th>2009_4</th>\n",
       "      <th>2010_5</th>\n",
       "      <th>2009_6</th>\n",
       "      <th>2009_7</th>\n",
       "      <th>...</th>\n",
       "      <th>2009_57</th>\n",
       "      <th>2009_58</th>\n",
       "      <th>2006_59</th>\n",
       "      <th>2007</th>\n",
       "      <th>2009_61</th>\n",
       "      <th>2001_62</th>\n",
       "      <th>2010</th>\n",
       "      <th>2009_64</th>\n",
       "      <th>2011_elecc</th>\n",
       "      <th>2011_partic</th>\n",
       "    </tr>\n",
       "  </thead>\n",
       "  <tbody>\n",
       "    <tr>\n",
       "      <th>0</th>\n",
       "      <td>0</td>\n",
       "      <td>48001</td>\n",
       "      <td>Abadiño</td>\n",
       "      <td>43.75</td>\n",
       "      <td>8.65</td>\n",
       "      <td>0.0</td>\n",
       "      <td>185.36</td>\n",
       "      <td>33.4</td>\n",
       "      <td>0.00</td>\n",
       "      <td>4.55</td>\n",
       "      <td>...</td>\n",
       "      <td>10.40</td>\n",
       "      <td>12.90</td>\n",
       "      <td>0.88</td>\n",
       "      <td>12.94</td>\n",
       "      <td>5.86</td>\n",
       "      <td>11.24</td>\n",
       "      <td>7.60</td>\n",
       "      <td>8.50</td>\n",
       "      <td>71.16</td>\n",
       "      <td>2</td>\n",
       "    </tr>\n",
       "    <tr>\n",
       "      <th>1</th>\n",
       "      <td>1</td>\n",
       "      <td>20001</td>\n",
       "      <td>Abaltzisketa</td>\n",
       "      <td>25.00</td>\n",
       "      <td>0.00</td>\n",
       "      <td>0.0</td>\n",
       "      <td>269.94</td>\n",
       "      <td>37.6</td>\n",
       "      <td>0.00</td>\n",
       "      <td>0.00</td>\n",
       "      <td>...</td>\n",
       "      <td>92.02</td>\n",
       "      <td>18.69</td>\n",
       "      <td>6.53</td>\n",
       "      <td>10.73</td>\n",
       "      <td>20.61</td>\n",
       "      <td>31.40</td>\n",
       "      <td>22.98</td>\n",
       "      <td>14.93</td>\n",
       "      <td>66.13</td>\n",
       "      <td>2</td>\n",
       "    </tr>\n",
       "    <tr>\n",
       "      <th>2</th>\n",
       "      <td>2</td>\n",
       "      <td>48002</td>\n",
       "      <td>Abanto y Ciérvana-Abanto Zierbena</td>\n",
       "      <td>30.77</td>\n",
       "      <td>9.60</td>\n",
       "      <td>0.0</td>\n",
       "      <td>250.51</td>\n",
       "      <td>37.0</td>\n",
       "      <td>0.00</td>\n",
       "      <td>2.63</td>\n",
       "      <td>...</td>\n",
       "      <td>14.60</td>\n",
       "      <td>9.29</td>\n",
       "      <td>0.82</td>\n",
       "      <td>8.60</td>\n",
       "      <td>8.15</td>\n",
       "      <td>10.63</td>\n",
       "      <td>21.09</td>\n",
       "      <td>18.13</td>\n",
       "      <td>65.24</td>\n",
       "      <td>2</td>\n",
       "    </tr>\n",
       "    <tr>\n",
       "      <th>3</th>\n",
       "      <td>3</td>\n",
       "      <td>20002</td>\n",
       "      <td>Aduna</td>\n",
       "      <td>80.00</td>\n",
       "      <td>36.14</td>\n",
       "      <td>0.0</td>\n",
       "      <td>326.34</td>\n",
       "      <td>23.4</td>\n",
       "      <td>46.62</td>\n",
       "      <td>17.99</td>\n",
       "      <td>...</td>\n",
       "      <td>37.30</td>\n",
       "      <td>12.05</td>\n",
       "      <td>1.59</td>\n",
       "      <td>8.34</td>\n",
       "      <td>29.35</td>\n",
       "      <td>14.69</td>\n",
       "      <td>8.29</td>\n",
       "      <td>24.10</td>\n",
       "      <td>86.46</td>\n",
       "      <td>1</td>\n",
       "    </tr>\n",
       "    <tr>\n",
       "      <th>4</th>\n",
       "      <td>4</td>\n",
       "      <td>20016</td>\n",
       "      <td>Aia</td>\n",
       "      <td>33.33</td>\n",
       "      <td>15.63</td>\n",
       "      <td>0.0</td>\n",
       "      <td>114.60</td>\n",
       "      <td>28.5</td>\n",
       "      <td>0.00</td>\n",
       "      <td>5.03</td>\n",
       "      <td>...</td>\n",
       "      <td>9.97</td>\n",
       "      <td>15.63</td>\n",
       "      <td>3.98</td>\n",
       "      <td>20.39</td>\n",
       "      <td>17.74</td>\n",
       "      <td>17.67</td>\n",
       "      <td>11.07</td>\n",
       "      <td>14.97</td>\n",
       "      <td>69.73</td>\n",
       "      <td>2</td>\n",
       "    </tr>\n",
       "  </tbody>\n",
       "</table>\n",
       "<p>5 rows × 69 columns</p>\n",
       "</div>"
      ],
      "text/plain": [
       "   Unnamed: 0  Código municipio                          Municipio  2009_1  \\\n",
       "0           0             48001                            Abadiño   43.75   \n",
       "1           1             20001                       Abaltzisketa   25.00   \n",
       "2           2             48002  Abanto y Ciérvana-Abanto Zierbena   30.77   \n",
       "3           3             20002                              Aduna   80.00   \n",
       "4           4             20016                                Aia   33.33   \n",
       "\n",
       "   2009_2  2009_3  2009_4  2010_5  2009_6  2009_7     ...       2009_57  \\\n",
       "0    8.65     0.0  185.36    33.4    0.00    4.55     ...         10.40   \n",
       "1    0.00     0.0  269.94    37.6    0.00    0.00     ...         92.02   \n",
       "2    9.60     0.0  250.51    37.0    0.00    2.63     ...         14.60   \n",
       "3   36.14     0.0  326.34    23.4   46.62   17.99     ...         37.30   \n",
       "4   15.63     0.0  114.60    28.5    0.00    5.03     ...          9.97   \n",
       "\n",
       "   2009_58  2006_59   2007  2009_61  2001_62   2010  2009_64  2011_elecc  \\\n",
       "0    12.90     0.88  12.94     5.86    11.24   7.60     8.50       71.16   \n",
       "1    18.69     6.53  10.73    20.61    31.40  22.98    14.93       66.13   \n",
       "2     9.29     0.82   8.60     8.15    10.63  21.09    18.13       65.24   \n",
       "3    12.05     1.59   8.34    29.35    14.69   8.29    24.10       86.46   \n",
       "4    15.63     3.98  20.39    17.74    17.67  11.07    14.97       69.73   \n",
       "\n",
       "   2011_partic  \n",
       "0            2  \n",
       "1            2  \n",
       "2            2  \n",
       "3            1  \n",
       "4            2  \n",
       "\n",
       "[5 rows x 69 columns]"
      ]
     },
     "execution_count": 3,
     "metadata": {},
     "output_type": "execute_result"
    }
   ],
   "source": [
    "df_2009 = pd.read_csv('../TFM/GDataframe_2009.csv')\n",
    "df_2009.head()"
   ]
  },
  {
   "cell_type": "markdown",
   "metadata": {},
   "source": [
    "## Para hacer una prediccion mas realista sobre el porcentaje de participacion electoral en las elecciones municipales en los 245 municipios vascos, vamos a utilizar un numero de participacion entero (tanto como etiqueta para el aprendizaje automatico del modelo de regresion como para el resultado), por ello creamos una funcion."
   ]
  },
  {
   "cell_type": "code",
   "execution_count": 4,
   "metadata": {},
   "outputs": [
    {
     "data": {
      "text/plain": [
       "67"
      ]
     },
     "execution_count": 4,
     "metadata": {},
     "output_type": "execute_result"
    }
   ],
   "source": [
    "def part_integ(num):\n",
    "    try:\n",
    "        return int(num)\n",
    "    except:\n",
    "        return 0\n",
    "\n",
    "part_integ(67.90)\n",
    "        "
   ]
  },
  {
   "cell_type": "code",
   "execution_count": 6,
   "metadata": {},
   "outputs": [],
   "source": [
    "df_2009['2011_elecc'] = df_2009['2011_elecc'].apply(part_integ)"
   ]
  },
  {
   "cell_type": "code",
   "execution_count": 7,
   "metadata": {},
   "outputs": [
    {
     "data": {
      "text/html": [
       "<div>\n",
       "<style scoped>\n",
       "    .dataframe tbody tr th:only-of-type {\n",
       "        vertical-align: middle;\n",
       "    }\n",
       "\n",
       "    .dataframe tbody tr th {\n",
       "        vertical-align: top;\n",
       "    }\n",
       "\n",
       "    .dataframe thead th {\n",
       "        text-align: right;\n",
       "    }\n",
       "</style>\n",
       "<table border=\"1\" class=\"dataframe\">\n",
       "  <thead>\n",
       "    <tr style=\"text-align: right;\">\n",
       "      <th></th>\n",
       "      <th>Unnamed: 0</th>\n",
       "      <th>Código municipio</th>\n",
       "      <th>Municipio</th>\n",
       "      <th>2009_1</th>\n",
       "      <th>2009_2</th>\n",
       "      <th>2009_3</th>\n",
       "      <th>2009_4</th>\n",
       "      <th>2010_5</th>\n",
       "      <th>2009_6</th>\n",
       "      <th>2009_7</th>\n",
       "      <th>...</th>\n",
       "      <th>2009_57</th>\n",
       "      <th>2009_58</th>\n",
       "      <th>2006_59</th>\n",
       "      <th>2007</th>\n",
       "      <th>2009_61</th>\n",
       "      <th>2001_62</th>\n",
       "      <th>2010</th>\n",
       "      <th>2009_64</th>\n",
       "      <th>2011_elecc</th>\n",
       "      <th>2011_partic</th>\n",
       "    </tr>\n",
       "  </thead>\n",
       "  <tbody>\n",
       "    <tr>\n",
       "      <th>0</th>\n",
       "      <td>0</td>\n",
       "      <td>48001</td>\n",
       "      <td>Abadiño</td>\n",
       "      <td>43.75</td>\n",
       "      <td>8.65</td>\n",
       "      <td>0.0</td>\n",
       "      <td>185.36</td>\n",
       "      <td>33.4</td>\n",
       "      <td>0.00</td>\n",
       "      <td>4.55</td>\n",
       "      <td>...</td>\n",
       "      <td>10.40</td>\n",
       "      <td>12.90</td>\n",
       "      <td>0.88</td>\n",
       "      <td>12.94</td>\n",
       "      <td>5.86</td>\n",
       "      <td>11.24</td>\n",
       "      <td>7.60</td>\n",
       "      <td>8.50</td>\n",
       "      <td>71</td>\n",
       "      <td>2</td>\n",
       "    </tr>\n",
       "    <tr>\n",
       "      <th>1</th>\n",
       "      <td>1</td>\n",
       "      <td>20001</td>\n",
       "      <td>Abaltzisketa</td>\n",
       "      <td>25.00</td>\n",
       "      <td>0.00</td>\n",
       "      <td>0.0</td>\n",
       "      <td>269.94</td>\n",
       "      <td>37.6</td>\n",
       "      <td>0.00</td>\n",
       "      <td>0.00</td>\n",
       "      <td>...</td>\n",
       "      <td>92.02</td>\n",
       "      <td>18.69</td>\n",
       "      <td>6.53</td>\n",
       "      <td>10.73</td>\n",
       "      <td>20.61</td>\n",
       "      <td>31.40</td>\n",
       "      <td>22.98</td>\n",
       "      <td>14.93</td>\n",
       "      <td>66</td>\n",
       "      <td>2</td>\n",
       "    </tr>\n",
       "    <tr>\n",
       "      <th>2</th>\n",
       "      <td>2</td>\n",
       "      <td>48002</td>\n",
       "      <td>Abanto y Ciérvana-Abanto Zierbena</td>\n",
       "      <td>30.77</td>\n",
       "      <td>9.60</td>\n",
       "      <td>0.0</td>\n",
       "      <td>250.51</td>\n",
       "      <td>37.0</td>\n",
       "      <td>0.00</td>\n",
       "      <td>2.63</td>\n",
       "      <td>...</td>\n",
       "      <td>14.60</td>\n",
       "      <td>9.29</td>\n",
       "      <td>0.82</td>\n",
       "      <td>8.60</td>\n",
       "      <td>8.15</td>\n",
       "      <td>10.63</td>\n",
       "      <td>21.09</td>\n",
       "      <td>18.13</td>\n",
       "      <td>65</td>\n",
       "      <td>2</td>\n",
       "    </tr>\n",
       "    <tr>\n",
       "      <th>3</th>\n",
       "      <td>3</td>\n",
       "      <td>20002</td>\n",
       "      <td>Aduna</td>\n",
       "      <td>80.00</td>\n",
       "      <td>36.14</td>\n",
       "      <td>0.0</td>\n",
       "      <td>326.34</td>\n",
       "      <td>23.4</td>\n",
       "      <td>46.62</td>\n",
       "      <td>17.99</td>\n",
       "      <td>...</td>\n",
       "      <td>37.30</td>\n",
       "      <td>12.05</td>\n",
       "      <td>1.59</td>\n",
       "      <td>8.34</td>\n",
       "      <td>29.35</td>\n",
       "      <td>14.69</td>\n",
       "      <td>8.29</td>\n",
       "      <td>24.10</td>\n",
       "      <td>86</td>\n",
       "      <td>1</td>\n",
       "    </tr>\n",
       "    <tr>\n",
       "      <th>4</th>\n",
       "      <td>4</td>\n",
       "      <td>20016</td>\n",
       "      <td>Aia</td>\n",
       "      <td>33.33</td>\n",
       "      <td>15.63</td>\n",
       "      <td>0.0</td>\n",
       "      <td>114.60</td>\n",
       "      <td>28.5</td>\n",
       "      <td>0.00</td>\n",
       "      <td>5.03</td>\n",
       "      <td>...</td>\n",
       "      <td>9.97</td>\n",
       "      <td>15.63</td>\n",
       "      <td>3.98</td>\n",
       "      <td>20.39</td>\n",
       "      <td>17.74</td>\n",
       "      <td>17.67</td>\n",
       "      <td>11.07</td>\n",
       "      <td>14.97</td>\n",
       "      <td>69</td>\n",
       "      <td>2</td>\n",
       "    </tr>\n",
       "  </tbody>\n",
       "</table>\n",
       "<p>5 rows × 69 columns</p>\n",
       "</div>"
      ],
      "text/plain": [
       "   Unnamed: 0  Código municipio                          Municipio  2009_1  \\\n",
       "0           0             48001                            Abadiño   43.75   \n",
       "1           1             20001                       Abaltzisketa   25.00   \n",
       "2           2             48002  Abanto y Ciérvana-Abanto Zierbena   30.77   \n",
       "3           3             20002                              Aduna   80.00   \n",
       "4           4             20016                                Aia   33.33   \n",
       "\n",
       "   2009_2  2009_3  2009_4  2010_5  2009_6  2009_7     ...       2009_57  \\\n",
       "0    8.65     0.0  185.36    33.4    0.00    4.55     ...         10.40   \n",
       "1    0.00     0.0  269.94    37.6    0.00    0.00     ...         92.02   \n",
       "2    9.60     0.0  250.51    37.0    0.00    2.63     ...         14.60   \n",
       "3   36.14     0.0  326.34    23.4   46.62   17.99     ...         37.30   \n",
       "4   15.63     0.0  114.60    28.5    0.00    5.03     ...          9.97   \n",
       "\n",
       "   2009_58  2006_59   2007  2009_61  2001_62   2010  2009_64  2011_elecc  \\\n",
       "0    12.90     0.88  12.94     5.86    11.24   7.60     8.50          71   \n",
       "1    18.69     6.53  10.73    20.61    31.40  22.98    14.93          66   \n",
       "2     9.29     0.82   8.60     8.15    10.63  21.09    18.13          65   \n",
       "3    12.05     1.59   8.34    29.35    14.69   8.29    24.10          86   \n",
       "4    15.63     3.98  20.39    17.74    17.67  11.07    14.97          69   \n",
       "\n",
       "   2011_partic  \n",
       "0            2  \n",
       "1            2  \n",
       "2            2  \n",
       "3            1  \n",
       "4            2  \n",
       "\n",
       "[5 rows x 69 columns]"
      ]
     },
     "execution_count": 7,
     "metadata": {},
     "output_type": "execute_result"
    }
   ],
   "source": [
    "df_2009.head()"
   ]
  },
  {
   "cell_type": "markdown",
   "metadata": {},
   "source": [
    "## Por un lado los 64 predictores"
   ]
  },
  {
   "cell_type": "code",
   "execution_count": 10,
   "metadata": {},
   "outputs": [],
   "source": [
    "X_pred09 = df_2009.drop(['Unnamed: 0','Código municipio', 'Municipio', '2011_elecc','2011_partic'], axis=1).values"
   ]
  },
  {
   "cell_type": "markdown",
   "metadata": {},
   "source": [
    "## Por otro la etiqueta a utilizar en el modelo"
   ]
  },
  {
   "cell_type": "code",
   "execution_count": 11,
   "metadata": {},
   "outputs": [],
   "source": [
    "y = df_2009[['2011_elecc']].values"
   ]
  },
  {
   "cell_type": "markdown",
   "metadata": {},
   "source": [
    "## En el caso de regresiones debemos utilizar arrays por lo que habra que transformar el dataframe de los predictores antes"
   ]
  },
  {
   "cell_type": "code",
   "execution_count": 12,
   "metadata": {},
   "outputs": [],
   "source": [
    "X = np.array(X_pred09)\n",
    "\n",
    "\n",
    " \n",
    "regressors_names = [\n",
    "    \"Linear Regression\", 'K nearest neighbors',\n",
    "    'Decision Tree Regressor','Random Forest Regressor'\n",
    "]\n",
    " \n",
    "regressors = [\n",
    "    LinearRegression(),\n",
    "    knnr(),\n",
    "    dtr(),\n",
    "    RandomForestRegressor()\n",
    "]"
   ]
  },
  {
   "cell_type": "markdown",
   "metadata": {},
   "source": [
    "## Vamos a utilizar cuatro modelos de regresion; lineal, K vecinos, Decision Tree y Random Forest. \n",
    "## Vamos a entrenar los cuatro modelos con los datos de 2011 (en este caso como tenemos los datos del 2015 para hacer de test nos lo podemos permitir)"
   ]
  },
  {
   "cell_type": "code",
   "execution_count": 13,
   "metadata": {},
   "outputs": [
    {
     "data": {
      "text/plain": [
       "LinearRegression(copy_X=True, fit_intercept=True, n_jobs=1, normalize=False)"
      ]
     },
     "execution_count": 13,
     "metadata": {},
     "output_type": "execute_result"
    }
   ],
   "source": [
    "lmodel = LinearRegression(n_jobs=1)\n",
    "lmodel.fit(X,y)"
   ]
  },
  {
   "cell_type": "code",
   "execution_count": 15,
   "metadata": {},
   "outputs": [
    {
     "data": {
      "text/plain": [
       "27.54713314858559"
      ]
     },
     "execution_count": 15,
     "metadata": {},
     "output_type": "execute_result"
    }
   ],
   "source": [
    "mean_squared_error(df_2009['2011_elecc'],lmodel.predict(X))"
   ]
  },
  {
   "cell_type": "code",
   "execution_count": 16,
   "metadata": {},
   "outputs": [
    {
     "name": "stderr",
     "output_type": "stream",
     "text": [
      "/home/vant/anaconda3/lib/python3.6/site-packages/ipykernel_launcher.py:2: DataConversionWarning:\n",
      "\n",
      "A column-vector y was passed when a 1d array was expected. Please change the shape of y to (n_samples,), for example using ravel().\n",
      "\n"
     ]
    },
    {
     "data": {
      "text/plain": [
       "RandomForestRegressor(bootstrap=True, criterion='mse', max_depth=11,\n",
       "           max_features='auto', max_leaf_nodes=None,\n",
       "           min_impurity_decrease=0.0, min_impurity_split=None,\n",
       "           min_samples_leaf=1, min_samples_split=2,\n",
       "           min_weight_fraction_leaf=0.0, n_estimators=10, n_jobs=1,\n",
       "           oob_score=False, random_state=None, verbose=0, warm_start=False)"
      ]
     },
     "execution_count": 16,
     "metadata": {},
     "output_type": "execute_result"
    }
   ],
   "source": [
    "rmodel=RandomForestRegressor(max_depth=11)\n",
    "rmodel.fit(X,y)"
   ]
  },
  {
   "cell_type": "code",
   "execution_count": 18,
   "metadata": {},
   "outputs": [
    {
     "data": {
      "text/plain": [
       "7.811775417095629"
      ]
     },
     "execution_count": 18,
     "metadata": {},
     "output_type": "execute_result"
    }
   ],
   "source": [
    "mean_squared_error(df_2009['2011_elecc'],rmodel.predict(X))"
   ]
  },
  {
   "cell_type": "code",
   "execution_count": 19,
   "metadata": {},
   "outputs": [
    {
     "data": {
      "text/plain": [
       "KNeighborsRegressor(algorithm='auto', leaf_size=30, metric='minkowski',\n",
       "          metric_params=None, n_jobs=1, n_neighbors=1, p=2,\n",
       "          weights='uniform')"
      ]
     },
     "execution_count": 19,
     "metadata": {},
     "output_type": "execute_result"
    }
   ],
   "source": [
    "k_model = knnr(n_neighbors=1)\n",
    "k_model.fit(X,y)"
   ]
  },
  {
   "cell_type": "code",
   "execution_count": 20,
   "metadata": {},
   "outputs": [
    {
     "data": {
      "text/plain": [
       "0.0"
      ]
     },
     "execution_count": 20,
     "metadata": {},
     "output_type": "execute_result"
    }
   ],
   "source": [
    "mean_squared_error(df_2009['2011_elecc'],k_model.predict(X))"
   ]
  },
  {
   "cell_type": "code",
   "execution_count": 21,
   "metadata": {},
   "outputs": [
    {
     "data": {
      "text/plain": [
       "DecisionTreeRegressor(criterion='mse', max_depth=11, max_features=None,\n",
       "           max_leaf_nodes=None, min_impurity_decrease=0.0,\n",
       "           min_impurity_split=None, min_samples_leaf=1,\n",
       "           min_samples_split=2, min_weight_fraction_leaf=0.0,\n",
       "           presort=False, random_state=None, splitter='best')"
      ]
     },
     "execution_count": 21,
     "metadata": {},
     "output_type": "execute_result"
    }
   ],
   "source": [
    "d_model = dtr(max_depth=11)\n",
    "d_model.fit(X,y)"
   ]
  },
  {
   "cell_type": "code",
   "execution_count": 22,
   "metadata": {},
   "outputs": [
    {
     "data": {
      "text/plain": [
       "1.987424684159378"
      ]
     },
     "execution_count": 22,
     "metadata": {},
     "output_type": "execute_result"
    }
   ],
   "source": [
    "mean_squared_error(df_2009['2011_elecc'],d_model.predict(X))"
   ]
  },
  {
   "cell_type": "code",
   "execution_count": 24,
   "metadata": {},
   "outputs": [
    {
     "data": {
      "text/plain": [
       "array([71., 66., 65., 86., 69.])"
      ]
     },
     "execution_count": 24,
     "metadata": {},
     "output_type": "execute_result"
    }
   ],
   "source": [
    "d_model.predict(X)[0:5]"
   ]
  },
  {
   "cell_type": "code",
   "execution_count": 25,
   "metadata": {},
   "outputs": [
    {
     "data": {
      "text/plain": [
       "0    71\n",
       "1    66\n",
       "2    65\n",
       "3    86\n",
       "4    69\n",
       "Name: 2011_elecc, dtype: int64"
      ]
     },
     "execution_count": 25,
     "metadata": {},
     "output_type": "execute_result"
    }
   ],
   "source": [
    "df_2009['2011_elecc'][0:5]"
   ]
  },
  {
   "cell_type": "markdown",
   "metadata": {},
   "source": [
    "## Una vez entrenado los modelos, testeamos los cuatro modelos con los datos del 2015\n",
    "\n",
    "## Para comprobar que modelo es el mejor en este caso de regresion una buena metrica a utilizar es la media de error cuadrado, cogiendo el modelo que menor valor que tenga."
   ]
  },
  {
   "cell_type": "code",
   "execution_count": 32,
   "metadata": {},
   "outputs": [],
   "source": [
    "df_2013 = pd.read_csv('../TFM/GDataframe_2013.csv')"
   ]
  },
  {
   "cell_type": "code",
   "execution_count": 45,
   "metadata": {},
   "outputs": [],
   "source": [
    "df_2013['2015_elecc'] = df_2013['2015_elecc'].fillna(71.02)"
   ]
  },
  {
   "cell_type": "code",
   "execution_count": 85,
   "metadata": {},
   "outputs": [
    {
     "data": {
      "text/plain": [
       "count    245.000000\n",
       "mean      71.028857\n",
       "std        8.428252\n",
       "min       31.370000\n",
       "25%       64.370000\n",
       "50%       70.130000\n",
       "75%       77.930000\n",
       "max       91.530000\n",
       "Name: 2015_elecc, dtype: float64"
      ]
     },
     "execution_count": 85,
     "metadata": {},
     "output_type": "execute_result"
    }
   ],
   "source": [
    "df_2013['2015_elecc'].describe()"
   ]
  },
  {
   "cell_type": "code",
   "execution_count": 46,
   "metadata": {},
   "outputs": [],
   "source": [
    "X_pred13 = df_2013.drop(['Unnamed: 0','Código municipio', 'Municipio', '2015_elecc','2015_partic'], axis=1).values"
   ]
  },
  {
   "cell_type": "code",
   "execution_count": 47,
   "metadata": {},
   "outputs": [],
   "source": [
    "X1 = np.array(X_pred13)"
   ]
  },
  {
   "cell_type": "markdown",
   "metadata": {},
   "source": [
    "## Es el modelo de regresion de random forest el cual nos da un error cuadratico medio menor, siendo de un 48.33, que teniendo en cuenta que son 245 municipios, con valores de participacion electoral entre 31.37 y 91.53 es un valor razonable.\n",
    "\n",
    "## Una simple traduccion de esta metrica es que hemos errado 7 puntos de participacion en total sumando los 245 municipios "
   ]
  },
  {
   "cell_type": "code",
   "execution_count": 48,
   "metadata": {},
   "outputs": [
    {
     "data": {
      "text/plain": [
       "48.33020682992144"
      ]
     },
     "execution_count": 48,
     "metadata": {},
     "output_type": "execute_result"
    }
   ],
   "source": [
    "mean_squared_error(df_2013['2015_elecc'],rmodel.predict(X1))"
   ]
  },
  {
   "cell_type": "code",
   "execution_count": 49,
   "metadata": {},
   "outputs": [
    {
     "data": {
      "text/plain": [
       "59.642356644916475"
      ]
     },
     "execution_count": 49,
     "metadata": {},
     "output_type": "execute_result"
    }
   ],
   "source": [
    "mean_squared_error(df_2013['2015_elecc'],d_model.predict(X1))"
   ]
  },
  {
   "cell_type": "code",
   "execution_count": 50,
   "metadata": {},
   "outputs": [
    {
     "data": {
      "text/plain": [
       "69.25921918367348"
      ]
     },
     "execution_count": 50,
     "metadata": {},
     "output_type": "execute_result"
    }
   ],
   "source": [
    "mean_squared_error(df_2013['2015_elecc'],k_model.predict(X1))"
   ]
  },
  {
   "cell_type": "code",
   "execution_count": 51,
   "metadata": {},
   "outputs": [
    {
     "data": {
      "text/plain": [
       "2218679.3554325886"
      ]
     },
     "execution_count": 51,
     "metadata": {},
     "output_type": "execute_result"
    }
   ],
   "source": [
    "mean_squared_error(df_2013['2015_elecc'],lmodel.predict(X1))"
   ]
  },
  {
   "cell_type": "markdown",
   "metadata": {},
   "source": [
    "## Ahora utilizamos el modelo entrenado para prediccir la participacion electoral en cada municipio vasco el proximo Mayo del año 2019"
   ]
  },
  {
   "cell_type": "code",
   "execution_count": 52,
   "metadata": {},
   "outputs": [],
   "source": [
    "df_2017 = pd.read_csv('../TFM/GDataframe_2017.csv')"
   ]
  },
  {
   "cell_type": "code",
   "execution_count": 53,
   "metadata": {},
   "outputs": [],
   "source": [
    "X_pred17 = df_2017.drop(['Unnamed: 0','Código municipio', 'Municipio'], axis=1).values"
   ]
  },
  {
   "cell_type": "code",
   "execution_count": 54,
   "metadata": {},
   "outputs": [],
   "source": [
    "X2 = np.array(X_pred17)"
   ]
  },
  {
   "cell_type": "code",
   "execution_count": 65,
   "metadata": {},
   "outputs": [],
   "source": [
    "pred_19 = pd.DataFrame(rmodel.predict(X2))"
   ]
  },
  {
   "cell_type": "code",
   "execution_count": 79,
   "metadata": {},
   "outputs": [],
   "source": [
    "pred_19.columns = ['part_pred_2019'] "
   ]
  },
  {
   "cell_type": "code",
   "execution_count": 80,
   "metadata": {},
   "outputs": [],
   "source": [
    "Part_pred_19 = pred_19['part_pred_2019'].apply(part_integ)"
   ]
  },
  {
   "cell_type": "code",
   "execution_count": 81,
   "metadata": {},
   "outputs": [],
   "source": [
    "predicc_17 = pd.read_csv('../TFM/df_foto_pred17.csv')"
   ]
  },
  {
   "cell_type": "code",
   "execution_count": 82,
   "metadata": {},
   "outputs": [],
   "source": [
    "prediccion_17 = predicc_17.drop('Unnamed: 0', axis=1)"
   ]
  },
  {
   "cell_type": "code",
   "execution_count": 83,
   "metadata": {},
   "outputs": [],
   "source": [
    "Elecciones_2019 = pd.concat([prediccion_17, Part_pred_19], axis=1)"
   ]
  },
  {
   "cell_type": "code",
   "execution_count": 84,
   "metadata": {},
   "outputs": [],
   "source": [
    "Elecciones_2019.to_csv('Elecciones_2019.csv')"
   ]
  }
 ],
 "metadata": {
  "kernelspec": {
   "display_name": "Python 3",
   "language": "python",
   "name": "python3"
  },
  "language_info": {
   "codemirror_mode": {
    "name": "ipython",
    "version": 3
   },
   "file_extension": ".py",
   "mimetype": "text/x-python",
   "name": "python",
   "nbconvert_exporter": "python",
   "pygments_lexer": "ipython3",
   "version": "3.6.5"
  }
 },
 "nbformat": 4,
 "nbformat_minor": 2
}
