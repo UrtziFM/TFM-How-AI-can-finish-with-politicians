{
 "cells": [
  {
   "cell_type": "markdown",
   "metadata": {},
   "source": [
    "## ¿Por que estan dificil saber quien va a ir a Votar?\n",
    "##Hay dos motivos muy humanos para explicarlo: que las personas somos optimistas en exceso y que nos gusta quedar bien"
   ]
  },
  {
   "cell_type": "markdown",
   "metadata": {},
   "source": [
    "## https://elpais.com/politica/2019/04/07/actualidad/1554639446_309283.html"
   ]
  },
  {
   "cell_type": "markdown",
   "metadata": {},
   "source": [
    "## Importamos las librerias necesarias "
   ]
  },
  {
   "cell_type": "code",
   "execution_count": 1,
   "metadata": {},
   "outputs": [],
   "source": [
    "import pandas as pd\n",
    "import numpy as np\n",
    "import matplotlib.pyplot as plt\n",
    "import plotly as py\n",
    "%matplotlib inline"
   ]
  },
  {
   "cell_type": "code",
   "execution_count": 185,
   "metadata": {},
   "outputs": [],
   "source": [
    "from sklearn.linear_model import LinearRegression, LogisticRegression\n",
    "from sklearn.tree import DecisionTreeRegressor as dtr\n",
    "from sklearn.metrics import mean_squared_error, r2_score\n",
    "from sklearn.ensemble import RandomForestRegressor\n",
    "from sklearn.model_selection import KFold, train_test_split, cross_val_score\n",
    "from sklearn.pipeline import make_pipeline\n",
    "from sklearn.preprocessing import PolynomialFeatures, StandardScaler, RobustScaler\n",
    "from sklearn.svm import SVC\n",
    "from sklearn.neighbors import KNeighborsRegressor as knnr\n",
    "import seaborn as sns\n",
    "sns.set_style(\"whitegrid\")\n",
    "import os\n",
    "import pickle"
   ]
  },
  {
   "cell_type": "code",
   "execution_count": 2,
   "metadata": {},
   "outputs": [
    {
     "data": {
      "text/html": [
       "<div>\n",
       "<style scoped>\n",
       "    .dataframe tbody tr th:only-of-type {\n",
       "        vertical-align: middle;\n",
       "    }\n",
       "\n",
       "    .dataframe tbody tr th {\n",
       "        vertical-align: top;\n",
       "    }\n",
       "\n",
       "    .dataframe thead th {\n",
       "        text-align: right;\n",
       "    }\n",
       "</style>\n",
       "<table border=\"1\" class=\"dataframe\">\n",
       "  <thead>\n",
       "    <tr style=\"text-align: right;\">\n",
       "      <th></th>\n",
       "      <th>Unnamed: 0</th>\n",
       "      <th>Código municipio</th>\n",
       "      <th>Municipio</th>\n",
       "      <th>2009_1</th>\n",
       "      <th>2009_2</th>\n",
       "      <th>2009_3</th>\n",
       "      <th>2009_4</th>\n",
       "      <th>2010_5</th>\n",
       "      <th>2009_6</th>\n",
       "      <th>2009_7</th>\n",
       "      <th>...</th>\n",
       "      <th>2009_57</th>\n",
       "      <th>2009_58</th>\n",
       "      <th>2006_59</th>\n",
       "      <th>2007</th>\n",
       "      <th>2009_61</th>\n",
       "      <th>2001_62</th>\n",
       "      <th>2010</th>\n",
       "      <th>2009_64</th>\n",
       "      <th>2011_elecc</th>\n",
       "      <th>2011_partic</th>\n",
       "    </tr>\n",
       "  </thead>\n",
       "  <tbody>\n",
       "    <tr>\n",
       "      <th>0</th>\n",
       "      <td>0</td>\n",
       "      <td>48001</td>\n",
       "      <td>Abadiño</td>\n",
       "      <td>43.75</td>\n",
       "      <td>8.65</td>\n",
       "      <td>0.0</td>\n",
       "      <td>185.36</td>\n",
       "      <td>33.4</td>\n",
       "      <td>0.00</td>\n",
       "      <td>4.55</td>\n",
       "      <td>...</td>\n",
       "      <td>10.40</td>\n",
       "      <td>12.90</td>\n",
       "      <td>0.88</td>\n",
       "      <td>12.94</td>\n",
       "      <td>5.86</td>\n",
       "      <td>11.24</td>\n",
       "      <td>7.60</td>\n",
       "      <td>8.50</td>\n",
       "      <td>71.16</td>\n",
       "      <td>2</td>\n",
       "    </tr>\n",
       "    <tr>\n",
       "      <th>1</th>\n",
       "      <td>1</td>\n",
       "      <td>20001</td>\n",
       "      <td>Abaltzisketa</td>\n",
       "      <td>25.00</td>\n",
       "      <td>0.00</td>\n",
       "      <td>0.0</td>\n",
       "      <td>269.94</td>\n",
       "      <td>37.6</td>\n",
       "      <td>0.00</td>\n",
       "      <td>0.00</td>\n",
       "      <td>...</td>\n",
       "      <td>92.02</td>\n",
       "      <td>18.69</td>\n",
       "      <td>6.53</td>\n",
       "      <td>10.73</td>\n",
       "      <td>20.61</td>\n",
       "      <td>31.40</td>\n",
       "      <td>22.98</td>\n",
       "      <td>14.93</td>\n",
       "      <td>66.13</td>\n",
       "      <td>2</td>\n",
       "    </tr>\n",
       "    <tr>\n",
       "      <th>2</th>\n",
       "      <td>2</td>\n",
       "      <td>48002</td>\n",
       "      <td>Abanto y Ciérvana-Abanto Zierbena</td>\n",
       "      <td>30.77</td>\n",
       "      <td>9.60</td>\n",
       "      <td>0.0</td>\n",
       "      <td>250.51</td>\n",
       "      <td>37.0</td>\n",
       "      <td>0.00</td>\n",
       "      <td>2.63</td>\n",
       "      <td>...</td>\n",
       "      <td>14.60</td>\n",
       "      <td>9.29</td>\n",
       "      <td>0.82</td>\n",
       "      <td>8.60</td>\n",
       "      <td>8.15</td>\n",
       "      <td>10.63</td>\n",
       "      <td>21.09</td>\n",
       "      <td>18.13</td>\n",
       "      <td>65.24</td>\n",
       "      <td>2</td>\n",
       "    </tr>\n",
       "    <tr>\n",
       "      <th>3</th>\n",
       "      <td>3</td>\n",
       "      <td>20002</td>\n",
       "      <td>Aduna</td>\n",
       "      <td>80.00</td>\n",
       "      <td>36.14</td>\n",
       "      <td>0.0</td>\n",
       "      <td>326.34</td>\n",
       "      <td>23.4</td>\n",
       "      <td>46.62</td>\n",
       "      <td>17.99</td>\n",
       "      <td>...</td>\n",
       "      <td>37.30</td>\n",
       "      <td>12.05</td>\n",
       "      <td>1.59</td>\n",
       "      <td>8.34</td>\n",
       "      <td>29.35</td>\n",
       "      <td>14.69</td>\n",
       "      <td>8.29</td>\n",
       "      <td>24.10</td>\n",
       "      <td>86.46</td>\n",
       "      <td>1</td>\n",
       "    </tr>\n",
       "    <tr>\n",
       "      <th>4</th>\n",
       "      <td>4</td>\n",
       "      <td>20016</td>\n",
       "      <td>Aia</td>\n",
       "      <td>33.33</td>\n",
       "      <td>15.63</td>\n",
       "      <td>0.0</td>\n",
       "      <td>114.60</td>\n",
       "      <td>28.5</td>\n",
       "      <td>0.00</td>\n",
       "      <td>5.03</td>\n",
       "      <td>...</td>\n",
       "      <td>9.97</td>\n",
       "      <td>15.63</td>\n",
       "      <td>3.98</td>\n",
       "      <td>20.39</td>\n",
       "      <td>17.74</td>\n",
       "      <td>17.67</td>\n",
       "      <td>11.07</td>\n",
       "      <td>14.97</td>\n",
       "      <td>69.73</td>\n",
       "      <td>2</td>\n",
       "    </tr>\n",
       "  </tbody>\n",
       "</table>\n",
       "<p>5 rows × 69 columns</p>\n",
       "</div>"
      ],
      "text/plain": [
       "   Unnamed: 0  Código municipio                          Municipio  2009_1  \\\n",
       "0           0             48001                            Abadiño   43.75   \n",
       "1           1             20001                       Abaltzisketa   25.00   \n",
       "2           2             48002  Abanto y Ciérvana-Abanto Zierbena   30.77   \n",
       "3           3             20002                              Aduna   80.00   \n",
       "4           4             20016                                Aia   33.33   \n",
       "\n",
       "   2009_2  2009_3  2009_4  2010_5  2009_6  2009_7     ...      2009_57  \\\n",
       "0    8.65     0.0  185.36    33.4    0.00    4.55     ...        10.40   \n",
       "1    0.00     0.0  269.94    37.6    0.00    0.00     ...        92.02   \n",
       "2    9.60     0.0  250.51    37.0    0.00    2.63     ...        14.60   \n",
       "3   36.14     0.0  326.34    23.4   46.62   17.99     ...        37.30   \n",
       "4   15.63     0.0  114.60    28.5    0.00    5.03     ...         9.97   \n",
       "\n",
       "   2009_58  2006_59   2007  2009_61  2001_62   2010  2009_64  2011_elecc  \\\n",
       "0    12.90     0.88  12.94     5.86    11.24   7.60     8.50       71.16   \n",
       "1    18.69     6.53  10.73    20.61    31.40  22.98    14.93       66.13   \n",
       "2     9.29     0.82   8.60     8.15    10.63  21.09    18.13       65.24   \n",
       "3    12.05     1.59   8.34    29.35    14.69   8.29    24.10       86.46   \n",
       "4    15.63     3.98  20.39    17.74    17.67  11.07    14.97       69.73   \n",
       "\n",
       "  2011_partic  \n",
       "0           2  \n",
       "1           2  \n",
       "2           2  \n",
       "3           1  \n",
       "4           2  \n",
       "\n",
       "[5 rows x 69 columns]"
      ]
     },
     "execution_count": 2,
     "metadata": {},
     "output_type": "execute_result"
    }
   ],
   "source": [
    "df_2009 = pd.read_csv('../TFM/1_Data/GDataframe_2009.csv')\n",
    "df_2009.head()"
   ]
  },
  {
   "cell_type": "markdown",
   "metadata": {},
   "source": [
    "## Para hacer una prediccion mas realista sobre el porcentaje de participacion electoral en las elecciones municipales en los 245 municipios vascos, vamos a utilizar un numero de participacion entero (tanto como etiqueta para el aprendizaje automatico del modelo de regresion como para el resultado), por ello creamos una funcion."
   ]
  },
  {
   "cell_type": "code",
   "execution_count": 187,
   "metadata": {},
   "outputs": [
    {
     "data": {
      "text/plain": [
       "67"
      ]
     },
     "execution_count": 187,
     "metadata": {},
     "output_type": "execute_result"
    }
   ],
   "source": [
    "def part_integ(num):\n",
    "    try:\n",
    "        return int(num)\n",
    "    except:\n",
    "        return 0\n",
    "\n",
    "part_integ(67.90)\n",
    "        "
   ]
  },
  {
   "cell_type": "code",
   "execution_count": 188,
   "metadata": {},
   "outputs": [],
   "source": [
    "df_2009['2011_elecc'] = df_2009['2011_elecc'].apply(part_integ)"
   ]
  },
  {
   "cell_type": "code",
   "execution_count": 189,
   "metadata": {},
   "outputs": [
    {
     "data": {
      "text/html": [
       "<div>\n",
       "<style scoped>\n",
       "    .dataframe tbody tr th:only-of-type {\n",
       "        vertical-align: middle;\n",
       "    }\n",
       "\n",
       "    .dataframe tbody tr th {\n",
       "        vertical-align: top;\n",
       "    }\n",
       "\n",
       "    .dataframe thead th {\n",
       "        text-align: right;\n",
       "    }\n",
       "</style>\n",
       "<table border=\"1\" class=\"dataframe\">\n",
       "  <thead>\n",
       "    <tr style=\"text-align: right;\">\n",
       "      <th></th>\n",
       "      <th>Unnamed: 0</th>\n",
       "      <th>Código municipio</th>\n",
       "      <th>Municipio</th>\n",
       "      <th>2009_1</th>\n",
       "      <th>2009_2</th>\n",
       "      <th>2009_3</th>\n",
       "      <th>2009_4</th>\n",
       "      <th>2010_5</th>\n",
       "      <th>2009_6</th>\n",
       "      <th>2009_7</th>\n",
       "      <th>2009_8</th>\n",
       "      <th>2009_9</th>\n",
       "      <th>2009_10</th>\n",
       "      <th>2009_11</th>\n",
       "      <th>2009_12</th>\n",
       "      <th>2011_13</th>\n",
       "      <th>2009_14</th>\n",
       "      <th>2009_15</th>\n",
       "      <th>2009_16</th>\n",
       "      <th>2001_17</th>\n",
       "      <th>2009_18</th>\n",
       "      <th>2009_19</th>\n",
       "      <th>2009_20</th>\n",
       "      <th>2005_21</th>\n",
       "      <th>2005_22</th>\n",
       "      <th>2009_23</th>\n",
       "      <th>2009_24</th>\n",
       "      <th>2005_25</th>\n",
       "      <th>2011_26</th>\n",
       "      <th>2009_27</th>\n",
       "      <th>2009_28</th>\n",
       "      <th>2009_29</th>\n",
       "      <th>2009_30</th>\n",
       "      <th>2009_31</th>\n",
       "      <th>2012</th>\n",
       "      <th>2009_33</th>\n",
       "      <th>2009_34</th>\n",
       "      <th>2009_35</th>\n",
       "      <th>2009_36</th>\n",
       "      <th>2009_37</th>\n",
       "      <th>2009_38</th>\n",
       "      <th>2009_39</th>\n",
       "      <th>2009_40</th>\n",
       "      <th>2009_41</th>\n",
       "      <th>2009_42</th>\n",
       "      <th>2010_43</th>\n",
       "      <th>2010_44</th>\n",
       "      <th>2010_45</th>\n",
       "      <th>2011_46</th>\n",
       "      <th>2009_47</th>\n",
       "      <th>2009_48</th>\n",
       "      <th>2011_49</th>\n",
       "      <th>2009_50</th>\n",
       "      <th>2009_51</th>\n",
       "      <th>2009_52</th>\n",
       "      <th>2005_53</th>\n",
       "      <th>2005</th>\n",
       "      <th>2006_55</th>\n",
       "      <th>2009_56</th>\n",
       "      <th>2009_57</th>\n",
       "      <th>2009_58</th>\n",
       "      <th>2006_59</th>\n",
       "      <th>2007</th>\n",
       "      <th>2009_61</th>\n",
       "      <th>2001_62</th>\n",
       "      <th>2010</th>\n",
       "      <th>2009_64</th>\n",
       "      <th>2011_elecc</th>\n",
       "      <th>2011_partic</th>\n",
       "    </tr>\n",
       "  </thead>\n",
       "  <tbody>\n",
       "    <tr>\n",
       "      <th>0</th>\n",
       "      <td>0</td>\n",
       "      <td>48001</td>\n",
       "      <td>Abadiño</td>\n",
       "      <td>43.75</td>\n",
       "      <td>8.65</td>\n",
       "      <td>0.0</td>\n",
       "      <td>185.36</td>\n",
       "      <td>33.4</td>\n",
       "      <td>0.00</td>\n",
       "      <td>4.55</td>\n",
       "      <td>0.00</td>\n",
       "      <td>2.0</td>\n",
       "      <td>96.44</td>\n",
       "      <td>0.00</td>\n",
       "      <td>6.04</td>\n",
       "      <td>145.52</td>\n",
       "      <td>11.71</td>\n",
       "      <td>7.30</td>\n",
       "      <td>201.11</td>\n",
       "      <td>88.98</td>\n",
       "      <td>23.68</td>\n",
       "      <td>2.74</td>\n",
       "      <td>2.75</td>\n",
       "      <td>212.71</td>\n",
       "      <td>44.28</td>\n",
       "      <td>100.00</td>\n",
       "      <td>3.41</td>\n",
       "      <td>43.85</td>\n",
       "      <td>73.8</td>\n",
       "      <td>49.69</td>\n",
       "      <td>46.73</td>\n",
       "      <td>13.71</td>\n",
       "      <td>16.76</td>\n",
       "      <td>19.97</td>\n",
       "      <td>4.83</td>\n",
       "      <td>63.27</td>\n",
       "      <td>6.06</td>\n",
       "      <td>13.95</td>\n",
       "      <td>289.99</td>\n",
       "      <td>10.94</td>\n",
       "      <td>1.38</td>\n",
       "      <td>0.73</td>\n",
       "      <td>20.38</td>\n",
       "      <td>9.44</td>\n",
       "      <td>0.00</td>\n",
       "      <td>19.51</td>\n",
       "      <td>56.11</td>\n",
       "      <td>16.89</td>\n",
       "      <td>94.05</td>\n",
       "      <td>4.16</td>\n",
       "      <td>7260.0</td>\n",
       "      <td>66.02</td>\n",
       "      <td>0.55</td>\n",
       "      <td>4.55</td>\n",
       "      <td>2.41</td>\n",
       "      <td>1.16</td>\n",
       "      <td>55.01</td>\n",
       "      <td>90.64</td>\n",
       "      <td>8.75</td>\n",
       "      <td>10.40</td>\n",
       "      <td>12.90</td>\n",
       "      <td>0.88</td>\n",
       "      <td>12.94</td>\n",
       "      <td>5.86</td>\n",
       "      <td>11.24</td>\n",
       "      <td>7.60</td>\n",
       "      <td>8.50</td>\n",
       "      <td>71</td>\n",
       "      <td>2</td>\n",
       "    </tr>\n",
       "    <tr>\n",
       "      <th>1</th>\n",
       "      <td>1</td>\n",
       "      <td>20001</td>\n",
       "      <td>Abaltzisketa</td>\n",
       "      <td>25.00</td>\n",
       "      <td>0.00</td>\n",
       "      <td>0.0</td>\n",
       "      <td>269.94</td>\n",
       "      <td>37.6</td>\n",
       "      <td>0.00</td>\n",
       "      <td>0.00</td>\n",
       "      <td>0.00</td>\n",
       "      <td>3.0</td>\n",
       "      <td>96.71</td>\n",
       "      <td>0.00</td>\n",
       "      <td>3.12</td>\n",
       "      <td>154.65</td>\n",
       "      <td>0.00</td>\n",
       "      <td>0.00</td>\n",
       "      <td>28.21</td>\n",
       "      <td>100.00</td>\n",
       "      <td>32.14</td>\n",
       "      <td>0.00</td>\n",
       "      <td>0.00</td>\n",
       "      <td>261.93</td>\n",
       "      <td>49.18</td>\n",
       "      <td>0.00</td>\n",
       "      <td>7.69</td>\n",
       "      <td>52.75</td>\n",
       "      <td>71.6</td>\n",
       "      <td>43.61</td>\n",
       "      <td>69.89</td>\n",
       "      <td>18.35</td>\n",
       "      <td>16.67</td>\n",
       "      <td>4.17</td>\n",
       "      <td>35.00</td>\n",
       "      <td>79.17</td>\n",
       "      <td>15.82</td>\n",
       "      <td>18.67</td>\n",
       "      <td>585.88</td>\n",
       "      <td>0.00</td>\n",
       "      <td>0.00</td>\n",
       "      <td>0.90</td>\n",
       "      <td>12.27</td>\n",
       "      <td>0.00</td>\n",
       "      <td>0.00</td>\n",
       "      <td>14.75</td>\n",
       "      <td>43.53</td>\n",
       "      <td>11.51</td>\n",
       "      <td>100.00</td>\n",
       "      <td>1.90</td>\n",
       "      <td>316.0</td>\n",
       "      <td>74.44</td>\n",
       "      <td>0.00</td>\n",
       "      <td>9.49</td>\n",
       "      <td>0.26</td>\n",
       "      <td>0.18</td>\n",
       "      <td>50.36</td>\n",
       "      <td>110.75</td>\n",
       "      <td>103.45</td>\n",
       "      <td>92.02</td>\n",
       "      <td>18.69</td>\n",
       "      <td>6.53</td>\n",
       "      <td>10.73</td>\n",
       "      <td>20.61</td>\n",
       "      <td>31.40</td>\n",
       "      <td>22.98</td>\n",
       "      <td>14.93</td>\n",
       "      <td>66</td>\n",
       "      <td>2</td>\n",
       "    </tr>\n",
       "    <tr>\n",
       "      <th>2</th>\n",
       "      <td>2</td>\n",
       "      <td>48002</td>\n",
       "      <td>Abanto y Ciérvana-Abanto Zierbena</td>\n",
       "      <td>30.77</td>\n",
       "      <td>9.60</td>\n",
       "      <td>0.0</td>\n",
       "      <td>250.51</td>\n",
       "      <td>37.0</td>\n",
       "      <td>0.00</td>\n",
       "      <td>2.63</td>\n",
       "      <td>9.77</td>\n",
       "      <td>3.0</td>\n",
       "      <td>98.08</td>\n",
       "      <td>0.00</td>\n",
       "      <td>0.41</td>\n",
       "      <td>184.19</td>\n",
       "      <td>9.12</td>\n",
       "      <td>4.56</td>\n",
       "      <td>595.49</td>\n",
       "      <td>94.70</td>\n",
       "      <td>23.48</td>\n",
       "      <td>3.09</td>\n",
       "      <td>3.11</td>\n",
       "      <td>480.39</td>\n",
       "      <td>92.71</td>\n",
       "      <td>88.17</td>\n",
       "      <td>3.40</td>\n",
       "      <td>42.44</td>\n",
       "      <td>67.2</td>\n",
       "      <td>47.90</td>\n",
       "      <td>51.52</td>\n",
       "      <td>15.68</td>\n",
       "      <td>21.74</td>\n",
       "      <td>13.04</td>\n",
       "      <td>2.39</td>\n",
       "      <td>65.22</td>\n",
       "      <td>6.22</td>\n",
       "      <td>13.99</td>\n",
       "      <td>240.10</td>\n",
       "      <td>7.20</td>\n",
       "      <td>1.04</td>\n",
       "      <td>0.76</td>\n",
       "      <td>4.52</td>\n",
       "      <td>0.00</td>\n",
       "      <td>61.39</td>\n",
       "      <td>20.98</td>\n",
       "      <td>55.96</td>\n",
       "      <td>16.29</td>\n",
       "      <td>84.89</td>\n",
       "      <td>1.63</td>\n",
       "      <td>9647.0</td>\n",
       "      <td>80.36</td>\n",
       "      <td>1.34</td>\n",
       "      <td>0.00</td>\n",
       "      <td>10.19</td>\n",
       "      <td>2.16</td>\n",
       "      <td>38.46</td>\n",
       "      <td>76.86</td>\n",
       "      <td>8.60</td>\n",
       "      <td>14.60</td>\n",
       "      <td>9.29</td>\n",
       "      <td>0.82</td>\n",
       "      <td>8.60</td>\n",
       "      <td>8.15</td>\n",
       "      <td>10.63</td>\n",
       "      <td>21.09</td>\n",
       "      <td>18.13</td>\n",
       "      <td>65</td>\n",
       "      <td>2</td>\n",
       "    </tr>\n",
       "    <tr>\n",
       "      <th>3</th>\n",
       "      <td>3</td>\n",
       "      <td>20002</td>\n",
       "      <td>Aduna</td>\n",
       "      <td>80.00</td>\n",
       "      <td>36.14</td>\n",
       "      <td>0.0</td>\n",
       "      <td>326.34</td>\n",
       "      <td>23.4</td>\n",
       "      <td>46.62</td>\n",
       "      <td>17.99</td>\n",
       "      <td>0.00</td>\n",
       "      <td>1.0</td>\n",
       "      <td>96.71</td>\n",
       "      <td>0.00</td>\n",
       "      <td>-2.41</td>\n",
       "      <td>294.39</td>\n",
       "      <td>2.49</td>\n",
       "      <td>4.99</td>\n",
       "      <td>57.29</td>\n",
       "      <td>100.00</td>\n",
       "      <td>32.30</td>\n",
       "      <td>0.00</td>\n",
       "      <td>0.00</td>\n",
       "      <td>301.70</td>\n",
       "      <td>39.12</td>\n",
       "      <td>0.00</td>\n",
       "      <td>5.00</td>\n",
       "      <td>52.75</td>\n",
       "      <td>66.1</td>\n",
       "      <td>91.57</td>\n",
       "      <td>55.43</td>\n",
       "      <td>14.46</td>\n",
       "      <td>16.53</td>\n",
       "      <td>26.45</td>\n",
       "      <td>6.56</td>\n",
       "      <td>57.02</td>\n",
       "      <td>17.46</td>\n",
       "      <td>19.20</td>\n",
       "      <td>-900.80</td>\n",
       "      <td>0.00</td>\n",
       "      <td>0.00</td>\n",
       "      <td>1.79</td>\n",
       "      <td>9.32</td>\n",
       "      <td>0.00</td>\n",
       "      <td>0.00</td>\n",
       "      <td>16.31</td>\n",
       "      <td>53.21</td>\n",
       "      <td>17.38</td>\n",
       "      <td>100.00</td>\n",
       "      <td>2.99</td>\n",
       "      <td>401.0</td>\n",
       "      <td>81.70</td>\n",
       "      <td>2.33</td>\n",
       "      <td>17.46</td>\n",
       "      <td>4.54</td>\n",
       "      <td>3.71</td>\n",
       "      <td>66.71</td>\n",
       "      <td>108.36</td>\n",
       "      <td>5.03</td>\n",
       "      <td>37.30</td>\n",
       "      <td>12.05</td>\n",
       "      <td>1.59</td>\n",
       "      <td>8.34</td>\n",
       "      <td>29.35</td>\n",
       "      <td>14.69</td>\n",
       "      <td>8.29</td>\n",
       "      <td>24.10</td>\n",
       "      <td>86</td>\n",
       "      <td>1</td>\n",
       "    </tr>\n",
       "    <tr>\n",
       "      <th>4</th>\n",
       "      <td>4</td>\n",
       "      <td>20016</td>\n",
       "      <td>Aia</td>\n",
       "      <td>33.33</td>\n",
       "      <td>15.63</td>\n",
       "      <td>0.0</td>\n",
       "      <td>114.60</td>\n",
       "      <td>28.5</td>\n",
       "      <td>0.00</td>\n",
       "      <td>5.03</td>\n",
       "      <td>4.98</td>\n",
       "      <td>3.0</td>\n",
       "      <td>98.90</td>\n",
       "      <td>27.75</td>\n",
       "      <td>4.03</td>\n",
       "      <td>156.28</td>\n",
       "      <td>3.06</td>\n",
       "      <td>3.06</td>\n",
       "      <td>34.96</td>\n",
       "      <td>98.11</td>\n",
       "      <td>38.45</td>\n",
       "      <td>4.98</td>\n",
       "      <td>5.11</td>\n",
       "      <td>331.52</td>\n",
       "      <td>64.61</td>\n",
       "      <td>83.33</td>\n",
       "      <td>4.82</td>\n",
       "      <td>28.60</td>\n",
       "      <td>73.4</td>\n",
       "      <td>43.87</td>\n",
       "      <td>59.58</td>\n",
       "      <td>15.63</td>\n",
       "      <td>21.78</td>\n",
       "      <td>26.22</td>\n",
       "      <td>32.07</td>\n",
       "      <td>52.00</td>\n",
       "      <td>16.85</td>\n",
       "      <td>17.06</td>\n",
       "      <td>219.79</td>\n",
       "      <td>4.98</td>\n",
       "      <td>0.00</td>\n",
       "      <td>0.72</td>\n",
       "      <td>365.22</td>\n",
       "      <td>0.00</td>\n",
       "      <td>59.41</td>\n",
       "      <td>13.06</td>\n",
       "      <td>51.44</td>\n",
       "      <td>16.77</td>\n",
       "      <td>100.00</td>\n",
       "      <td>4.90</td>\n",
       "      <td>1958.0</td>\n",
       "      <td>75.42</td>\n",
       "      <td>0.50</td>\n",
       "      <td>10.73</td>\n",
       "      <td>0.79</td>\n",
       "      <td>0.73</td>\n",
       "      <td>51.96</td>\n",
       "      <td>109.75</td>\n",
       "      <td>4.49</td>\n",
       "      <td>9.97</td>\n",
       "      <td>15.63</td>\n",
       "      <td>3.98</td>\n",
       "      <td>20.39</td>\n",
       "      <td>17.74</td>\n",
       "      <td>17.67</td>\n",
       "      <td>11.07</td>\n",
       "      <td>14.97</td>\n",
       "      <td>69</td>\n",
       "      <td>2</td>\n",
       "    </tr>\n",
       "  </tbody>\n",
       "</table>\n",
       "</div>"
      ],
      "text/plain": [
       "   Unnamed: 0  Código municipio                          Municipio  2009_1  \\\n",
       "0           0             48001                            Abadiño   43.75   \n",
       "1           1             20001                       Abaltzisketa   25.00   \n",
       "2           2             48002  Abanto y Ciérvana-Abanto Zierbena   30.77   \n",
       "3           3             20002                              Aduna   80.00   \n",
       "4           4             20016                                Aia   33.33   \n",
       "\n",
       "   2009_2  2009_3  2009_4  2010_5  2009_6  2009_7  2009_8  2009_9  2009_10  \\\n",
       "0    8.65     0.0  185.36    33.4    0.00    4.55    0.00     2.0    96.44   \n",
       "1    0.00     0.0  269.94    37.6    0.00    0.00    0.00     3.0    96.71   \n",
       "2    9.60     0.0  250.51    37.0    0.00    2.63    9.77     3.0    98.08   \n",
       "3   36.14     0.0  326.34    23.4   46.62   17.99    0.00     1.0    96.71   \n",
       "4   15.63     0.0  114.60    28.5    0.00    5.03    4.98     3.0    98.90   \n",
       "\n",
       "   2009_11  2009_12  2011_13  2009_14  2009_15  2009_16  2001_17  2009_18  \\\n",
       "0     0.00     6.04   145.52    11.71     7.30   201.11    88.98    23.68   \n",
       "1     0.00     3.12   154.65     0.00     0.00    28.21   100.00    32.14   \n",
       "2     0.00     0.41   184.19     9.12     4.56   595.49    94.70    23.48   \n",
       "3     0.00    -2.41   294.39     2.49     4.99    57.29   100.00    32.30   \n",
       "4    27.75     4.03   156.28     3.06     3.06    34.96    98.11    38.45   \n",
       "\n",
       "   2009_19  2009_20  2005_21  2005_22  2009_23  2009_24  2005_25  2011_26  \\\n",
       "0     2.74     2.75   212.71    44.28   100.00     3.41    43.85     73.8   \n",
       "1     0.00     0.00   261.93    49.18     0.00     7.69    52.75     71.6   \n",
       "2     3.09     3.11   480.39    92.71    88.17     3.40    42.44     67.2   \n",
       "3     0.00     0.00   301.70    39.12     0.00     5.00    52.75     66.1   \n",
       "4     4.98     5.11   331.52    64.61    83.33     4.82    28.60     73.4   \n",
       "\n",
       "   2009_27  2009_28  2009_29  2009_30  2009_31   2012  2009_33  2009_34  \\\n",
       "0    49.69    46.73    13.71    16.76    19.97   4.83    63.27     6.06   \n",
       "1    43.61    69.89    18.35    16.67     4.17  35.00    79.17    15.82   \n",
       "2    47.90    51.52    15.68    21.74    13.04   2.39    65.22     6.22   \n",
       "3    91.57    55.43    14.46    16.53    26.45   6.56    57.02    17.46   \n",
       "4    43.87    59.58    15.63    21.78    26.22  32.07    52.00    16.85   \n",
       "\n",
       "   2009_35  2009_36  2009_37  2009_38  2009_39  2009_40  2009_41  2009_42  \\\n",
       "0    13.95   289.99    10.94     1.38     0.73    20.38     9.44     0.00   \n",
       "1    18.67   585.88     0.00     0.00     0.90    12.27     0.00     0.00   \n",
       "2    13.99   240.10     7.20     1.04     0.76     4.52     0.00    61.39   \n",
       "3    19.20  -900.80     0.00     0.00     1.79     9.32     0.00     0.00   \n",
       "4    17.06   219.79     4.98     0.00     0.72   365.22     0.00    59.41   \n",
       "\n",
       "   2010_43  2010_44  2010_45  2011_46  2009_47  2009_48  2011_49  2009_50  \\\n",
       "0    19.51    56.11    16.89    94.05     4.16   7260.0    66.02     0.55   \n",
       "1    14.75    43.53    11.51   100.00     1.90    316.0    74.44     0.00   \n",
       "2    20.98    55.96    16.29    84.89     1.63   9647.0    80.36     1.34   \n",
       "3    16.31    53.21    17.38   100.00     2.99    401.0    81.70     2.33   \n",
       "4    13.06    51.44    16.77   100.00     4.90   1958.0    75.42     0.50   \n",
       "\n",
       "   2009_51  2009_52  2005_53   2005  2006_55  2009_56  2009_57  2009_58  \\\n",
       "0     4.55     2.41     1.16  55.01    90.64     8.75    10.40    12.90   \n",
       "1     9.49     0.26     0.18  50.36   110.75   103.45    92.02    18.69   \n",
       "2     0.00    10.19     2.16  38.46    76.86     8.60    14.60     9.29   \n",
       "3    17.46     4.54     3.71  66.71   108.36     5.03    37.30    12.05   \n",
       "4    10.73     0.79     0.73  51.96   109.75     4.49     9.97    15.63   \n",
       "\n",
       "   2006_59   2007  2009_61  2001_62   2010  2009_64  2011_elecc  2011_partic  \n",
       "0     0.88  12.94     5.86    11.24   7.60     8.50          71            2  \n",
       "1     6.53  10.73    20.61    31.40  22.98    14.93          66            2  \n",
       "2     0.82   8.60     8.15    10.63  21.09    18.13          65            2  \n",
       "3     1.59   8.34    29.35    14.69   8.29    24.10          86            1  \n",
       "4     3.98  20.39    17.74    17.67  11.07    14.97          69            2  "
      ]
     },
     "execution_count": 189,
     "metadata": {},
     "output_type": "execute_result"
    }
   ],
   "source": [
    "pd.options.display.max_columns=None\n",
    "df_2009.head()"
   ]
  },
  {
   "cell_type": "markdown",
   "metadata": {},
   "source": [
    "## Por un lado los 64 predictores"
   ]
  },
  {
   "cell_type": "code",
   "execution_count": 190,
   "metadata": {},
   "outputs": [],
   "source": [
    "X_pred09 = df_2009.drop(['Unnamed: 0','Código municipio', 'Municipio', '2011_elecc','2011_partic'], axis=1).values"
   ]
  },
  {
   "cell_type": "markdown",
   "metadata": {},
   "source": [
    "## Por otro la etiqueta a utilizar en el modelo"
   ]
  },
  {
   "cell_type": "code",
   "execution_count": 191,
   "metadata": {},
   "outputs": [],
   "source": [
    "y = df_2009[['2011_elecc']].values"
   ]
  },
  {
   "cell_type": "markdown",
   "metadata": {},
   "source": [
    "## En el caso de regresiones debemos utilizar arrays por lo que habra que transformar el dataframe de los predictores antes"
   ]
  },
  {
   "cell_type": "code",
   "execution_count": 197,
   "metadata": {},
   "outputs": [],
   "source": [
    "X = np.array(X_pred09)\n",
    "\n",
    "\n",
    " \n",
    "regressors_names = [\n",
    "    \"Linear Regression\", 'K nearest neighbors',\n",
    "    'Decision Tree Regressor','Random Forest Regressor'\n",
    "]\n",
    " \n",
    "regressors = [\n",
    "    LinearRegression(),\n",
    "    knnr(),\n",
    "    dtr(),\n",
    "    RandomForestRegressor()\n",
    "]"
   ]
  },
  {
   "cell_type": "markdown",
   "metadata": {},
   "source": [
    "## Vamos a utilizar cuatro modelos de regresion; lineal, K vecinos, Decision Tree y Random Forest. \n",
    "## Vamos a entrenar los cuatro modelos con los datos de 2011 (en este caso como tenemos los datos del 2015 para hacer de test nos lo podemos permitir)"
   ]
  },
  {
   "cell_type": "code",
   "execution_count": 198,
   "metadata": {},
   "outputs": [
    {
     "data": {
      "text/plain": [
       "LinearRegression(copy_X=True, fit_intercept=True, n_jobs=1, normalize=False)"
      ]
     },
     "execution_count": 198,
     "metadata": {},
     "output_type": "execute_result"
    }
   ],
   "source": [
    "lmodel = LinearRegression(n_jobs=1)\n",
    "lmodel.fit(X,y)"
   ]
  },
  {
   "cell_type": "code",
   "execution_count": 199,
   "metadata": {},
   "outputs": [
    {
     "data": {
      "text/plain": [
       "27.54713314858559"
      ]
     },
     "execution_count": 199,
     "metadata": {},
     "output_type": "execute_result"
    }
   ],
   "source": [
    "mean_squared_error(df_2009['2011_elecc'],lmodel.predict(X))"
   ]
  },
  {
   "cell_type": "code",
   "execution_count": 200,
   "metadata": {},
   "outputs": [
    {
     "name": "stderr",
     "output_type": "stream",
     "text": [
      "/home/vant/anaconda3/lib/python3.6/site-packages/ipykernel_launcher.py:2: DataConversionWarning:\n",
      "\n",
      "A column-vector y was passed when a 1d array was expected. Please change the shape of y to (n_samples,), for example using ravel().\n",
      "\n"
     ]
    },
    {
     "data": {
      "text/plain": [
       "RandomForestRegressor(bootstrap=True, criterion='mse', max_depth=11,\n",
       "           max_features='auto', max_leaf_nodes=None,\n",
       "           min_impurity_decrease=0.0, min_impurity_split=None,\n",
       "           min_samples_leaf=1, min_samples_split=2,\n",
       "           min_weight_fraction_leaf=0.0, n_estimators=10, n_jobs=1,\n",
       "           oob_score=False, random_state=None, verbose=0, warm_start=False)"
      ]
     },
     "execution_count": 200,
     "metadata": {},
     "output_type": "execute_result"
    }
   ],
   "source": [
    "rmodel=RandomForestRegressor(max_depth=11)\n",
    "rmodel.fit(X,y)"
   ]
  },
  {
   "cell_type": "code",
   "execution_count": 201,
   "metadata": {},
   "outputs": [
    {
     "data": {
      "text/plain": [
       "8.269734222744502"
      ]
     },
     "execution_count": 201,
     "metadata": {},
     "output_type": "execute_result"
    }
   ],
   "source": [
    "mean_squared_error(df_2009['2011_elecc'],rmodel.predict(X))"
   ]
  },
  {
   "cell_type": "code",
   "execution_count": 202,
   "metadata": {},
   "outputs": [
    {
     "data": {
      "text/plain": [
       "KNeighborsRegressor(algorithm='auto', leaf_size=30, metric='minkowski',\n",
       "          metric_params=None, n_jobs=1, n_neighbors=1, p=2,\n",
       "          weights='uniform')"
      ]
     },
     "execution_count": 202,
     "metadata": {},
     "output_type": "execute_result"
    }
   ],
   "source": [
    "k_model = knnr(n_neighbors=1)\n",
    "k_model.fit(X,y)"
   ]
  },
  {
   "cell_type": "code",
   "execution_count": 203,
   "metadata": {},
   "outputs": [
    {
     "data": {
      "text/plain": [
       "0.0"
      ]
     },
     "execution_count": 203,
     "metadata": {},
     "output_type": "execute_result"
    }
   ],
   "source": [
    "mean_squared_error(df_2009['2011_elecc'],k_model.predict(X))"
   ]
  },
  {
   "cell_type": "code",
   "execution_count": 204,
   "metadata": {},
   "outputs": [
    {
     "data": {
      "text/plain": [
       "DecisionTreeRegressor(criterion='mse', max_depth=11, max_features=None,\n",
       "           max_leaf_nodes=None, min_impurity_decrease=0.0,\n",
       "           min_impurity_split=None, min_samples_leaf=1,\n",
       "           min_samples_split=2, min_weight_fraction_leaf=0.0,\n",
       "           presort=False, random_state=None, splitter='best')"
      ]
     },
     "execution_count": 204,
     "metadata": {},
     "output_type": "execute_result"
    }
   ],
   "source": [
    "d_model = dtr(max_depth=11)\n",
    "d_model.fit(X,y)"
   ]
  },
  {
   "cell_type": "code",
   "execution_count": 205,
   "metadata": {},
   "outputs": [
    {
     "data": {
      "text/plain": [
       "1.987424684159378"
      ]
     },
     "execution_count": 205,
     "metadata": {},
     "output_type": "execute_result"
    }
   ],
   "source": [
    "mean_squared_error(df_2009['2011_elecc'],d_model.predict(X))"
   ]
  },
  {
   "cell_type": "code",
   "execution_count": 206,
   "metadata": {},
   "outputs": [
    {
     "data": {
      "text/plain": [
       "array([71., 66., 65., 86., 69.])"
      ]
     },
     "execution_count": 206,
     "metadata": {},
     "output_type": "execute_result"
    }
   ],
   "source": [
    "d_model.predict(X)[0:5]"
   ]
  },
  {
   "cell_type": "code",
   "execution_count": 207,
   "metadata": {},
   "outputs": [
    {
     "data": {
      "text/plain": [
       "0    71\n",
       "1    66\n",
       "2    65\n",
       "3    86\n",
       "4    69\n",
       "Name: 2011_elecc, dtype: int64"
      ]
     },
     "execution_count": 207,
     "metadata": {},
     "output_type": "execute_result"
    }
   ],
   "source": [
    "df_2009['2011_elecc'][0:5]"
   ]
  },
  {
   "cell_type": "markdown",
   "metadata": {},
   "source": [
    "## Una vez entrenado los modelos, testeamos los cuatro modelos con los datos del 2015\n",
    "\n",
    "## Para comprobar que modelo es el mejor en este caso de regresion una buena metrica a utilizar es la media de error cuadrado, cogiendo el modelo que menor valor que tenga."
   ]
  },
  {
   "cell_type": "code",
   "execution_count": 3,
   "metadata": {},
   "outputs": [],
   "source": [
    "df_2013 = pd.read_csv('../TFM/1_Data/GDataframe_2013.csv')"
   ]
  },
  {
   "cell_type": "code",
   "execution_count": 4,
   "metadata": {},
   "outputs": [],
   "source": [
    "df_2013['2015_elecc'] = df_2013['2015_elecc'].fillna(70.13)"
   ]
  },
  {
   "cell_type": "code",
   "execution_count": 210,
   "metadata": {},
   "outputs": [
    {
     "data": {
      "text/plain": [
       "count    245.000000\n",
       "mean      71.025224\n",
       "std        8.428447\n",
       "min       31.370000\n",
       "25%       64.370000\n",
       "50%       70.130000\n",
       "75%       77.930000\n",
       "max       91.530000\n",
       "Name: 2015_elecc, dtype: float64"
      ]
     },
     "execution_count": 210,
     "metadata": {},
     "output_type": "execute_result"
    }
   ],
   "source": [
    "df_2013['2015_elecc'].describe()"
   ]
  },
  {
   "cell_type": "code",
   "execution_count": 211,
   "metadata": {},
   "outputs": [
    {
     "data": {
      "text/html": [
       "<div>\n",
       "<style scoped>\n",
       "    .dataframe tbody tr th:only-of-type {\n",
       "        vertical-align: middle;\n",
       "    }\n",
       "\n",
       "    .dataframe tbody tr th {\n",
       "        vertical-align: top;\n",
       "    }\n",
       "\n",
       "    .dataframe thead th {\n",
       "        text-align: right;\n",
       "    }\n",
       "</style>\n",
       "<table border=\"1\" class=\"dataframe\">\n",
       "  <thead>\n",
       "    <tr style=\"text-align: right;\">\n",
       "      <th></th>\n",
       "      <th>Unnamed: 0</th>\n",
       "      <th>Código municipio</th>\n",
       "      <th>Municipio</th>\n",
       "      <th>2009_1</th>\n",
       "      <th>2013_2</th>\n",
       "      <th>2009_3</th>\n",
       "      <th>2009_4</th>\n",
       "      <th>2013_5</th>\n",
       "      <th>2009_6</th>\n",
       "      <th>2013_7</th>\n",
       "      <th>2009_8</th>\n",
       "      <th>2013_9</th>\n",
       "      <th>2013_10</th>\n",
       "      <th>2013_11</th>\n",
       "      <th>2013_12</th>\n",
       "      <th>2014_13</th>\n",
       "      <th>2013_14</th>\n",
       "      <th>2013_15</th>\n",
       "      <th>2013_16</th>\n",
       "      <th>2001</th>\n",
       "      <th>2013_18</th>\n",
       "      <th>2014_19</th>\n",
       "      <th>2013_20</th>\n",
       "      <th>2005_21</th>\n",
       "      <th>2005_22</th>\n",
       "      <th>2011_23</th>\n",
       "      <th>2013_24</th>\n",
       "      <th>2005_25</th>\n",
       "      <th>2011_26</th>\n",
       "      <th>2013_27</th>\n",
       "      <th>2013_28</th>\n",
       "      <th>2013_29</th>\n",
       "      <th>2013_30</th>\n",
       "      <th>2013_31</th>\n",
       "      <th>2013_32</th>\n",
       "      <th>2013_33</th>\n",
       "      <th>2013_34</th>\n",
       "      <th>2013_35</th>\n",
       "      <th>2013_36</th>\n",
       "      <th>2013_37</th>\n",
       "      <th>2013_38</th>\n",
       "      <th>2013_39</th>\n",
       "      <th>2010_40</th>\n",
       "      <th>2011_41</th>\n",
       "      <th>2011_42</th>\n",
       "      <th>2013_43</th>\n",
       "      <th>2013_44</th>\n",
       "      <th>2013_45</th>\n",
       "      <th>2011_46</th>\n",
       "      <th>2013_47</th>\n",
       "      <th>2013_48</th>\n",
       "      <th>2011_49</th>\n",
       "      <th>2013_50</th>\n",
       "      <th>2013_51</th>\n",
       "      <th>2013_52</th>\n",
       "      <th>2005_53</th>\n",
       "      <th>2010_54</th>\n",
       "      <th>2013_55</th>\n",
       "      <th>2009_56</th>\n",
       "      <th>2009_57</th>\n",
       "      <th>2013_58</th>\n",
       "      <th>2006</th>\n",
       "      <th>2007</th>\n",
       "      <th>2013_61</th>\n",
       "      <th>2011</th>\n",
       "      <th>2013_63</th>\n",
       "      <th>2009_64</th>\n",
       "      <th>2015_elecc</th>\n",
       "      <th>2015_partic</th>\n",
       "    </tr>\n",
       "  </thead>\n",
       "  <tbody>\n",
       "    <tr>\n",
       "      <th>0</th>\n",
       "      <td>0</td>\n",
       "      <td>48001</td>\n",
       "      <td>Abadiño</td>\n",
       "      <td>43.75</td>\n",
       "      <td>7.49</td>\n",
       "      <td>0.0</td>\n",
       "      <td>185.36</td>\n",
       "      <td>32.3</td>\n",
       "      <td>0.00</td>\n",
       "      <td>5.83</td>\n",
       "      <td>0.00</td>\n",
       "      <td>3.0</td>\n",
       "      <td>98.90</td>\n",
       "      <td>0.00</td>\n",
       "      <td>4.14</td>\n",
       "      <td>176.79</td>\n",
       "      <td>8.96</td>\n",
       "      <td>5.48</td>\n",
       "      <td>207.05</td>\n",
       "      <td>88.98</td>\n",
       "      <td>22.93</td>\n",
       "      <td>2.66</td>\n",
       "      <td>2.68</td>\n",
       "      <td>212.71</td>\n",
       "      <td>44.28</td>\n",
       "      <td>98.55</td>\n",
       "      <td>3.58</td>\n",
       "      <td>43.85</td>\n",
       "      <td>73.8</td>\n",
       "      <td>44.78</td>\n",
       "      <td>54.63</td>\n",
       "      <td>15.93</td>\n",
       "      <td>12.24</td>\n",
       "      <td>19.00</td>\n",
       "      <td>6.75</td>\n",
       "      <td>62.01</td>\n",
       "      <td>5.88</td>\n",
       "      <td>16.04</td>\n",
       "      <td>-77.67</td>\n",
       "      <td>9.33</td>\n",
       "      <td>1.34</td>\n",
       "      <td>0.73</td>\n",
       "      <td>20.38</td>\n",
       "      <td>9.34</td>\n",
       "      <td>0.00</td>\n",
       "      <td>21.77</td>\n",
       "      <td>57.59</td>\n",
       "      <td>17.56</td>\n",
       "      <td>94.05</td>\n",
       "      <td>4.97</td>\n",
       "      <td>7458.0</td>\n",
       "      <td>66.02</td>\n",
       "      <td>1.07</td>\n",
       "      <td>-3.61</td>\n",
       "      <td>4.24</td>\n",
       "      <td>1.16</td>\n",
       "      <td>53.27</td>\n",
       "      <td>90.0</td>\n",
       "      <td>8.75</td>\n",
       "      <td>10.40</td>\n",
       "      <td>10.96</td>\n",
       "      <td>0.88</td>\n",
       "      <td>12.94</td>\n",
       "      <td>6.60</td>\n",
       "      <td>13.36</td>\n",
       "      <td>8.26</td>\n",
       "      <td>8.50</td>\n",
       "      <td>68.57</td>\n",
       "      <td>2</td>\n",
       "    </tr>\n",
       "    <tr>\n",
       "      <th>1</th>\n",
       "      <td>1</td>\n",
       "      <td>20001</td>\n",
       "      <td>Abaltzisketa</td>\n",
       "      <td>25.00</td>\n",
       "      <td>3.03</td>\n",
       "      <td>0.0</td>\n",
       "      <td>269.94</td>\n",
       "      <td>39.6</td>\n",
       "      <td>0.00</td>\n",
       "      <td>22.29</td>\n",
       "      <td>0.00</td>\n",
       "      <td>3.0</td>\n",
       "      <td>99.18</td>\n",
       "      <td>0.00</td>\n",
       "      <td>-9.09</td>\n",
       "      <td>152.31</td>\n",
       "      <td>0.00</td>\n",
       "      <td>0.00</td>\n",
       "      <td>28.80</td>\n",
       "      <td>100.00</td>\n",
       "      <td>55.94</td>\n",
       "      <td>0.00</td>\n",
       "      <td>0.00</td>\n",
       "      <td>261.93</td>\n",
       "      <td>49.18</td>\n",
       "      <td>0.00</td>\n",
       "      <td>0.00</td>\n",
       "      <td>52.75</td>\n",
       "      <td>71.6</td>\n",
       "      <td>48.48</td>\n",
       "      <td>73.68</td>\n",
       "      <td>16.67</td>\n",
       "      <td>5.13</td>\n",
       "      <td>2.56</td>\n",
       "      <td>41.03</td>\n",
       "      <td>51.28</td>\n",
       "      <td>18.18</td>\n",
       "      <td>19.39</td>\n",
       "      <td>717.01</td>\n",
       "      <td>0.00</td>\n",
       "      <td>0.00</td>\n",
       "      <td>0.83</td>\n",
       "      <td>12.46</td>\n",
       "      <td>0.00</td>\n",
       "      <td>0.00</td>\n",
       "      <td>16.49</td>\n",
       "      <td>49.10</td>\n",
       "      <td>13.62</td>\n",
       "      <td>100.00</td>\n",
       "      <td>2.73</td>\n",
       "      <td>330.0</td>\n",
       "      <td>74.44</td>\n",
       "      <td>0.00</td>\n",
       "      <td>0.00</td>\n",
       "      <td>0.24</td>\n",
       "      <td>0.18</td>\n",
       "      <td>53.48</td>\n",
       "      <td>107.5</td>\n",
       "      <td>103.45</td>\n",
       "      <td>92.02</td>\n",
       "      <td>0.00</td>\n",
       "      <td>6.53</td>\n",
       "      <td>10.73</td>\n",
       "      <td>17.44</td>\n",
       "      <td>21.29</td>\n",
       "      <td>25.48</td>\n",
       "      <td>14.93</td>\n",
       "      <td>62.45</td>\n",
       "      <td>2</td>\n",
       "    </tr>\n",
       "    <tr>\n",
       "      <th>2</th>\n",
       "      <td>2</td>\n",
       "      <td>48002</td>\n",
       "      <td>Abanto y Ciérvana-Abanto Zierbena</td>\n",
       "      <td>30.77</td>\n",
       "      <td>12.65</td>\n",
       "      <td>0.0</td>\n",
       "      <td>250.51</td>\n",
       "      <td>39.7</td>\n",
       "      <td>0.00</td>\n",
       "      <td>2.89</td>\n",
       "      <td>9.77</td>\n",
       "      <td>3.0</td>\n",
       "      <td>99.45</td>\n",
       "      <td>0.00</td>\n",
       "      <td>-0.62</td>\n",
       "      <td>178.40</td>\n",
       "      <td>7.71</td>\n",
       "      <td>3.81</td>\n",
       "      <td>603.09</td>\n",
       "      <td>94.70</td>\n",
       "      <td>26.77</td>\n",
       "      <td>3.11</td>\n",
       "      <td>3.07</td>\n",
       "      <td>480.39</td>\n",
       "      <td>92.71</td>\n",
       "      <td>84.95</td>\n",
       "      <td>3.53</td>\n",
       "      <td>42.44</td>\n",
       "      <td>67.2</td>\n",
       "      <td>51.22</td>\n",
       "      <td>52.23</td>\n",
       "      <td>15.87</td>\n",
       "      <td>20.29</td>\n",
       "      <td>13.43</td>\n",
       "      <td>2.19</td>\n",
       "      <td>64.09</td>\n",
       "      <td>4.94</td>\n",
       "      <td>14.52</td>\n",
       "      <td>45.68</td>\n",
       "      <td>6.19</td>\n",
       "      <td>1.02</td>\n",
       "      <td>0.76</td>\n",
       "      <td>4.53</td>\n",
       "      <td>0.00</td>\n",
       "      <td>60.04</td>\n",
       "      <td>23.01</td>\n",
       "      <td>58.27</td>\n",
       "      <td>16.39</td>\n",
       "      <td>84.89</td>\n",
       "      <td>2.07</td>\n",
       "      <td>9758.0</td>\n",
       "      <td>80.36</td>\n",
       "      <td>1.55</td>\n",
       "      <td>-2.88</td>\n",
       "      <td>12.12</td>\n",
       "      <td>2.16</td>\n",
       "      <td>35.68</td>\n",
       "      <td>78.2</td>\n",
       "      <td>8.60</td>\n",
       "      <td>14.60</td>\n",
       "      <td>8.33</td>\n",
       "      <td>0.82</td>\n",
       "      <td>8.60</td>\n",
       "      <td>6.18</td>\n",
       "      <td>11.36</td>\n",
       "      <td>27.56</td>\n",
       "      <td>18.13</td>\n",
       "      <td>63.44</td>\n",
       "      <td>2</td>\n",
       "    </tr>\n",
       "    <tr>\n",
       "      <th>3</th>\n",
       "      <td>3</td>\n",
       "      <td>20002</td>\n",
       "      <td>Aduna</td>\n",
       "      <td>80.00</td>\n",
       "      <td>56.03</td>\n",
       "      <td>0.0</td>\n",
       "      <td>326.34</td>\n",
       "      <td>25.8</td>\n",
       "      <td>46.62</td>\n",
       "      <td>17.81</td>\n",
       "      <td>0.00</td>\n",
       "      <td>1.0</td>\n",
       "      <td>99.18</td>\n",
       "      <td>0.00</td>\n",
       "      <td>30.17</td>\n",
       "      <td>282.51</td>\n",
       "      <td>2.16</td>\n",
       "      <td>2.16</td>\n",
       "      <td>65.01</td>\n",
       "      <td>100.00</td>\n",
       "      <td>32.95</td>\n",
       "      <td>0.00</td>\n",
       "      <td>0.00</td>\n",
       "      <td>301.70</td>\n",
       "      <td>39.12</td>\n",
       "      <td>0.00</td>\n",
       "      <td>3.85</td>\n",
       "      <td>52.75</td>\n",
       "      <td>66.1</td>\n",
       "      <td>64.66</td>\n",
       "      <td>59.23</td>\n",
       "      <td>12.91</td>\n",
       "      <td>14.41</td>\n",
       "      <td>30.51</td>\n",
       "      <td>7.63</td>\n",
       "      <td>47.46</td>\n",
       "      <td>12.93</td>\n",
       "      <td>21.23</td>\n",
       "      <td>227.42</td>\n",
       "      <td>0.00</td>\n",
       "      <td>0.00</td>\n",
       "      <td>1.75</td>\n",
       "      <td>8.85</td>\n",
       "      <td>0.00</td>\n",
       "      <td>0.00</td>\n",
       "      <td>21.61</td>\n",
       "      <td>59.90</td>\n",
       "      <td>17.71</td>\n",
       "      <td>100.00</td>\n",
       "      <td>1.75</td>\n",
       "      <td>457.0</td>\n",
       "      <td>81.70</td>\n",
       "      <td>0.00</td>\n",
       "      <td>-4.31</td>\n",
       "      <td>4.44</td>\n",
       "      <td>3.71</td>\n",
       "      <td>67.00</td>\n",
       "      <td>112.9</td>\n",
       "      <td>5.03</td>\n",
       "      <td>37.30</td>\n",
       "      <td>32.33</td>\n",
       "      <td>1.59</td>\n",
       "      <td>8.34</td>\n",
       "      <td>34.02</td>\n",
       "      <td>16.82</td>\n",
       "      <td>9.81</td>\n",
       "      <td>24.10</td>\n",
       "      <td>70.20</td>\n",
       "      <td>2</td>\n",
       "    </tr>\n",
       "    <tr>\n",
       "      <th>4</th>\n",
       "      <td>4</td>\n",
       "      <td>20016</td>\n",
       "      <td>Aia</td>\n",
       "      <td>33.33</td>\n",
       "      <td>10.30</td>\n",
       "      <td>0.0</td>\n",
       "      <td>114.60</td>\n",
       "      <td>31.5</td>\n",
       "      <td>0.00</td>\n",
       "      <td>4.88</td>\n",
       "      <td>4.98</td>\n",
       "      <td>2.0</td>\n",
       "      <td>100.00</td>\n",
       "      <td>27.52</td>\n",
       "      <td>3.92</td>\n",
       "      <td>154.29</td>\n",
       "      <td>3.43</td>\n",
       "      <td>2.94</td>\n",
       "      <td>37.02</td>\n",
       "      <td>98.11</td>\n",
       "      <td>50.95</td>\n",
       "      <td>4.88</td>\n",
       "      <td>4.91</td>\n",
       "      <td>331.52</td>\n",
       "      <td>64.61</td>\n",
       "      <td>63.16</td>\n",
       "      <td>2.06</td>\n",
       "      <td>28.60</td>\n",
       "      <td>73.4</td>\n",
       "      <td>40.22</td>\n",
       "      <td>65.15</td>\n",
       "      <td>15.75</td>\n",
       "      <td>12.08</td>\n",
       "      <td>17.45</td>\n",
       "      <td>36.58</td>\n",
       "      <td>33.89</td>\n",
       "      <td>14.22</td>\n",
       "      <td>18.25</td>\n",
       "      <td>161.45</td>\n",
       "      <td>4.90</td>\n",
       "      <td>0.00</td>\n",
       "      <td>0.76</td>\n",
       "      <td>371.13</td>\n",
       "      <td>0.00</td>\n",
       "      <td>60.13</td>\n",
       "      <td>15.27</td>\n",
       "      <td>54.52</td>\n",
       "      <td>18.67</td>\n",
       "      <td>100.00</td>\n",
       "      <td>4.17</td>\n",
       "      <td>2038.0</td>\n",
       "      <td>75.42</td>\n",
       "      <td>0.00</td>\n",
       "      <td>8.34</td>\n",
       "      <td>0.88</td>\n",
       "      <td>0.73</td>\n",
       "      <td>51.55</td>\n",
       "      <td>109.3</td>\n",
       "      <td>4.49</td>\n",
       "      <td>9.97</td>\n",
       "      <td>15.20</td>\n",
       "      <td>3.98</td>\n",
       "      <td>20.39</td>\n",
       "      <td>23.37</td>\n",
       "      <td>22.76</td>\n",
       "      <td>13.72</td>\n",
       "      <td>14.97</td>\n",
       "      <td>67.19</td>\n",
       "      <td>2</td>\n",
       "    </tr>\n",
       "  </tbody>\n",
       "</table>\n",
       "</div>"
      ],
      "text/plain": [
       "   Unnamed: 0  Código municipio                          Municipio  2009_1  \\\n",
       "0           0             48001                            Abadiño   43.75   \n",
       "1           1             20001                       Abaltzisketa   25.00   \n",
       "2           2             48002  Abanto y Ciérvana-Abanto Zierbena   30.77   \n",
       "3           3             20002                              Aduna   80.00   \n",
       "4           4             20016                                Aia   33.33   \n",
       "\n",
       "   2013_2  2009_3  2009_4  2013_5  2009_6  2013_7  2009_8  2013_9  2013_10  \\\n",
       "0    7.49     0.0  185.36    32.3    0.00    5.83    0.00     3.0    98.90   \n",
       "1    3.03     0.0  269.94    39.6    0.00   22.29    0.00     3.0    99.18   \n",
       "2   12.65     0.0  250.51    39.7    0.00    2.89    9.77     3.0    99.45   \n",
       "3   56.03     0.0  326.34    25.8   46.62   17.81    0.00     1.0    99.18   \n",
       "4   10.30     0.0  114.60    31.5    0.00    4.88    4.98     2.0   100.00   \n",
       "\n",
       "   2013_11  2013_12  2014_13  2013_14  2013_15  2013_16    2001  2013_18  \\\n",
       "0     0.00     4.14   176.79     8.96     5.48   207.05   88.98    22.93   \n",
       "1     0.00    -9.09   152.31     0.00     0.00    28.80  100.00    55.94   \n",
       "2     0.00    -0.62   178.40     7.71     3.81   603.09   94.70    26.77   \n",
       "3     0.00    30.17   282.51     2.16     2.16    65.01  100.00    32.95   \n",
       "4    27.52     3.92   154.29     3.43     2.94    37.02   98.11    50.95   \n",
       "\n",
       "   2014_19  2013_20  2005_21  2005_22  2011_23  2013_24  2005_25  2011_26  \\\n",
       "0     2.66     2.68   212.71    44.28    98.55     3.58    43.85     73.8   \n",
       "1     0.00     0.00   261.93    49.18     0.00     0.00    52.75     71.6   \n",
       "2     3.11     3.07   480.39    92.71    84.95     3.53    42.44     67.2   \n",
       "3     0.00     0.00   301.70    39.12     0.00     3.85    52.75     66.1   \n",
       "4     4.88     4.91   331.52    64.61    63.16     2.06    28.60     73.4   \n",
       "\n",
       "   2013_27  2013_28  2013_29  2013_30  2013_31  2013_32  2013_33  2013_34  \\\n",
       "0    44.78    54.63    15.93    12.24    19.00     6.75    62.01     5.88   \n",
       "1    48.48    73.68    16.67     5.13     2.56    41.03    51.28    18.18   \n",
       "2    51.22    52.23    15.87    20.29    13.43     2.19    64.09     4.94   \n",
       "3    64.66    59.23    12.91    14.41    30.51     7.63    47.46    12.93   \n",
       "4    40.22    65.15    15.75    12.08    17.45    36.58    33.89    14.22   \n",
       "\n",
       "   2013_35  2013_36  2013_37  2013_38  2013_39  2010_40  2011_41  2011_42  \\\n",
       "0    16.04   -77.67     9.33     1.34     0.73    20.38     9.34     0.00   \n",
       "1    19.39   717.01     0.00     0.00     0.83    12.46     0.00     0.00   \n",
       "2    14.52    45.68     6.19     1.02     0.76     4.53     0.00    60.04   \n",
       "3    21.23   227.42     0.00     0.00     1.75     8.85     0.00     0.00   \n",
       "4    18.25   161.45     4.90     0.00     0.76   371.13     0.00    60.13   \n",
       "\n",
       "   2013_43  2013_44  2013_45  2011_46  2013_47  2013_48  2011_49  2013_50  \\\n",
       "0    21.77    57.59    17.56    94.05     4.97   7458.0    66.02     1.07   \n",
       "1    16.49    49.10    13.62   100.00     2.73    330.0    74.44     0.00   \n",
       "2    23.01    58.27    16.39    84.89     2.07   9758.0    80.36     1.55   \n",
       "3    21.61    59.90    17.71   100.00     1.75    457.0    81.70     0.00   \n",
       "4    15.27    54.52    18.67   100.00     4.17   2038.0    75.42     0.00   \n",
       "\n",
       "   2013_51  2013_52  2005_53  2010_54  2013_55  2009_56  2009_57  2013_58  \\\n",
       "0    -3.61     4.24     1.16    53.27     90.0     8.75    10.40    10.96   \n",
       "1     0.00     0.24     0.18    53.48    107.5   103.45    92.02     0.00   \n",
       "2    -2.88    12.12     2.16    35.68     78.2     8.60    14.60     8.33   \n",
       "3    -4.31     4.44     3.71    67.00    112.9     5.03    37.30    32.33   \n",
       "4     8.34     0.88     0.73    51.55    109.3     4.49     9.97    15.20   \n",
       "\n",
       "   2006   2007  2013_61   2011  2013_63  2009_64  2015_elecc  2015_partic  \n",
       "0  0.88  12.94     6.60  13.36     8.26     8.50       68.57            2  \n",
       "1  6.53  10.73    17.44  21.29    25.48    14.93       62.45            2  \n",
       "2  0.82   8.60     6.18  11.36    27.56    18.13       63.44            2  \n",
       "3  1.59   8.34    34.02  16.82     9.81    24.10       70.20            2  \n",
       "4  3.98  20.39    23.37  22.76    13.72    14.97       67.19            2  "
      ]
     },
     "execution_count": 211,
     "metadata": {},
     "output_type": "execute_result"
    }
   ],
   "source": [
    "df_2013.head()"
   ]
  },
  {
   "cell_type": "code",
   "execution_count": 212,
   "metadata": {},
   "outputs": [],
   "source": [
    "X_pred13 = df_2013.drop(['Unnamed: 0','Código municipio', 'Municipio','2015_elecc','2015_partic'], axis=1).values"
   ]
  },
  {
   "cell_type": "code",
   "execution_count": 213,
   "metadata": {},
   "outputs": [],
   "source": [
    "X1 = np.array(X_pred13)"
   ]
  },
  {
   "cell_type": "markdown",
   "metadata": {},
   "source": [
    "## Es el modelo de regresion de random forest el cual nos da un error cuadratico medio menor, siendo de un 46.05, que teniendo en cuenta que son 245 municipios, con valores de participacion electoral entre 31.37 y 91.53 es un valor razonable.\n",
    "\n",
    "## Una simple traduccion de esta metrica es que hemos errado 7 puntos de participacion en total sumando los 245 municipios "
   ]
  },
  {
   "cell_type": "code",
   "execution_count": 214,
   "metadata": {},
   "outputs": [
    {
     "data": {
      "text/plain": [
       "48.8659733452053"
      ]
     },
     "execution_count": 214,
     "metadata": {},
     "output_type": "execute_result"
    }
   ],
   "source": [
    "mean_squared_error(df_2013['2015_elecc'],rmodel.predict(X1))"
   ]
  },
  {
   "cell_type": "markdown",
   "metadata": {},
   "source": [
    "## Vamos a analizar que variables/predictores tienen mayor peso en la prediccion, para ello utilizamos el metodo feature_importances_"
   ]
  },
  {
   "cell_type": "code",
   "execution_count": 215,
   "metadata": {},
   "outputs": [
    {
     "data": {
      "text/plain": [
       "[0.001220121913472836,\n",
       " 0.02984892895715093,\n",
       " 1.861512067224386e-05,\n",
       " 0.005244136515873984,\n",
       " 0.013149771747973346,\n",
       " 0.014185995211512703,\n",
       " 0.006790559902259496,\n",
       " 0.01496255629822284,\n",
       " 0.0037667277204859783,\n",
       " 0.0017387157547061362,\n",
       " 0.003636594239825738,\n",
       " 0.005712010264897022,\n",
       " 0.04190171764487717,\n",
       " 0.0009944170304903035,\n",
       " 0.002098273130519612,\n",
       " 0.017150694594304936,\n",
       " 0.005725053086522767,\n",
       " 0.01510177611471411,\n",
       " 0.00403917176175169,\n",
       " 0.001245226237298906,\n",
       " 0.0049943638324324155,\n",
       " 0.007172866861844982,\n",
       " 0.0004440445231587162,\n",
       " 0.004809901694875044,\n",
       " 0.01580355356596048,\n",
       " 0.021441315475473146,\n",
       " 0.007445929414497209,\n",
       " 0.0027205016348432753,\n",
       " 0.0013916354165317362,\n",
       " 0.0005136005787958059,\n",
       " 0.015559598157937407,\n",
       " 0.01602119203545952,\n",
       " 0.0015673135157585581,\n",
       " 0.005961173349551895,\n",
       " 0.01096563917684327,\n",
       " 0.004862336805370843,\n",
       " 0.005079143337121955,\n",
       " 0.0002117965078663991,\n",
       " 0.008175713655080382,\n",
       " 0.008071352380022705,\n",
       " 1.9359935421800554e-05,\n",
       " 0.0020537073240033898,\n",
       " 0.009401591859239283,\n",
       " 0.0016497485863677462,\n",
       " 0.012111933571697842,\n",
       " 0.003061258693456908,\n",
       " 0.004401855225405343,\n",
       " 0.48213429202392594,\n",
       " 0.008215190061627051,\n",
       " 0.008517505899592352,\n",
       " 0.017742790982291437,\n",
       " 0.004335942537083395,\n",
       " 0.004250984998401638,\n",
       " 0.006616762447970175,\n",
       " 0.015291715338254597,\n",
       " 0.003541249411498572,\n",
       " 0.018634982424370804,\n",
       " 0.008009487823408629,\n",
       " 0.02186407869602646,\n",
       " 0.006911386299916894,\n",
       " 0.0030347498514765605,\n",
       " 0.015653346326239763,\n",
       " 0.0025635094671775495,\n",
       " 0.008238535048187248]"
      ]
     },
     "execution_count": 215,
     "metadata": {},
     "output_type": "execute_result"
    }
   ],
   "source": [
    "list(rmodel.feature_importances_)"
   ]
  },
  {
   "cell_type": "markdown",
   "metadata": {},
   "source": [
    "## Como podemos ver en el grafico hay un predictor que en el caso de los modelos de regresion como este de Random Forest es ciertamente razonable que tenga un peso tan importante (>%40) ya que se trata del de poblacion total (no hemos standarizado los datos). Pero si vemos el resto de variables/predictores su peso es equilibrado con algunas variables que destacan un poco mas."
   ]
  },
  {
   "cell_type": "code",
   "execution_count": 216,
   "metadata": {},
   "outputs": [
    {
     "data": {
      "image/png": "[encoded data removed]",
      "text/plain": [
       "<Figure size 720x720 with 1 Axes>"
      ]
     },
     "metadata": {},
     "output_type": "display_data"
    }
   ],
   "source": [
    "fig = plt.figure(figsize=(10, 10))\n",
    "plt.bar(range(len(rmodel.feature_importances_)), rmodel.feature_importances_)\n",
    "plt.show()"
   ]
  },
  {
   "cell_type": "markdown",
   "metadata": {},
   "source": [
    "##  Vamos a quitar la variable de mas peso para ver que efecto puede tener sobre el modelo"
   ]
  },
  {
   "cell_type": "code",
   "execution_count": 217,
   "metadata": {},
   "outputs": [],
   "source": [
    "X2_pred09 = df_2009.drop(['Unnamed: 0','Código municipio', 'Municipio', \n",
    "                         '2009_48','2011_elecc','2011_partic'], axis=1).values"
   ]
  },
  {
   "cell_type": "code",
   "execution_count": 218,
   "metadata": {},
   "outputs": [],
   "source": [
    "y = df_2009[['2011_elecc']].values"
   ]
  },
  {
   "cell_type": "code",
   "execution_count": 219,
   "metadata": {},
   "outputs": [],
   "source": [
    "X2 = np.array(X2_pred09)"
   ]
  },
  {
   "cell_type": "code",
   "execution_count": 226,
   "metadata": {},
   "outputs": [
    {
     "name": "stderr",
     "output_type": "stream",
     "text": [
      "/home/vant/anaconda3/lib/python3.6/site-packages/ipykernel_launcher.py:2: DataConversionWarning:\n",
      "\n",
      "A column-vector y was passed when a 1d array was expected. Please change the shape of y to (n_samples,), for example using ravel().\n",
      "\n"
     ]
    },
    {
     "data": {
      "text/plain": [
       "RandomForestRegressor(bootstrap=True, criterion='mse', max_depth=11,\n",
       "           max_features='auto', max_leaf_nodes=None,\n",
       "           min_impurity_decrease=0.0, min_impurity_split=None,\n",
       "           min_samples_leaf=1, min_samples_split=2,\n",
       "           min_weight_fraction_leaf=0.0, n_estimators=10, n_jobs=1,\n",
       "           oob_score=False, random_state=None, verbose=0, warm_start=False)"
      ]
     },
     "execution_count": 226,
     "metadata": {},
     "output_type": "execute_result"
    }
   ],
   "source": [
    "r_model=RandomForestRegressor(max_depth=11)\n",
    "r_model.fit(X2,y)"
   ]
  },
  {
   "cell_type": "code",
   "execution_count": 227,
   "metadata": {},
   "outputs": [
    {
     "data": {
      "text/plain": [
       "6.469360329025361"
      ]
     },
     "execution_count": 227,
     "metadata": {},
     "output_type": "execute_result"
    }
   ],
   "source": [
    "mean_squared_error(df_2009['2011_elecc'],r_model.predict(X2))"
   ]
  },
  {
   "cell_type": "code",
   "execution_count": 228,
   "metadata": {},
   "outputs": [],
   "source": [
    "X2_pred13 = df_2013.drop(['Unnamed: 0','Código municipio', '2013_48',\n",
    "                         'Municipio','2015_elecc','2015_partic'], axis=1).values"
   ]
  },
  {
   "cell_type": "code",
   "execution_count": 229,
   "metadata": {},
   "outputs": [],
   "source": [
    "X3 = np.array(X2_pred13)"
   ]
  },
  {
   "cell_type": "code",
   "execution_count": 230,
   "metadata": {},
   "outputs": [
    {
     "data": {
      "text/plain": [
       "47.67045192783483"
      ]
     },
     "execution_count": 230,
     "metadata": {},
     "output_type": "execute_result"
    }
   ],
   "source": [
    "mean_squared_error(df_2013['2015_elecc'],r_model.predict(X3))"
   ]
  },
  {
   "cell_type": "markdown",
   "metadata": {},
   "source": [
    "## El error cuadratico medio no ha mejorado practicamente"
   ]
  },
  {
   "cell_type": "markdown",
   "metadata": {},
   "source": [
    "## Eso si, ahora tenemos un peso mas distribuido entra las variables"
   ]
  },
  {
   "cell_type": "code",
   "execution_count": 231,
   "metadata": {},
   "outputs": [
    {
     "data": {
      "image/png": "[encoded data removed]",
      "text/plain": [
       "<Figure size 720x720 with 1 Axes>"
      ]
     },
     "metadata": {},
     "output_type": "display_data"
    }
   ],
   "source": [
    "fig = plt.figure(figsize=(10, 10))\n",
    "plt.bar(range(len(r_model.feature_importances_)), r_model.feature_importances_)\n",
    "plt.show()"
   ]
  },
  {
   "cell_type": "code",
   "execution_count": 232,
   "metadata": {},
   "outputs": [
    {
     "data": {
      "text/plain": [
       "57.94547501226341"
      ]
     },
     "execution_count": 232,
     "metadata": {},
     "output_type": "execute_result"
    }
   ],
   "source": [
    "mean_squared_error(df_2013['2015_elecc'],d_model.predict(X1))"
   ]
  },
  {
   "cell_type": "code",
   "execution_count": 233,
   "metadata": {},
   "outputs": [
    {
     "data": {
      "image/png": "[encoded data removed]",
      "text/plain": [
       "<Figure size 432x288 with 1 Axes>"
      ]
     },
     "metadata": {},
     "output_type": "display_data"
    }
   ],
   "source": [
    "pyplot.bar(range(len(d_model.feature_importances_)), d_model.feature_importances_)\n",
    "pyplot.show()"
   ]
  },
  {
   "cell_type": "code",
   "execution_count": 234,
   "metadata": {},
   "outputs": [
    {
     "data": {
      "text/plain": [
       "69.30589877551022"
      ]
     },
     "execution_count": 234,
     "metadata": {},
     "output_type": "execute_result"
    }
   ],
   "source": [
    "mean_squared_error(df_2013['2015_elecc'],k_model.predict(X1))"
   ]
  },
  {
   "cell_type": "code",
   "execution_count": 235,
   "metadata": {},
   "outputs": [
    {
     "data": {
      "text/plain": [
       "2218695.2993047936"
      ]
     },
     "execution_count": 235,
     "metadata": {},
     "output_type": "execute_result"
    }
   ],
   "source": [
    "mean_squared_error(df_2013['2015_elecc'],lmodel.predict(X1))"
   ]
  },
  {
   "cell_type": "markdown",
   "metadata": {},
   "source": [
    "## Ahora utilizamos el modelo entrenado para prediccir la participacion electoral en cada municipio vasco el proximo Mayo del año 2019"
   ]
  },
  {
   "cell_type": "code",
   "execution_count": 5,
   "metadata": {},
   "outputs": [],
   "source": [
    "df_2017 = pd.read_csv('../TFM/1_Data/GDataframe_2017.csv')"
   ]
  },
  {
   "cell_type": "code",
   "execution_count": 6,
   "metadata": {},
   "outputs": [],
   "source": [
    "X_pred17 = df_2017.drop(['Unnamed: 0','Código municipio', 'Municipio'], axis=1).values"
   ]
  },
  {
   "cell_type": "code",
   "execution_count": 238,
   "metadata": {},
   "outputs": [],
   "source": [
    "X2 = np.array(X_pred17)"
   ]
  },
  {
   "cell_type": "code",
   "execution_count": 239,
   "metadata": {},
   "outputs": [],
   "source": [
    "pred_19 = pd.DataFrame(rmodel.predict(X2))"
   ]
  },
  {
   "cell_type": "code",
   "execution_count": 240,
   "metadata": {},
   "outputs": [],
   "source": [
    "pred_19.columns = ['part_pred_2019'] "
   ]
  },
  {
   "cell_type": "code",
   "execution_count": 241,
   "metadata": {},
   "outputs": [],
   "source": [
    "Part_pred_19 = pred_19['part_pred_2019'].apply(part_integ)"
   ]
  },
  {
   "cell_type": "code",
   "execution_count": 7,
   "metadata": {},
   "outputs": [],
   "source": [
    "predicc_17 = pd.read_csv('../TFM/1_Data/df_foto_pred17.csv')"
   ]
  },
  {
   "cell_type": "code",
   "execution_count": 8,
   "metadata": {},
   "outputs": [],
   "source": [
    "prediccion_17 = predicc_17.drop('Unnamed: 0', axis=1)"
   ]
  },
  {
   "cell_type": "code",
   "execution_count": 244,
   "metadata": {},
   "outputs": [],
   "source": [
    "Elecciones_2019 = pd.concat([prediccion_17, Part_pred_19], axis=1)"
   ]
  },
  {
   "cell_type": "code",
   "execution_count": 245,
   "metadata": {},
   "outputs": [],
   "source": [
    "Elecciones_2019.to_csv('Elecciones_2019.csv')"
   ]
  }
 ],
 "metadata": {
  "kernelspec": {
   "display_name": "Python 3",
   "language": "python",
   "name": "python3"
  },
  "language_info": {
   "codemirror_mode": {
    "name": "ipython",
    "version": 3
   },
   "file_extension": ".py",
   "mimetype": "text/x-python",
   "name": "python",
   "nbconvert_exporter": "python",
   "pygments_lexer": "ipython3",
   "version": "3.6.5"
  }
 },
 "nbformat": 4,
 "nbformat_minor": 2
}
