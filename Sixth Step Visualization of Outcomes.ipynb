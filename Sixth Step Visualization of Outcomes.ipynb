{
 "cells": [
  {
   "cell_type": "markdown",
   "metadata": {},
   "source": [
    "## Para visualizar de la manera mas didactica y simple posible los diferentes resultados de los modelos de clasificacion y de regresion, vamos a utilizar la libreria plotly, un mapa de Euskadi y una trasposicion de los datos en los diferentes años.\n",
    "Los datos de prediccion a 2009 vs los datos reales del 2011\n",
    "Los datos de prediccion a 2013 vs los datos reales del 2015\n",
    "Los datos de prediccion a 2017 (clasificacion y regresion)"
   ]
  },
  {
   "cell_type": "code",
   "execution_count": 1,
   "metadata": {},
   "outputs": [
    {
     "data": {
      "text/html": [
       "<script type=\"text/javascript\">window.PlotlyConfig = {MathJaxConfig: 'local'};</script><script type=\"text/javascript\">if (window.MathJax) {MathJax.Hub.Config({SVG: {font: \"STIX-Web\"}});}</script><script>requirejs.config({paths: { 'plotly': ['https://cdn.plot.ly/plotly-latest.min']},});if(!window._Plotly) {require(['plotly'],function(plotly) {window._Plotly=plotly;});}</script>"
      ],
      "text/vnd.plotly.v1+html": [
       "<script type=\"text/javascript\">window.PlotlyConfig = {MathJaxConfig: 'local'};</script><script type=\"text/javascript\">if (window.MathJax) {MathJax.Hub.Config({SVG: {font: \"STIX-Web\"}});}</script><script>requirejs.config({paths: { 'plotly': ['https://cdn.plot.ly/plotly-latest.min']},});if(!window._Plotly) {require(['plotly'],function(plotly) {window._Plotly=plotly;});}</script>"
      ]
     },
     "metadata": {},
     "output_type": "display_data"
    }
   ],
   "source": [
    "import pandas as pd\n",
    "import plotly.plotly as py\n",
    "import plotly.graph_objs as go\n",
    "import plotly.offline as offline\n",
    "import plotly\n",
    "\n",
    "plotly.tools.set_credentials_file(username='UrtziFM', api_key='TJLRaOJ9SZGiHaYgUPMx')\n",
    "plotly.offline.init_notebook_mode(connected=True)\n",
    "mapbox_access_token = 'pk.eyJ1IjoidXJ0emlmbSIsImEiOiJjanR4NmljbDkxNmJiM3lsejdiNXZkNHg2In0.7PNq42cBoTOJ36Y_j7h52A'\n",
    "\n",
    "df_09_si = pd.read_csv('../TFM/df_foto_pred09_si.csv')\n",
    "df_09_no = pd.read_csv('../TFM/df_foto_pred09_no.csv')\n",
    "\n",
    "\n",
    "latitud09_si = df_09_si.latitud\n",
    "latitud09_no = df_09_no.latitud\n",
    "longitud09_si = df_09_si.longitud\n",
    "longitud09_no = df_09_no.longitud\n",
    "municipio09_si = df_09_si.Municipio\n",
    "municipio09_no = df_09_no.Municipio\n",
    "\n",
    "\n"
   ]
  },
  {
   "cell_type": "code",
   "execution_count": 2,
   "metadata": {},
   "outputs": [
    {
     "data": {
      "text/html": [
       "<iframe id=\"igraph\" scrolling=\"no\" style=\"border:none;\" seamless=\"seamless\" src=\"https://plot.ly/~UrtziFM/3.embed\" height=\"800px\" width=\"975px\"></iframe>"
      ],
      "text/plain": [
       "<plotly.tools.PlotlyDisplay object>"
      ]
     },
     "execution_count": 2,
     "metadata": {},
     "output_type": "execute_result"
    }
   ],
   "source": [
    "data = [\n",
    "    go.Scattermapbox(\n",
    "        lat=latitud09_si,\n",
    "        lon=longitud09_si,\n",
    "        name='Municipios Más Participativos',\n",
    "        mode='markers',\n",
    "        marker=go.scattermapbox.Marker(\n",
    "            size=11,\n",
    "            color='blue',\n",
    "            opacity=1\n",
    "        ),\n",
    "        text=municipio09_si\n",
    "    ),\n",
    "     go.Scattermapbox(\n",
    "        lat=latitud09_no,\n",
    "        lon=longitud09_no,\n",
    "        name='Municipios Menos Participativos',\n",
    "        mode='markers',\n",
    "        marker=go.scattermapbox.Marker(\n",
    "            size=11,\n",
    "            color='red',\n",
    "            opacity=1,\n",
    "        ),\n",
    "        text=municipio09_no\n",
    "    )]\n",
    "\n",
    "layout = go.Layout(\n",
    "    autosize=True,\n",
    "    hovermode='closest',\n",
    "    height= 800,\n",
    "    width= 975,\n",
    "    title='Predicción para el 2011 con datos del 2009 (Mediana utilizada para clasificar: 72.59%)',\n",
    "    mapbox=go.layout.Mapbox(\n",
    "        accesstoken=mapbox_access_token,\n",
    "        bearing=0,\n",
    "        center=go.layout.mapbox.Center(\n",
    "            lat= 42.93333,\n",
    "            lon= -2.5833\n",
    "        ),\n",
    "        pitch=0,\n",
    "        zoom=8,\n",
    "        style='light'\n",
    "    ),\n",
    ")\n",
    "\n",
    "\n",
    "fig = go.Figure(data=data, layout=layout)\n",
    "py.iplot(fig, filename='Mapa_Euskadi09')\n"
   ]
  },
  {
   "cell_type": "code",
   "execution_count": 4,
   "metadata": {},
   "outputs": [],
   "source": [
    "df_11_si = pd.read_csv('../TFM/df_foto_real11_si.csv')\n",
    "df_11_no = pd.read_csv('../TFM/df_foto_real11_no.csv')\n",
    "\n",
    "\n",
    "latitud11_si = df_11_si.latitud\n",
    "latitud11_no = df_11_no.latitud\n",
    "longitud11_si = df_11_si.longitud\n",
    "longitud11_no = df_11_no.longitud\n",
    "municipio11_si = df_11_si.Municipio\n",
    "municipio11_no = df_11_no.Municipio"
   ]
  },
  {
   "cell_type": "code",
   "execution_count": 5,
   "metadata": {},
   "outputs": [
    {
     "data": {
      "text/html": [
       "<iframe id=\"igraph\" scrolling=\"no\" style=\"border:none;\" seamless=\"seamless\" src=\"https://plot.ly/~UrtziFM/5.embed\" height=\"800px\" width=\"975px\"></iframe>"
      ],
      "text/plain": [
       "<plotly.tools.PlotlyDisplay object>"
      ]
     },
     "execution_count": 5,
     "metadata": {},
     "output_type": "execute_result"
    }
   ],
   "source": [
    "data = [\n",
    "    go.Scattermapbox(\n",
    "        lat=latitud11_si,\n",
    "        lon=longitud11_si,\n",
    "        name='Municipios Más Participativos',\n",
    "        mode='markers',\n",
    "        marker=go.scattermapbox.Marker(\n",
    "            size=11,\n",
    "            color='blue',\n",
    "            opacity=1\n",
    "        ),\n",
    "        text=municipio11_si\n",
    "    ),\n",
    "     go.Scattermapbox(\n",
    "        lat=latitud11_no,\n",
    "        lon=longitud11_no,\n",
    "        name='Municipios Menos Participativos',\n",
    "        mode='markers',\n",
    "        marker=go.scattermapbox.Marker(\n",
    "            size=11,\n",
    "            color='red',\n",
    "            opacity=1,\n",
    "        ),\n",
    "        text=municipio11_no\n",
    "    )]\n",
    "\n",
    "layout = go.Layout(\n",
    "    autosize=True,\n",
    "    hovermode='closest',\n",
    "    height= 800,\n",
    "    width= 975,\n",
    "    title='Resultado elcciones del 2011 (Mediana utilizada para clasificar: 72.59%)',\n",
    "    mapbox=go.layout.Mapbox(\n",
    "        accesstoken=mapbox_access_token,\n",
    "        bearing=0,\n",
    "        center=go.layout.mapbox.Center(\n",
    "            lat= 42.93333,\n",
    "            lon= -2.5833\n",
    "        ),\n",
    "        pitch=0,\n",
    "        zoom=8,\n",
    "        style='light'\n",
    "    ),\n",
    ")\n",
    "\n",
    "\n",
    "fig = go.Figure(data=data, layout=layout)\n",
    "py.iplot(fig, filename='Mapa_Euskadi11')\n"
   ]
  },
  {
   "cell_type": "code",
   "execution_count": 6,
   "metadata": {},
   "outputs": [],
   "source": [
    "df_13_si = pd.read_csv('../TFM/df_foto_pred13_si.csv')\n",
    "df_13_no = pd.read_csv('../TFM/df_foto_pred13_no.csv')\n",
    "\n",
    "\n",
    "latitud13_si = df_13_si.latitud\n",
    "latitud13_no = df_13_no.latitud\n",
    "longitud13_si = df_13_si.longitud\n",
    "longitud13_no = df_13_no.longitud\n",
    "municipio13_si = df_13_si.Municipio\n",
    "municipio13_no = df_13_no.Municipio"
   ]
  },
  {
   "cell_type": "code",
   "execution_count": 7,
   "metadata": {},
   "outputs": [
    {
     "data": {
      "text/html": [
       "<iframe id=\"igraph\" scrolling=\"no\" style=\"border:none;\" seamless=\"seamless\" src=\"https://plot.ly/~UrtziFM/7.embed\" height=\"800px\" width=\"975px\"></iframe>"
      ],
      "text/plain": [
       "<plotly.tools.PlotlyDisplay object>"
      ]
     },
     "execution_count": 7,
     "metadata": {},
     "output_type": "execute_result"
    }
   ],
   "source": [
    "data = [\n",
    "    go.Scattermapbox(\n",
    "        lat=latitud13_si,\n",
    "        lon=longitud13_si,\n",
    "        name='Municipios Más Participativos',\n",
    "        mode='markers',\n",
    "        marker=go.scattermapbox.Marker(\n",
    "            size=11,\n",
    "            color='blue',\n",
    "            opacity=1\n",
    "        ),\n",
    "        text=municipio13_si\n",
    "    ),\n",
    "     go.Scattermapbox(\n",
    "        lat=latitud13_no,\n",
    "        lon=longitud13_no,\n",
    "        name='Municipios Menos Participativos',\n",
    "        mode='markers',\n",
    "        marker=go.scattermapbox.Marker(\n",
    "            size=11,\n",
    "            color='red',\n",
    "            opacity=1,\n",
    "        ),\n",
    "        text=municipio13_no\n",
    "    )]\n",
    "\n",
    "layout = go.Layout(\n",
    "    autosize=True,\n",
    "    hovermode='closest',\n",
    "    height= 800,\n",
    "    width= 975,\n",
    "    title='Predicción para el 2015 con datos del 2013 (Mediana utilizada para clasificar: 72.59%)',\n",
    "    mapbox=go.layout.Mapbox(\n",
    "        accesstoken=mapbox_access_token,\n",
    "        bearing=0,\n",
    "        center=go.layout.mapbox.Center(\n",
    "            lat= 42.93333,\n",
    "            lon= -2.5833\n",
    "        ),\n",
    "        pitch=0,\n",
    "        zoom=8,\n",
    "        style='light'\n",
    "    ),\n",
    ")\n",
    "\n",
    "\n",
    "fig = go.Figure(data=data, layout=layout)\n",
    "py.iplot(fig, filename='Mapa_Euskadi13')\n"
   ]
  },
  {
   "cell_type": "code",
   "execution_count": 8,
   "metadata": {},
   "outputs": [],
   "source": [
    "df_15_si = pd.read_csv('../TFM/df_foto_real15_si.csv')\n",
    "df_15_no = pd.read_csv('../TFM/df_foto_real15_no.csv')\n",
    "\n",
    "\n",
    "latitud15_si = df_15_si.latitud\n",
    "latitud15_no = df_15_no.latitud\n",
    "longitud15_si = df_15_si.longitud\n",
    "longitud15_no = df_15_no.longitud\n",
    "municipio15_si = df_15_si.Municipio\n",
    "municipio15_no = df_15_no.Municipio"
   ]
  },
  {
   "cell_type": "code",
   "execution_count": 9,
   "metadata": {},
   "outputs": [
    {
     "data": {
      "text/html": [
       "<iframe id=\"igraph\" scrolling=\"no\" style=\"border:none;\" seamless=\"seamless\" src=\"https://plot.ly/~UrtziFM/9.embed\" height=\"800px\" width=\"975px\"></iframe>"
      ],
      "text/plain": [
       "<plotly.tools.PlotlyDisplay object>"
      ]
     },
     "execution_count": 9,
     "metadata": {},
     "output_type": "execute_result"
    }
   ],
   "source": [
    "data = [\n",
    "    go.Scattermapbox(\n",
    "        lat=latitud15_si,\n",
    "        lon=longitud15_si,\n",
    "        name='Municipios Más Participativos',\n",
    "        mode='markers',\n",
    "        marker=go.scattermapbox.Marker(\n",
    "            size=11,\n",
    "            color='blue',\n",
    "            opacity=1\n",
    "        ),\n",
    "        text=municipio15_si\n",
    "    ),\n",
    "     go.Scattermapbox(\n",
    "        lat=latitud15_no,\n",
    "        lon=longitud15_no,\n",
    "        name='Municipios Menos Participativos',\n",
    "        mode='markers',\n",
    "        marker=go.scattermapbox.Marker(\n",
    "            size=11,\n",
    "            color='red',\n",
    "            opacity=1,\n",
    "        ),\n",
    "        text=municipio15_no\n",
    "    )]\n",
    "\n",
    "layout = go.Layout(\n",
    "    autosize=True,\n",
    "    hovermode='closest',\n",
    "    height= 800,\n",
    "    width= 975,\n",
    "    title='Resultados elecciones del 2015 (Mediana utilizada para clasificar: 72.59%)',\n",
    "    mapbox=go.layout.Mapbox(\n",
    "        accesstoken=mapbox_access_token,\n",
    "        bearing=0,\n",
    "        center=go.layout.mapbox.Center(\n",
    "            lat= 42.93333,\n",
    "            lon= -2.5833\n",
    "        ),\n",
    "        pitch=0,\n",
    "        zoom=8,\n",
    "        style='light'\n",
    "    ),\n",
    ")\n",
    "\n",
    "\n",
    "fig = go.Figure(data=data, layout=layout)\n",
    "py.iplot(fig, filename='Mapa_Euskadi15')\n"
   ]
  },
  {
   "cell_type": "code",
   "execution_count": 20,
   "metadata": {},
   "outputs": [],
   "source": [
    "df_17_si = pd.read_csv('../TFM/df_foto_pred17_si.csv')\n",
    "df_17_no = pd.read_csv('../TFM/df_foto_pred17_no.csv')\n",
    "\n",
    "\n",
    "latitud17_si = df_17_si.latitud\n",
    "latitud17_no = df_17_no.latitud\n",
    "longitud17_si = df_17_si.longitud\n",
    "longitud17_no = df_17_no.longitud\n",
    "municipio17_si = df_17_si.Municipio\n",
    "municipio17_no = df_17_no.Municipio"
   ]
  },
  {
   "cell_type": "code",
   "execution_count": 39,
   "metadata": {},
   "outputs": [
    {
     "data": {
      "text/html": [
       "<iframe id=\"igraph\" scrolling=\"no\" style=\"border:none;\" seamless=\"seamless\" src=\"https://plot.ly/~UrtziFM/16.embed\" height=\"800px\" width=\"975px\"></iframe>"
      ],
      "text/plain": [
       "<plotly.tools.PlotlyDisplay object>"
      ]
     },
     "execution_count": 39,
     "metadata": {},
     "output_type": "execute_result"
    }
   ],
   "source": [
    "data = [\n",
    "    go.Scattermapbox(\n",
    "        lat=latitud17_si,\n",
    "        lon=longitud17_si,\n",
    "        name='Municipios Más Participativos',\n",
    "        mode='markers',\n",
    "        marker=go.scattermapbox.Marker(\n",
    "            size=11,\n",
    "            color='blue',\n",
    "            opacity=1\n",
    "        ),\n",
    "        text=municipio17_si\n",
    "    ),\n",
    "     go.Scattermapbox(\n",
    "        lat=latitud17_no,\n",
    "        lon=longitud17_no,\n",
    "        name='Municipios Menos Participativos',\n",
    "        mode='markers',\n",
    "        marker=go.scattermapbox.Marker(\n",
    "            size=11,\n",
    "            color='red',\n",
    "            opacity=1,\n",
    "        ),\n",
    "        text=municipio17_no\n",
    "    )]\n",
    "\n",
    "layout = go.Layout(\n",
    "    title='Predicción para el 2019 (Mediana utilizada para clasificar: 72.59%)',\n",
    "    autosize=True,\n",
    "    hovermode='closest',\n",
    "    height= 800,\n",
    "    width= 975,\n",
    "    showlegend=True,\n",
    "    mapbox=go.layout.Mapbox(\n",
    "        accesstoken=mapbox_access_token,\n",
    "        bearing=0,\n",
    "        center=go.layout.mapbox.Center(\n",
    "            lat= 42.93333,\n",
    "            lon= -2.5833\n",
    "        ),\n",
    "        pitch=0,\n",
    "        zoom=8,\n",
    "        style='light'\n",
    "    ),\n",
    ")\n",
    "\n",
    "\n",
    "fig = go.Figure(data=data, layout=layout)\n",
    "py.iplot(fig, filename='Mapa_Euskadi19_clf')"
   ]
  },
  {
   "cell_type": "code",
   "execution_count": 35,
   "metadata": {},
   "outputs": [],
   "source": [
    "df_foto_pred19 = pd.read_csv('../TFM/Elecciones_2019.csv')\n",
    "\n",
    "\n",
    "df_foto_pred19_si = df_foto_pred19[df_foto_pred19['Prediccion'] == 1]\n",
    "df_foto_pred19_no = df_foto_pred19[df_foto_pred19['Prediccion'] == 2]\n",
    "\n"
   ]
  },
  {
   "cell_type": "code",
   "execution_count": 61,
   "metadata": {},
   "outputs": [],
   "source": [
    "latitud19_si = df_foto_pred19_si.latitud\n",
    "latitud19_no = df_foto_pred19_no.latitud\n",
    "longitud19_si = df_foto_pred19_si.longitud\n",
    "longitud19_no = df_foto_pred19_no.longitud\n",
    "municipio19_si = df_foto_pred19_si['Municipio'] + ' ' + df_foto_pred19_si['part_pred_2019'].astype('str') \n",
    "municipio19_no = df_foto_pred19_no['Municipio'] + ' ' + df_foto_pred19_no['part_pred_2019'].astype('str')"
   ]
  },
  {
   "cell_type": "code",
   "execution_count": 62,
   "metadata": {},
   "outputs": [
    {
     "data": {
      "text/html": [
       "<iframe id=\"igraph\" scrolling=\"no\" style=\"border:none;\" seamless=\"seamless\" src=\"https://plot.ly/~UrtziFM/18.embed\" height=\"800px\" width=\"975px\"></iframe>"
      ],
      "text/plain": [
       "<plotly.tools.PlotlyDisplay object>"
      ]
     },
     "execution_count": 62,
     "metadata": {},
     "output_type": "execute_result"
    }
   ],
   "source": [
    "data = [\n",
    "    go.Scattermapbox(\n",
    "        lat=latitud19_si,\n",
    "        lon=longitud19_si,\n",
    "        name='Municipios Más Participativos',\n",
    "        mode='markers',\n",
    "        marker=go.scattermapbox.Marker(\n",
    "            size=11,\n",
    "            color='blue',\n",
    "            opacity=1\n",
    "        ),\n",
    "        text=municipio19_si\n",
    "\n",
    "    ),\n",
    "     go.Scattermapbox(\n",
    "        lat=latitud19_no,\n",
    "        lon=longitud19_no,\n",
    "        name='Municipios Menos Participativos',\n",
    "        mode='markers',\n",
    "        marker=go.scattermapbox.Marker(\n",
    "            size=11,\n",
    "            color='red',\n",
    "            opacity=1,\n",
    "        ),\n",
    "        text=municipio19_no\n",
    "    )]\n",
    "\n",
    "layout = go.Layout(\n",
    "    title='Predicción para el 2019 (Mediana utilizada para clasificar: 72.59%)',\n",
    "    autosize=True,\n",
    "    hovermode='closest',\n",
    "    height= 800,\n",
    "    width= 975,\n",
    "    showlegend=True,\n",
    "    mapbox=go.layout.Mapbox(\n",
    "        accesstoken=mapbox_access_token,\n",
    "        bearing=0,\n",
    "        center=go.layout.mapbox.Center(\n",
    "            lat= 42.93333,\n",
    "            lon= -2.5833\n",
    "        ),\n",
    "        pitch=0,\n",
    "        zoom=8,\n",
    "        style='light'\n",
    "    ),\n",
    ")\n",
    "\n",
    "\n",
    "fig = go.Figure(data=data, layout=layout)\n",
    "py.iplot(fig, filename='Mapa_Euskadi19_rgs')"
   ]
  },
  {
   "cell_type": "code",
   "execution_count": 63,
   "metadata": {},
   "outputs": [],
   "source": [
    "from apng import APNG\n",
    "APNG.from_files(['../TFM/0_Mapas/0pred09.png',\n",
    "                 '../TFM/0_Mapas/1real11.png', \n",
    "                 '../TFM/0_Mapas/2pred13.png',\n",
    "                 '../TFM/0_Mapas/3real15.png',\n",
    "                 '../TFM/0_Mapas/4pred17.png',\n",
    "                '../TFM/0_Mapas/5pred19.png'], \n",
    "                 delay=60).save('../TFM/0_Mapas/animacion.gif')"
   ]
  },
  {
   "cell_type": "code",
   "execution_count": 14,
   "metadata": {},
   "outputs": [],
   "source": [
    "from PIL import Image\n",
    "imagen = Image.open(\"../TFM/0_Mapas/animacion.gif\")\n",
    "imagen.show()"
   ]
  },
  {
   "cell_type": "code",
   "execution_count": 3,
   "metadata": {},
   "outputs": [],
   "source": [
    "#Laguardia #Pasaia #Gasteiz"
   ]
  }
 ],
 "metadata": {
  "kernelspec": {
   "display_name": "Python 3",
   "language": "python",
   "name": "python3"
  },
  "language_info": {
   "codemirror_mode": {
    "name": "ipython",
    "version": 3
   },
   "file_extension": ".py",
   "mimetype": "text/x-python",
   "name": "python",
   "nbconvert_exporter": "python",
   "pygments_lexer": "ipython3",
   "version": "3.6.5"
  }
 },
 "nbformat": 4,
 "nbformat_minor": 2
}
