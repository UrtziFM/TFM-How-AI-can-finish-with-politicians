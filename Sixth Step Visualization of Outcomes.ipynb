{
 "cells": [
  {
   "cell_type": "markdown",
   "metadata": {},
   "source": [
    "## Para visualizar de la manera mas didactica y simple posible los diferentes resultados de los modelos de clasificacion y de regresion, vamos a utilizar la libreria plotly, un mapa de Euskadi y una trasposicion de los datos en los diferentes años.\n",
    "Los datos de prediccion a 2009 vs los datos reales del 2011\n",
    "Los datos de prediccion a 2013 vs los datos reales del 2015\n",
    "Los datos de prediccion a 2017 (clasificacion y regresion)"
   ]
  },
  {
   "cell_type": "code",
   "execution_count": 1,
   "metadata": {},
   "outputs": [
    {
     "data": {
      "text/html": [
       "<script type=\"text/javascript\">window.PlotlyConfig = {MathJaxConfig: 'local'};</script><script type=\"text/javascript\">if (window.MathJax) {MathJax.Hub.Config({SVG: {font: \"STIX-Web\"}});}</script><script>requirejs.config({paths: { 'plotly': ['https://cdn.plot.ly/plotly-latest.min']},});if(!window._Plotly) {require(['plotly'],function(plotly) {window._Plotly=plotly;});}</script>"
      ],
      "text/vnd.plotly.v1+html": [
       "<script type=\"text/javascript\">window.PlotlyConfig = {MathJaxConfig: 'local'};</script><script type=\"text/javascript\">if (window.MathJax) {MathJax.Hub.Config({SVG: {font: \"STIX-Web\"}});}</script><script>requirejs.config({paths: { 'plotly': ['https://cdn.plot.ly/plotly-latest.min']},});if(!window._Plotly) {require(['plotly'],function(plotly) {window._Plotly=plotly;});}</script>"
      ]
     },
     "metadata": {},
     "output_type": "display_data"
    }
   ],
   "source": [
    "import pandas as pd\n",
    "import plotly.plotly as py\n",
    "import plotly.graph_objs as go\n",
    "import plotly.offline as offline\n",
    "import plotly\n",
    "\n",
    "plotly.tools.set_credentials_file(username='UrtziFM', api_key='TJLRaOJ9SZGiHaYgUPMx')\n",
    "plotly.offline.init_notebook_mode(connected=True)\n",
    "mapbox_access_token = 'pk.eyJ1IjoidXJ0emlmbSIsImEiOiJjanR4NmljbDkxNmJiM3lsejdiNXZkNHg2In0.7PNq42cBoTOJ36Y_j7h52A'\n",
    "\n",
    "df_09_si = pd.read_csv('../TFM/df_foto_pred09_si.csv')\n",
    "df_09_no = pd.read_csv('../TFM/df_foto_pred09_no.csv')\n",
    "\n",
    "\n",
    "latitud09_si = df_09_si.latitud\n",
    "latitud09_no = df_09_no.latitud\n",
    "longitud09_si = df_09_si.longitud\n",
    "longitud09_no = df_09_no.longitud\n",
    "municipio09_si = df_09_si.Municipio\n",
    "municipio09_no = df_09_no.Municipio\n",
    "\n",
    "\n"
   ]
  },
  {
   "cell_type": "code",
   "execution_count": 2,
   "metadata": {},
   "outputs": [
    {
     "data": {
      "text/html": [
       "<iframe id=\"igraph\" scrolling=\"no\" style=\"border:none;\" seamless=\"seamless\" src=\"https://plot.ly/~UrtziFM/3.embed\" height=\"800px\" width=\"975px\"></iframe>"
      ],
      "text/plain": [
       "<plotly.tools.PlotlyDisplay object>"
      ]
     },
     "execution_count": 2,
     "metadata": {},
     "output_type": "execute_result"
    }
   ],
   "source": [
    "data = [\n",
    "    go.Scattermapbox(\n",
    "        lat=latitud09_si,\n",
    "        lon=longitud09_si,\n",
    "        name='Municipios Más Participativos',\n",
    "        mode='markers',\n",
    "        marker=go.scattermapbox.Marker(\n",
    "            size=11,\n",
    "            color='blue',\n",
    "            opacity=1\n",
    "        ),\n",
    "        text=municipio09_si\n",
    "    ),\n",
    "     go.Scattermapbox(\n",
    "        lat=latitud09_no,\n",
    "        lon=longitud09_no,\n",
    "        name='Municipios Menos Participativos',\n",
    "        mode='markers',\n",
    "        marker=go.scattermapbox.Marker(\n",
    "            size=11,\n",
    "            color='red',\n",
    "            opacity=1,\n",
    "        ),\n",
    "        text=municipio09_no\n",
    "    )]\n",
    "\n",
    "layout = go.Layout(\n",
    "    autosize=True,\n",
    "    hovermode='closest',\n",
    "    height= 800,\n",
    "    width= 975,\n",
    "    title='Predicción para el 2011 con datos del 2009 (Mediana utilizada para clasificar: 72.59%)',\n",
    "    mapbox=go.layout.Mapbox(\n",
    "        accesstoken=mapbox_access_token,\n",
    "        bearing=0,\n",
    "        center=go.layout.mapbox.Center(\n",
    "            lat= 42.93333,\n",
    "            lon= -2.5833\n",
    "        ),\n",
    "        pitch=0,\n",
    "        zoom=8,\n",
    "        style='light'\n",
    "    ),\n",
    ")\n",
    "\n",
    "\n",
    "fig = go.Figure(data=data, layout=layout)\n",
    "py.iplot(fig, filename='Mapa_Euskadi09')\n"
   ]
  },
  {
   "cell_type": "code",
   "execution_count": 3,
   "metadata": {},
   "outputs": [],
   "source": [
    "df_11_si = pd.read_csv('../TFM/df_foto_real11_si.csv')\n",
    "df_11_no = pd.read_csv('../TFM/df_foto_real11_no.csv')\n",
    "\n",
    "\n",
    "latitud11_si = df_11_si.latitud\n",
    "latitud11_no = df_11_no.latitud\n",
    "longitud11_si = df_11_si.longitud\n",
    "longitud11_no = df_11_no.longitud\n",
    "municipio11_si = df_11_si.Municipio\n",
    "municipio11_no = df_11_no.Municipio"
   ]
  },
  {
   "cell_type": "code",
   "execution_count": 4,
   "metadata": {},
   "outputs": [
    {
     "data": {
      "text/html": [
       "<iframe id=\"igraph\" scrolling=\"no\" style=\"border:none;\" seamless=\"seamless\" src=\"https://plot.ly/~UrtziFM/5.embed\" height=\"800px\" width=\"975px\"></iframe>"
      ],
      "text/plain": [
       "<plotly.tools.PlotlyDisplay object>"
      ]
     },
     "execution_count": 4,
     "metadata": {},
     "output_type": "execute_result"
    }
   ],
   "source": [
    "data = [\n",
    "    go.Scattermapbox(\n",
    "        lat=latitud11_si,\n",
    "        lon=longitud11_si,\n",
    "        name='Municipios Más Participativos',\n",
    "        mode='markers',\n",
    "        marker=go.scattermapbox.Marker(\n",
    "            size=11,\n",
    "            color='blue',\n",
    "            opacity=1\n",
    "        ),\n",
    "        text=municipio11_si\n",
    "    ),\n",
    "     go.Scattermapbox(\n",
    "        lat=latitud11_no,\n",
    "        lon=longitud11_no,\n",
    "        name='Municipios Menos Participativos',\n",
    "        mode='markers',\n",
    "        marker=go.scattermapbox.Marker(\n",
    "            size=11,\n",
    "            color='red',\n",
    "            opacity=1,\n",
    "        ),\n",
    "        text=municipio11_no\n",
    "    )]\n",
    "\n",
    "layout = go.Layout(\n",
    "    autosize=True,\n",
    "    hovermode='closest',\n",
    "    height= 800,\n",
    "    width= 975,\n",
    "    title='Resultado elcciones del 2011 (Mediana utilizada para clasificar: 72.59%)',\n",
    "    mapbox=go.layout.Mapbox(\n",
    "        accesstoken=mapbox_access_token,\n",
    "        bearing=0,\n",
    "        center=go.layout.mapbox.Center(\n",
    "            lat= 42.93333,\n",
    "            lon= -2.5833\n",
    "        ),\n",
    "        pitch=0,\n",
    "        zoom=8,\n",
    "        style='light'\n",
    "    ),\n",
    ")\n",
    "\n",
    "\n",
    "fig = go.Figure(data=data, layout=layout)\n",
    "py.iplot(fig, filename='Mapa_Euskadi11')\n"
   ]
  },
  {
   "cell_type": "code",
   "execution_count": 5,
   "metadata": {},
   "outputs": [],
   "source": [
    "df_13_si = pd.read_csv('../TFM/df_foto_pred13_si.csv')\n",
    "df_13_no = pd.read_csv('../TFM/df_foto_pred13_no.csv')\n",
    "\n",
    "\n",
    "latitud13_si = df_13_si.latitud\n",
    "latitud13_no = df_13_no.latitud\n",
    "longitud13_si = df_13_si.longitud\n",
    "longitud13_no = df_13_no.longitud\n",
    "municipio13_si = df_13_si.Municipio\n",
    "municipio13_no = df_13_no.Municipio"
   ]
  },
  {
   "cell_type": "code",
   "execution_count": 6,
   "metadata": {},
   "outputs": [
    {
     "data": {
      "text/html": [
       "<iframe id=\"igraph\" scrolling=\"no\" style=\"border:none;\" seamless=\"seamless\" src=\"https://plot.ly/~UrtziFM/7.embed\" height=\"800px\" width=\"975px\"></iframe>"
      ],
      "text/plain": [
       "<plotly.tools.PlotlyDisplay object>"
      ]
     },
     "execution_count": 6,
     "metadata": {},
     "output_type": "execute_result"
    }
   ],
   "source": [
    "data = [\n",
    "    go.Scattermapbox(\n",
    "        lat=latitud13_si,\n",
    "        lon=longitud13_si,\n",
    "        name='Municipios Más Participativos',\n",
    "        mode='markers',\n",
    "        marker=go.scattermapbox.Marker(\n",
    "            size=11,\n",
    "            color='blue',\n",
    "            opacity=1\n",
    "        ),\n",
    "        text=municipio13_si\n",
    "    ),\n",
    "     go.Scattermapbox(\n",
    "        lat=latitud13_no,\n",
    "        lon=longitud13_no,\n",
    "        name='Municipios Menos Participativos',\n",
    "        mode='markers',\n",
    "        marker=go.scattermapbox.Marker(\n",
    "            size=11,\n",
    "            color='red',\n",
    "            opacity=1,\n",
    "        ),\n",
    "        text=municipio13_no\n",
    "    )]\n",
    "\n",
    "layout = go.Layout(\n",
    "    autosize=True,\n",
    "    hovermode='closest',\n",
    "    height= 800,\n",
    "    width= 975,\n",
    "    title='Predicción para el 2015 con datos del 2013 (Mediana utilizada para clasificar: 72.59%)',\n",
    "    mapbox=go.layout.Mapbox(\n",
    "        accesstoken=mapbox_access_token,\n",
    "        bearing=0,\n",
    "        center=go.layout.mapbox.Center(\n",
    "            lat= 42.93333,\n",
    "            lon= -2.5833\n",
    "        ),\n",
    "        pitch=0,\n",
    "        zoom=8,\n",
    "        style='light'\n",
    "    ),\n",
    ")\n",
    "\n",
    "\n",
    "fig = go.Figure(data=data, layout=layout)\n",
    "py.iplot(fig, filename='Mapa_Euskadi13')\n"
   ]
  },
  {
   "cell_type": "code",
   "execution_count": 7,
   "metadata": {},
   "outputs": [],
   "source": [
    "df_15_si = pd.read_csv('../TFM/df_foto_real15_si.csv')\n",
    "df_15_no = pd.read_csv('../TFM/df_foto_real15_no.csv')\n",
    "\n",
    "\n",
    "latitud15_si = df_15_si.latitud\n",
    "latitud15_no = df_15_no.latitud\n",
    "longitud15_si = df_15_si.longitud\n",
    "longitud15_no = df_15_no.longitud\n",
    "municipio15_si = df_15_si.Municipio\n",
    "municipio15_no = df_15_no.Municipio"
   ]
  },
  {
   "cell_type": "code",
   "execution_count": 8,
   "metadata": {},
   "outputs": [
    {
     "data": {
      "text/html": [
       "<iframe id=\"igraph\" scrolling=\"no\" style=\"border:none;\" seamless=\"seamless\" src=\"https://plot.ly/~UrtziFM/9.embed\" height=\"800px\" width=\"975px\"></iframe>"
      ],
      "text/plain": [
       "<plotly.tools.PlotlyDisplay object>"
      ]
     },
     "execution_count": 8,
     "metadata": {},
     "output_type": "execute_result"
    }
   ],
   "source": [
    "data = [\n",
    "    go.Scattermapbox(\n",
    "        lat=latitud15_si,\n",
    "        lon=longitud15_si,\n",
    "        name='Municipios Más Participativos',\n",
    "        mode='markers',\n",
    "        marker=go.scattermapbox.Marker(\n",
    "            size=11,\n",
    "            color='blue',\n",
    "            opacity=1\n",
    "        ),\n",
    "        text=municipio15_si\n",
    "    ),\n",
    "     go.Scattermapbox(\n",
    "        lat=latitud15_no,\n",
    "        lon=longitud15_no,\n",
    "        name='Municipios Menos Participativos',\n",
    "        mode='markers',\n",
    "        marker=go.scattermapbox.Marker(\n",
    "            size=11,\n",
    "            color='red',\n",
    "            opacity=1,\n",
    "        ),\n",
    "        text=municipio15_no\n",
    "    )]\n",
    "\n",
    "layout = go.Layout(\n",
    "    autosize=True,\n",
    "    hovermode='closest',\n",
    "    height= 800,\n",
    "    width= 975,\n",
    "    title='Resultados elecciones del 2015 (Mediana utilizada para clasificar: 72.59%)',\n",
    "    mapbox=go.layout.Mapbox(\n",
    "        accesstoken=mapbox_access_token,\n",
    "        bearing=0,\n",
    "        center=go.layout.mapbox.Center(\n",
    "            lat= 42.93333,\n",
    "            lon= -2.5833\n",
    "        ),\n",
    "        pitch=0,\n",
    "        zoom=8,\n",
    "        style='light'\n",
    "    ),\n",
    ")\n",
    "\n",
    "\n",
    "fig = go.Figure(data=data, layout=layout)\n",
    "py.iplot(fig, filename='Mapa_Euskadi15')\n"
   ]
  },
  {
   "cell_type": "code",
   "execution_count": 9,
   "metadata": {},
   "outputs": [],
   "source": [
    "df_17_si = pd.read_csv('../TFM/df_foto_pred17_si.csv')\n",
    "df_17_no = pd.read_csv('../TFM/df_foto_pred17_no.csv')\n",
    "\n",
    "\n",
    "latitud17_si = df_17_si.latitud\n",
    "latitud17_no = df_17_no.latitud\n",
    "longitud17_si = df_17_si.longitud\n",
    "longitud17_no = df_17_no.longitud\n",
    "municipio17_si = df_17_si.Municipio\n",
    "municipio17_no = df_17_no.Municipio"
   ]
  },
  {
   "cell_type": "code",
   "execution_count": 10,
   "metadata": {},
   "outputs": [
    {
     "data": {
      "text/html": [
       "<iframe id=\"igraph\" scrolling=\"no\" style=\"border:none;\" seamless=\"seamless\" src=\"https://plot.ly/~UrtziFM/16.embed\" height=\"800px\" width=\"975px\"></iframe>"
      ],
      "text/plain": [
       "<plotly.tools.PlotlyDisplay object>"
      ]
     },
     "execution_count": 10,
     "metadata": {},
     "output_type": "execute_result"
    }
   ],
   "source": [
    "data = [\n",
    "    go.Scattermapbox(\n",
    "        lat=latitud17_si,\n",
    "        lon=longitud17_si,\n",
    "        name='Municipios Más Participativos',\n",
    "        mode='markers',\n",
    "        marker=go.scattermapbox.Marker(\n",
    "            size=11,\n",
    "            color='blue',\n",
    "            opacity=1\n",
    "        ),\n",
    "        text=municipio17_si\n",
    "    ),\n",
    "     go.Scattermapbox(\n",
    "        lat=latitud17_no,\n",
    "        lon=longitud17_no,\n",
    "        name='Municipios Menos Participativos',\n",
    "        mode='markers',\n",
    "        marker=go.scattermapbox.Marker(\n",
    "            size=11,\n",
    "            color='red',\n",
    "            opacity=1,\n",
    "        ),\n",
    "        text=municipio17_no\n",
    "    )]\n",
    "\n",
    "layout = go.Layout(\n",
    "    title='Predicción para el 2019 (Mediana utilizada para clasificar: 72.59%)',\n",
    "    autosize=True,\n",
    "    hovermode='closest',\n",
    "    height= 800,\n",
    "    width= 975,\n",
    "    showlegend=True,\n",
    "    mapbox=go.layout.Mapbox(\n",
    "        accesstoken=mapbox_access_token,\n",
    "        bearing=0,\n",
    "        center=go.layout.mapbox.Center(\n",
    "            lat= 42.93333,\n",
    "            lon= -2.5833\n",
    "        ),\n",
    "        pitch=0,\n",
    "        zoom=8,\n",
    "        style='light'\n",
    "    ),\n",
    ")\n",
    "\n",
    "\n",
    "fig = go.Figure(data=data, layout=layout)\n",
    "py.iplot(fig, filename='Mapa_Euskadi19_clf')"
   ]
  },
  {
   "cell_type": "code",
   "execution_count": 11,
   "metadata": {},
   "outputs": [],
   "source": [
    "df_foto_pred19 = pd.read_csv('../TFM/Elecciones_2019.csv')\n",
    "\n",
    "\n",
    "df_foto_pred19_si = df_foto_pred19[df_foto_pred19['Prediccion'] == 1]\n",
    "df_foto_pred19_no = df_foto_pred19[df_foto_pred19['Prediccion'] == 2]\n",
    "\n"
   ]
  },
  {
   "cell_type": "code",
   "execution_count": 12,
   "metadata": {},
   "outputs": [],
   "source": [
    "latitud19_si = df_foto_pred19_si.latitud\n",
    "latitud19_no = df_foto_pred19_no.latitud\n",
    "longitud19_si = df_foto_pred19_si.longitud\n",
    "longitud19_no = df_foto_pred19_no.longitud\n",
    "municipio19_si = df_foto_pred19_si['Municipio'] + ' ' + df_foto_pred19_si['part_pred_2019'].astype('str') \n",
    "municipio19_no = df_foto_pred19_no['Municipio'] + ' ' + df_foto_pred19_no['part_pred_2019'].astype('str')"
   ]
  },
  {
   "cell_type": "code",
   "execution_count": 13,
   "metadata": {},
   "outputs": [
    {
     "data": {
      "text/html": [
       "<iframe id=\"igraph\" scrolling=\"no\" style=\"border:none;\" seamless=\"seamless\" src=\"https://plot.ly/~UrtziFM/18.embed\" height=\"800px\" width=\"975px\"></iframe>"
      ],
      "text/plain": [
       "<plotly.tools.PlotlyDisplay object>"
      ]
     },
     "execution_count": 13,
     "metadata": {},
     "output_type": "execute_result"
    }
   ],
   "source": [
    "data = [\n",
    "    go.Scattermapbox(\n",
    "        lat=latitud19_si,\n",
    "        lon=longitud19_si,\n",
    "        name='Municipios Más Participativos',\n",
    "        mode='markers',\n",
    "        marker=go.scattermapbox.Marker(\n",
    "            size=11,\n",
    "            color='blue',\n",
    "            opacity=1\n",
    "        ),\n",
    "        text=municipio19_si\n",
    "\n",
    "    ),\n",
    "     go.Scattermapbox(\n",
    "        lat=latitud19_no,\n",
    "        lon=longitud19_no,\n",
    "        name='Municipios Menos Participativos',\n",
    "        mode='markers',\n",
    "        marker=go.scattermapbox.Marker(\n",
    "            size=11,\n",
    "            color='red',\n",
    "            opacity=1,\n",
    "        ),\n",
    "        text=municipio19_no\n",
    "    )]\n",
    "\n",
    "layout = go.Layout(\n",
    "    title='Predicción para el 2019 (Mediana utilizada para clasificar: 72.59%)',\n",
    "    autosize=True,\n",
    "    hovermode='closest',\n",
    "    height= 800,\n",
    "    width= 975,\n",
    "    showlegend=True,\n",
    "    mapbox=go.layout.Mapbox(\n",
    "        accesstoken=mapbox_access_token,\n",
    "        bearing=0,\n",
    "        center=go.layout.mapbox.Center(\n",
    "            lat= 42.93333,\n",
    "            lon= -2.5833\n",
    "        ),\n",
    "        pitch=0,\n",
    "        zoom=8,\n",
    "        style='light'\n",
    "    ),\n",
    ")\n",
    "\n",
    "\n",
    "fig = go.Figure(data=data, layout=layout)\n",
    "py.iplot(fig, filename='Mapa_Euskadi19_rgs')"
   ]
  },
  {
   "cell_type": "code",
   "execution_count": 63,
   "metadata": {},
   "outputs": [],
   "source": [
    "from apng import APNG\n",
    "APNG.from_files(['../TFM/0_Mapas/0pred09.png',\n",
    "                 '../TFM/0_Mapas/1real11.png', \n",
    "                 '../TFM/0_Mapas/2pred13.png',\n",
    "                 '../TFM/0_Mapas/3real15.png',\n",
    "                 '../TFM/0_Mapas/4pred17.png',\n",
    "                '../TFM/0_Mapas/5pred19.png'], \n",
    "                 delay=60).save('../TFM/0_Mapas/animacion.gif')"
   ]
  },
  {
   "cell_type": "code",
   "execution_count": 2,
   "metadata": {},
   "outputs": [],
   "source": [
    "from PIL import Image\n",
    "imagen = Image.open(\"../TFM/0_Mapas/animacion.gif\")\n",
    "imagen.show()"
   ]
  },
  {
   "cell_type": "code",
   "execution_count": 3,
   "metadata": {},
   "outputs": [
    {
     "data": {
      "text/html": [
       "<div align=\"middle\">\n",
       "<video width=\"80%\" controls>\n",
       "      <source src=\"../TFM/0_Mapas/20190416111248-6a870e5f2a.[gif-2-mp4.com].mp4\" type=\"video/mp4\">\n",
       "</video></div>"
      ],
      "text/plain": [
       "<IPython.core.display.HTML object>"
      ]
     },
     "metadata": {},
     "output_type": "display_data"
    }
   ],
   "source": [
    "%%HTML\n",
    "<div align=\"middle\">\n",
    "<video width=\"80%\" controls>\n",
    "      <source src=\"../TFM/0_Mapas/20190416111248-6a870e5f2a.[gif-2-mp4.com].mp4\" type=\"video/mp4\">\n",
    "</video></div>"
   ]
  },
  {
   "cell_type": "markdown",
   "metadata": {},
   "source": [
    "## Como puede comprobarse en el mapa de la prediccion para 2019 hay divergencia en algunos municipios entre lo que estimamos con el modelo de clasificacion (municipio si participativo o no participativo) y el modelo de regresion (porcentaje de participacion del municipio). Exactamente hay un 22% de casos de errorres (45 sobre 245)."
   ]
  },
  {
   "cell_type": "code",
   "execution_count": 14,
   "metadata": {},
   "outputs": [
    {
     "data": {
      "text/plain": [
       "33"
      ]
     },
     "execution_count": 14,
     "metadata": {},
     "output_type": "execute_result"
    }
   ],
   "source": [
    "(df_foto_pred19_no['part_pred_2019'] > 72).sum()"
   ]
  },
  {
   "cell_type": "code",
   "execution_count": 15,
   "metadata": {},
   "outputs": [
    {
     "data": {
      "text/plain": [
       "12"
      ]
     },
     "execution_count": 15,
     "metadata": {},
     "output_type": "execute_result"
    }
   ],
   "source": [
    "(df_foto_pred19_si['part_pred_2019'] < 72).sum()"
   ]
  },
  {
   "cell_type": "markdown",
   "metadata": {},
   "source": [
    "## En cierta manera era de esperar que la precisión de ambos modelos divergera en sus resultados, aunque teniendo en cuenta que estamos prediciendo la participacion electoral en base a indicadores de sostenibilidad implicitos (vs explicitos como las encuestas), consideramos que el error aunque mejorable es aceptable en un primer MVP."
   ]
  },
  {
   "cell_type": "markdown",
   "metadata": {},
   "source": [
    "## Aun con estos errores de precision, podemos intentar comprobar si la prediccion sobre participacion electoral media de los municipios vascos, es mas acertada de lo que se podria esperar con los datos que hemos conocido hasta ahora. "
   ]
  },
  {
   "cell_type": "markdown",
   "metadata": {},
   "source": [
    "##Para ello, tenemos que obtener los ultimos datos censales de los municipios vascos"
   ]
  },
  {
   "cell_type": "code",
   "execution_count": 17,
   "metadata": {},
   "outputs": [
    {
     "name": "stderr",
     "output_type": "stream",
     "text": [
      "/home/vant/anaconda3/lib/python3.6/site-packages/ipykernel_launcher.py:4: SettingWithCopyWarning:\n",
      "\n",
      "\n",
      "A value is trying to be set on a copy of a slice from a DataFrame.\n",
      "Try using .loc[row_indexer,col_indexer] = value instead\n",
      "\n",
      "See the caveats in the documentation: http://pandas.pydata.org/pandas-docs/stable/indexing.html#indexing-view-versus-copy\n",
      "\n"
     ]
    }
   ],
   "source": [
    "censo_electoral = pd.read_csv('../TFM/Censoelectoral/MunP16_c.csv', sep=';', encoding='latin-1', skiprows=2)\n",
    "censo = censo_electoral[['AMBITO','Censo']]\n",
    "censo.columns = ['Municipios', 'Censo']\n",
    "censo['Municipio'] = censo['Municipios'].str.title()"
   ]
  },
  {
   "cell_type": "markdown",
   "metadata": {},
   "source": [
    "##Hay 14 municipios que no tenian el mismo naming en ambos data set y por lo tanto no los ha mergido correctamente"
   ]
  },
  {
   "cell_type": "code",
   "execution_count": 56,
   "metadata": {},
   "outputs": [
    {
     "data": {
      "text/html": [
       "<div>\n",
       "<style scoped>\n",
       "    .dataframe tbody tr th:only-of-type {\n",
       "        vertical-align: middle;\n",
       "    }\n",
       "\n",
       "    .dataframe tbody tr th {\n",
       "        vertical-align: top;\n",
       "    }\n",
       "\n",
       "    .dataframe thead th {\n",
       "        text-align: right;\n",
       "    }\n",
       "</style>\n",
       "<table border=\"1\" class=\"dataframe\">\n",
       "  <thead>\n",
       "    <tr style=\"text-align: right;\">\n",
       "      <th></th>\n",
       "      <th>Unnamed: 0</th>\n",
       "      <th>Municipio</th>\n",
       "      <th>latitud</th>\n",
       "      <th>longitud</th>\n",
       "      <th>Prediccion</th>\n",
       "      <th>part_pred_2019</th>\n",
       "      <th>Municipios</th>\n",
       "      <th>Censo</th>\n",
       "    </tr>\n",
       "  </thead>\n",
       "  <tbody>\n",
       "    <tr>\n",
       "      <th>2</th>\n",
       "      <td>2</td>\n",
       "      <td>Abanto y Ciérvana-Abanto Zierbena</td>\n",
       "      <td>43.316992</td>\n",
       "      <td>-3.074254</td>\n",
       "      <td>2</td>\n",
       "      <td>64</td>\n",
       "      <td>NaN</td>\n",
       "      <td>NaN</td>\n",
       "    </tr>\n",
       "    <tr>\n",
       "      <th>30</th>\n",
       "      <td>30</td>\n",
       "      <td>Arrasate/Mondragón</td>\n",
       "      <td>43.065678</td>\n",
       "      <td>-2.490078</td>\n",
       "      <td>2</td>\n",
       "      <td>66</td>\n",
       "      <td>NaN</td>\n",
       "      <td>NaN</td>\n",
       "    </tr>\n",
       "    <tr>\n",
       "      <th>54</th>\n",
       "      <td>54</td>\n",
       "      <td>Baños de Ebro/Mañueta</td>\n",
       "      <td>42.529583</td>\n",
       "      <td>-2.678990</td>\n",
       "      <td>1</td>\n",
       "      <td>83</td>\n",
       "      <td>NaN</td>\n",
       "      <td>NaN</td>\n",
       "    </tr>\n",
       "    <tr>\n",
       "      <th>75</th>\n",
       "      <td>75</td>\n",
       "      <td>Donostia / San Sebastián</td>\n",
       "      <td>43.322422</td>\n",
       "      <td>-1.983889</td>\n",
       "      <td>2</td>\n",
       "      <td>62</td>\n",
       "      <td>NaN</td>\n",
       "      <td>NaN</td>\n",
       "    </tr>\n",
       "    <tr>\n",
       "      <th>115</th>\n",
       "      <td>115</td>\n",
       "      <td>Harana/Valle de Arana</td>\n",
       "      <td>42.756720</td>\n",
       "      <td>-2.320710</td>\n",
       "      <td>1</td>\n",
       "      <td>74</td>\n",
       "      <td>NaN</td>\n",
       "      <td>NaN</td>\n",
       "    </tr>\n",
       "    <tr>\n",
       "      <th>127</th>\n",
       "      <td>127</td>\n",
       "      <td>Iruña Oka/Iruña de Oca</td>\n",
       "      <td>42.824644</td>\n",
       "      <td>-2.820601</td>\n",
       "      <td>2</td>\n",
       "      <td>69</td>\n",
       "      <td>NaN</td>\n",
       "      <td>NaN</td>\n",
       "    </tr>\n",
       "    <tr>\n",
       "      <th>132</th>\n",
       "      <td>132</td>\n",
       "      <td>Karrantza Harana/Valle de Carranza</td>\n",
       "      <td>43.238893</td>\n",
       "      <td>-3.357711</td>\n",
       "      <td>2</td>\n",
       "      <td>77</td>\n",
       "      <td>NaN</td>\n",
       "      <td>NaN</td>\n",
       "    </tr>\n",
       "    <tr>\n",
       "      <th>141</th>\n",
       "      <td>141</td>\n",
       "      <td>Lapuebla de Labarca</td>\n",
       "      <td>42.493480</td>\n",
       "      <td>-2.575597</td>\n",
       "      <td>1</td>\n",
       "      <td>81</td>\n",
       "      <td>NaN</td>\n",
       "      <td>NaN</td>\n",
       "    </tr>\n",
       "    <tr>\n",
       "      <th>170</th>\n",
       "      <td>170</td>\n",
       "      <td>Moreda de Álava / Moreda Araba</td>\n",
       "      <td>42.527197</td>\n",
       "      <td>-2.416345</td>\n",
       "      <td>1</td>\n",
       "      <td>81</td>\n",
       "      <td>NaN</td>\n",
       "      <td>NaN</td>\n",
       "    </tr>\n",
       "    <tr>\n",
       "      <th>200</th>\n",
       "      <td>200</td>\n",
       "      <td>Salvatierra/Agurain</td>\n",
       "      <td>42.849282</td>\n",
       "      <td>-2.389059</td>\n",
       "      <td>2</td>\n",
       "      <td>68</td>\n",
       "      <td>NaN</td>\n",
       "      <td>NaN</td>\n",
       "    </tr>\n",
       "    <tr>\n",
       "      <th>209</th>\n",
       "      <td>209</td>\n",
       "      <td>Soraluze-Placencia de las Armas</td>\n",
       "      <td>43.174301</td>\n",
       "      <td>-2.412928</td>\n",
       "      <td>2</td>\n",
       "      <td>67</td>\n",
       "      <td>NaN</td>\n",
       "      <td>NaN</td>\n",
       "    </tr>\n",
       "    <tr>\n",
       "      <th>222</th>\n",
       "      <td>222</td>\n",
       "      <td>Valle de Trápaga-Trapagaran</td>\n",
       "      <td>43.304752</td>\n",
       "      <td>-3.037931</td>\n",
       "      <td>2</td>\n",
       "      <td>60</td>\n",
       "      <td>NaN</td>\n",
       "      <td>NaN</td>\n",
       "    </tr>\n",
       "    <tr>\n",
       "      <th>224</th>\n",
       "      <td>224</td>\n",
       "      <td>Villabuena de Álava/Eskuernaga</td>\n",
       "      <td>42.547019</td>\n",
       "      <td>-2.665437</td>\n",
       "      <td>1</td>\n",
       "      <td>82</td>\n",
       "      <td>NaN</td>\n",
       "      <td>NaN</td>\n",
       "    </tr>\n",
       "    <tr>\n",
       "      <th>240</th>\n",
       "      <td>240</td>\n",
       "      <td>Ziortza-Bolibar</td>\n",
       "      <td>43.249783</td>\n",
       "      <td>-2.549409</td>\n",
       "      <td>1</td>\n",
       "      <td>81</td>\n",
       "      <td>NaN</td>\n",
       "      <td>NaN</td>\n",
       "    </tr>\n",
       "  </tbody>\n",
       "</table>\n",
       "</div>"
      ],
      "text/plain": [
       "     Unnamed: 0                           Municipio    latitud  longitud  \\\n",
       "2             2   Abanto y Ciérvana-Abanto Zierbena  43.316992 -3.074254   \n",
       "30           30                  Arrasate/Mondragón  43.065678 -2.490078   \n",
       "54           54               Baños de Ebro/Mañueta  42.529583 -2.678990   \n",
       "75           75            Donostia / San Sebastián  43.322422 -1.983889   \n",
       "115         115               Harana/Valle de Arana  42.756720 -2.320710   \n",
       "127         127              Iruña Oka/Iruña de Oca  42.824644 -2.820601   \n",
       "132         132  Karrantza Harana/Valle de Carranza  43.238893 -3.357711   \n",
       "141         141                 Lapuebla de Labarca  42.493480 -2.575597   \n",
       "170         170      Moreda de Álava / Moreda Araba  42.527197 -2.416345   \n",
       "200         200                 Salvatierra/Agurain  42.849282 -2.389059   \n",
       "209         209     Soraluze-Placencia de las Armas  43.174301 -2.412928   \n",
       "222         222         Valle de Trápaga-Trapagaran  43.304752 -3.037931   \n",
       "224         224      Villabuena de Álava/Eskuernaga  42.547019 -2.665437   \n",
       "240         240                     Ziortza-Bolibar  43.249783 -2.549409   \n",
       "\n",
       "     Prediccion  part_pred_2019 Municipios  Censo  \n",
       "2             2              64        NaN    NaN  \n",
       "30            2              66        NaN    NaN  \n",
       "54            1              83        NaN    NaN  \n",
       "75            2              62        NaN    NaN  \n",
       "115           1              74        NaN    NaN  \n",
       "127           2              69        NaN    NaN  \n",
       "132           2              77        NaN    NaN  \n",
       "141           1              81        NaN    NaN  \n",
       "170           1              81        NaN    NaN  \n",
       "200           2              68        NaN    NaN  \n",
       "209           2              67        NaN    NaN  \n",
       "222           2              60        NaN    NaN  \n",
       "224           1              82        NaN    NaN  \n",
       "240           1              81        NaN    NaN  "
      ]
     },
     "execution_count": 56,
     "metadata": {},
     "output_type": "execute_result"
    }
   ],
   "source": [
    "df_11 = pd.merge(df_foto_pred19, censo, on='Municipio', how='left')\n",
    "df12 = df_11[df_11.Municipios.isnull()]\n",
    "df12.head(14)"
   ]
  },
  {
   "cell_type": "markdown",
   "metadata": {},
   "source": [
    "##Aunque sea de forma manual, podemos completar los datos del censo"
   ]
  },
  {
   "cell_type": "code",
   "execution_count": 102,
   "metadata": {},
   "outputs": [
    {
     "data": {
      "text/html": [
       "<div>\n",
       "<style scoped>\n",
       "    .dataframe tbody tr th:only-of-type {\n",
       "        vertical-align: middle;\n",
       "    }\n",
       "\n",
       "    .dataframe tbody tr th {\n",
       "        vertical-align: top;\n",
       "    }\n",
       "\n",
       "    .dataframe thead th {\n",
       "        text-align: right;\n",
       "    }\n",
       "</style>\n",
       "<table border=\"1\" class=\"dataframe\">\n",
       "  <thead>\n",
       "    <tr style=\"text-align: right;\">\n",
       "      <th></th>\n",
       "      <th>Municipios</th>\n",
       "      <th>Censo</th>\n",
       "      <th>Municipio</th>\n",
       "    </tr>\n",
       "  </thead>\n",
       "  <tbody>\n",
       "    <tr>\n",
       "      <th>111</th>\n",
       "      <td>ZIORTZA - BOLIBAR</td>\n",
       "      <td>363</td>\n",
       "      <td>Ziortza - Bolibar</td>\n",
       "    </tr>\n",
       "  </tbody>\n",
       "</table>\n",
       "</div>"
      ],
      "text/plain": [
       "            Municipios  Censo          Municipio\n",
       "111  ZIORTZA - BOLIBAR    363  Ziortza - Bolibar"
      ]
     },
     "execution_count": 102,
     "metadata": {},
     "output_type": "execute_result"
    }
   ],
   "source": [
    "censo[censo['Municipios'].str.contains('Zior', case=False)]"
   ]
  },
  {
   "cell_type": "code",
   "execution_count": 103,
   "metadata": {},
   "outputs": [],
   "source": [
    "df_11[df_11['Unnamed: 0'] == 240] = df_11[df_11['Unnamed: 0'] == 240].fillna(363)"
   ]
  },
  {
   "cell_type": "code",
   "execution_count": 107,
   "metadata": {},
   "outputs": [],
   "source": [
    "Censo_2019 = df_11.drop(['Unnamed: 0', 'Municipios'], axis=1)"
   ]
  },
  {
   "cell_type": "markdown",
   "metadata": {},
   "source": [
    "##Para calcular los votos de cada municipio multiplicamos el censo por el porcentaje de participacion"
   ]
  },
  {
   "cell_type": "code",
   "execution_count": 112,
   "metadata": {},
   "outputs": [],
   "source": [
    "Censo_2019['Part_Votos'] = Censo_2019['part_pred_2019']/100 * Censo_2019['Censo']"
   ]
  },
  {
   "cell_type": "markdown",
   "metadata": {},
   "source": [
    "##Dejemos el numero entero de votantes en cada municipio evitando partir algo que no se puede partir.."
   ]
  },
  {
   "cell_type": "code",
   "execution_count": 116,
   "metadata": {},
   "outputs": [],
   "source": [
    "Censo_2019['Part_Votos'] = Censo_2019['Part_Votos'].astype('int64')"
   ]
  },
  {
   "cell_type": "code",
   "execution_count": 125,
   "metadata": {},
   "outputs": [],
   "source": [
    "Censo_2019.to_csv('Votos_2019.csv')"
   ]
  },
  {
   "cell_type": "markdown",
   "metadata": {},
   "source": [
    "## Y ahora si, ya podemos calcular la participacion electoral de los municipios vascos: que como veis aqui abajo va a resultar ser de un %63.84"
   ]
  },
  {
   "cell_type": "code",
   "execution_count": 122,
   "metadata": {},
   "outputs": [],
   "source": [
    "Censo_Total = Censo_2019['Censo'].sum()"
   ]
  },
  {
   "cell_type": "code",
   "execution_count": 123,
   "metadata": {},
   "outputs": [
    {
     "data": {
      "text/plain": [
       "63.84088448821977"
      ]
     },
     "execution_count": 123,
     "metadata": {},
     "output_type": "execute_result"
    }
   ],
   "source": [
    "(Censo_2019['Part_Votos'].sum() * 100)/ Censo_Total"
   ]
  },
  {
   "cell_type": "markdown",
   "metadata": {},
   "source": [
    "## ¿Por que estan dificil saber quien va a ir a Votar?\n",
    "##Hay dos motivos muy humanos para explicarlo: que las personas somos optimistas en exceso y que nos gusta quedar bien"
   ]
  },
  {
   "cell_type": "markdown",
   "metadata": {},
   "source": [
    "## https://elpais.com/politica/2019/04/07/actualidad/1554639446_309283.html"
   ]
  }
 ],
 "metadata": {
  "kernelspec": {
   "display_name": "Python 3",
   "language": "python",
   "name": "python3"
  },
  "language_info": {
   "codemirror_mode": {
    "name": "ipython",
    "version": 3
   },
   "file_extension": ".py",
   "mimetype": "text/x-python",
   "name": "python",
   "nbconvert_exporter": "python",
   "pygments_lexer": "ipython3",
   "version": "3.6.5"
  }
 },
 "nbformat": 4,
 "nbformat_minor": 2
}
